{
  "nbformat": 4,
  "nbformat_minor": 0,
  "metadata": {
    "colab": {
      "name": "final_proj_notebook_baseline_per_std.ipynb",
      "provenance": [],
      "collapsed_sections": [],
      "machine_shape": "hm"
    },
    "kernelspec": {
      "name": "python3",
      "display_name": "Python 3"
    }
  },
  "cells": [
    {
      "cell_type": "code",
      "metadata": {
        "id": "WuCz0Vth7GJY",
        "colab_type": "code",
        "colab": {
          "base_uri": "https://localhost:8080/",
          "height": 136
        },
        "outputId": "e36c22bf-a902-4f20-9190-60ce94717718"
      },
      "source": [
        "import os\n",
        "\n",
        "# Install java\n",
        "! apt-get install -y openjdk-8-jdk-headless -qq > /dev/null\n",
        "os.environ[\"JAVA_HOME\"] = \"/usr/lib/jvm/java-8-openjdk-amd64\"\n",
        "os.environ[\"PATH\"] = os.environ[\"JAVA_HOME\"] + \"/bin:\" + os.environ[\"PATH\"]\n",
        "! java -version\n",
        "\n",
        "# Install pyspark\n",
        "! pip install --ignore-installed -q pyspark==2.4.4\n",
        "! pip install --ignore-installed -q spark-nlp==2.5.3"
      ],
      "execution_count": 1,
      "outputs": [
        {
          "output_type": "stream",
          "text": [
            "openjdk version \"1.8.0_252\"\n",
            "OpenJDK Runtime Environment (build 1.8.0_252-8u252-b09-1~18.04-b09)\n",
            "OpenJDK 64-Bit Server VM (build 25.252-b09, mixed mode)\n",
            "\u001b[K     |████████████████████████████████| 215.7MB 34kB/s \n",
            "\u001b[K     |████████████████████████████████| 204kB 55.5MB/s \n",
            "\u001b[?25h  Building wheel for pyspark (setup.py) ... \u001b[?25l\u001b[?25hdone\n",
            "\u001b[K     |████████████████████████████████| 133kB 6.5MB/s \n",
            "\u001b[?25h"
          ],
          "name": "stdout"
        }
      ]
    },
    {
      "cell_type": "code",
      "metadata": {
        "id": "XmZdhZ4u7PYF",
        "colab_type": "code",
        "colab": {
          "base_uri": "https://localhost:8080/",
          "height": 52
        },
        "outputId": "090e5c8d-4225-4400-905d-c41164d7b8a4"
      },
      "source": [
        "# Run this in console to keep Co Lab Running\n",
        "'''\n",
        "function ConnectButton(){\n",
        "    console.log(\"Connect pushed\"); \n",
        "    document.querySelector(\"#top-toolbar > colab-connect-button\").shadowRoot.querySelector(\"#connect\").click() \n",
        "}\n",
        "setInterval(ConnectButton,60000);\n",
        "'''"
      ],
      "execution_count": 2,
      "outputs": [
        {
          "output_type": "execute_result",
          "data": {
            "application/vnd.google.colaboratory.intrinsic": {
              "type": "string"
            },
            "text/plain": [
              "'\\nfunction ConnectButton(){\\n    console.log(\"Connect pushed\"); \\n    document.querySelector(\"#top-toolbar > colab-connect-button\").shadowRoot.querySelector(\"#connect\").click() \\n}\\nsetInterval(ConnectButton,60000);\\n'"
            ]
          },
          "metadata": {
            "tags": []
          },
          "execution_count": 2
        }
      ]
    },
    {
      "cell_type": "code",
      "metadata": {
        "id": "jj4oh8nz7UKD",
        "colab_type": "code",
        "colab": {}
      },
      "source": [
        "import sparknlp\n",
        "from sparknlp.base import *\n",
        "from sparknlp.annotator import *\n",
        "from sparknlp.common import *\n",
        "from pyspark.ml import Pipeline\n",
        "from pyspark.ml.tuning import TrainValidationSplit\n",
        "import pandas as pd\n",
        "import numpy as np\n",
        "import matplotlib.pyplot as plt"
      ],
      "execution_count": 3,
      "outputs": []
    },
    {
      "cell_type": "code",
      "metadata": {
        "id": "ciDDnn6E7fPO",
        "colab_type": "code",
        "colab": {}
      },
      "source": [
        "# Start Spark session\n",
        "spark = sparknlp.start()"
      ],
      "execution_count": 4,
      "outputs": []
    },
    {
      "cell_type": "code",
      "metadata": {
        "id": "t1lHLQ907h1a",
        "colab_type": "code",
        "colab": {
          "base_uri": "https://localhost:8080/",
          "height": 51
        },
        "outputId": "321b3eb5-02c6-4b4a-ac85-4225196ff413"
      },
      "source": [
        "# Best practice to print versions\n",
        "print(\"Spark NLP version\", sparknlp.version())\n",
        "print(\"Apache Spark version\", spark.version)"
      ],
      "execution_count": 5,
      "outputs": [
        {
          "output_type": "stream",
          "text": [
            "Spark NLP version 2.5.3\n",
            "Apache Spark version 2.4.4\n"
          ],
          "name": "stdout"
        }
      ]
    },
    {
      "cell_type": "code",
      "metadata": {
        "id": "fNdRSjOk7lQZ",
        "colab_type": "code",
        "colab": {
          "base_uri": "https://localhost:8080/",
          "height": 445
        },
        "outputId": "47278d92-a3b1-415e-bbd6-bcf990a7ce47"
      },
      "source": [
        "# Yin genius way of loading Amazon Data\n",
        "file = 'amazon_reviews_us_Pet_Products_v1_00.tsv.gz'\n",
        "os.system(f'wget https://s3.amazonaws.com/amazon-reviews-pds/tsv/{file}')\n",
        "df = pd.read_csv(file, compression='gzip', header=0, sep='\\t', error_bad_lines=False)"
      ],
      "execution_count": 6,
      "outputs": [
        {
          "output_type": "stream",
          "text": [
            "b'Skipping line 21404: expected 15 fields, saw 22\\nSkipping line 31839: expected 15 fields, saw 22\\nSkipping line 37779: expected 15 fields, saw 22\\nSkipping line 38344: expected 15 fields, saw 22\\nSkipping line 61449: expected 15 fields, saw 22\\n'\n",
            "b'Skipping line 80975: expected 15 fields, saw 22\\nSkipping line 85603: expected 15 fields, saw 22\\nSkipping line 95950: expected 15 fields, saw 22\\nSkipping line 105132: expected 15 fields, saw 22\\nSkipping line 115378: expected 15 fields, saw 22\\n'\n",
            "b'Skipping line 152632: expected 15 fields, saw 22\\nSkipping line 159310: expected 15 fields, saw 22\\nSkipping line 162724: expected 15 fields, saw 22\\nSkipping line 168588: expected 15 fields, saw 22\\nSkipping line 170412: expected 15 fields, saw 22\\nSkipping line 187169: expected 15 fields, saw 22\\n'\n",
            "b'Skipping line 205461: expected 15 fields, saw 22\\nSkipping line 210928: expected 15 fields, saw 22\\nSkipping line 213691: expected 15 fields, saw 22\\nSkipping line 228697: expected 15 fields, saw 22\\nSkipping line 229383: expected 15 fields, saw 22\\nSkipping line 235713: expected 15 fields, saw 22\\nSkipping line 240421: expected 15 fields, saw 22\\nSkipping line 253547: expected 15 fields, saw 22\\n'\n",
            "b'Skipping line 303488: expected 15 fields, saw 22\\nSkipping line 306271: expected 15 fields, saw 22\\nSkipping line 307701: expected 15 fields, saw 22\\nSkipping line 317078: expected 15 fields, saw 22\\n'\n",
            "b'Skipping line 331770: expected 15 fields, saw 22\\nSkipping line 340030: expected 15 fields, saw 22\\nSkipping line 343111: expected 15 fields, saw 22\\nSkipping line 347725: expected 15 fields, saw 22\\nSkipping line 352032: expected 15 fields, saw 22\\nSkipping line 363562: expected 15 fields, saw 22\\nSkipping line 366541: expected 15 fields, saw 22\\n'\n",
            "b'Skipping line 411700: expected 15 fields, saw 22\\nSkipping line 422970: expected 15 fields, saw 22\\nSkipping line 452274: expected 15 fields, saw 22\\n'\n",
            "b'Skipping line 478751: expected 15 fields, saw 22\\nSkipping line 492268: expected 15 fields, saw 22\\nSkipping line 524242: expected 15 fields, saw 22\\n'\n",
            "b'Skipping line 529833: expected 15 fields, saw 22\\nSkipping line 557261: expected 15 fields, saw 22\\nSkipping line 573734: expected 15 fields, saw 22\\n'\n",
            "b'Skipping line 609630: expected 15 fields, saw 22\\nSkipping line 619803: expected 15 fields, saw 22\\nSkipping line 630276: expected 15 fields, saw 22\\n'\n",
            "b'Skipping line 660802: expected 15 fields, saw 22\\nSkipping line 665431: expected 15 fields, saw 22\\nSkipping line 684186: expected 15 fields, saw 22\\nSkipping line 709599: expected 15 fields, saw 22\\nSkipping line 717969: expected 15 fields, saw 22\\n'\n",
            "b'Skipping line 730455: expected 15 fields, saw 22\\nSkipping line 760019: expected 15 fields, saw 22\\nSkipping line 771682: expected 15 fields, saw 22\\nSkipping line 772685: expected 15 fields, saw 22\\nSkipping line 780429: expected 15 fields, saw 22\\n'\n",
            "b'Skipping line 794285: expected 15 fields, saw 22\\nSkipping line 794600: expected 15 fields, saw 22\\nSkipping line 814105: expected 15 fields, saw 22\\nSkipping line 821013: expected 15 fields, saw 22\\nSkipping line 821572: expected 15 fields, saw 22\\nSkipping line 838818: expected 15 fields, saw 22\\n'\n",
            "b'Skipping line 882484: expected 15 fields, saw 22\\nSkipping line 884285: expected 15 fields, saw 22\\nSkipping line 889122: expected 15 fields, saw 22\\nSkipping line 903263: expected 15 fields, saw 22\\nSkipping line 905909: expected 15 fields, saw 22\\n'\n",
            "b'Skipping line 942971: expected 15 fields, saw 22\\nSkipping line 974189: expected 15 fields, saw 22\\nSkipping line 974322: expected 15 fields, saw 22\\nSkipping line 976014: expected 15 fields, saw 22\\nSkipping line 979587: expected 15 fields, saw 22\\n'\n",
            "b'Skipping line 984046: expected 15 fields, saw 22\\nSkipping line 987303: expected 15 fields, saw 22\\nSkipping line 988454: expected 15 fields, saw 22\\nSkipping line 1022324: expected 15 fields, saw 22\\nSkipping line 1040163: expected 15 fields, saw 22\\nSkipping line 1041725: expected 15 fields, saw 22\\nSkipping line 1042582: expected 15 fields, saw 22\\n'\n",
            "b'Skipping line 1050288: expected 15 fields, saw 22\\nSkipping line 1050916: expected 15 fields, saw 22\\nSkipping line 1058744: expected 15 fields, saw 22\\nSkipping line 1083177: expected 15 fields, saw 22\\nSkipping line 1100258: expected 15 fields, saw 22\\nSkipping line 1107278: expected 15 fields, saw 22\\nSkipping line 1111345: expected 15 fields, saw 22\\nSkipping line 1111479: expected 15 fields, saw 22\\n'\n",
            "b'Skipping line 1125823: expected 15 fields, saw 22\\nSkipping line 1129482: expected 15 fields, saw 22\\nSkipping line 1131952: expected 15 fields, saw 22\\nSkipping line 1155388: expected 15 fields, saw 22\\nSkipping line 1169389: expected 15 fields, saw 22\\nSkipping line 1173501: expected 15 fields, saw 22\\nSkipping line 1176301: expected 15 fields, saw 22\\n'\n",
            "b'Skipping line 1186651: expected 15 fields, saw 22\\nSkipping line 1195294: expected 15 fields, saw 22\\nSkipping line 1196071: expected 15 fields, saw 22\\nSkipping line 1203091: expected 15 fields, saw 22\\nSkipping line 1205015: expected 15 fields, saw 22\\nSkipping line 1217204: expected 15 fields, saw 22\\nSkipping line 1220082: expected 15 fields, saw 22\\nSkipping line 1231204: expected 15 fields, saw 22\\nSkipping line 1231448: expected 15 fields, saw 22\\nSkipping line 1238917: expected 15 fields, saw 22\\n'\n",
            "b'Skipping line 1255057: expected 15 fields, saw 22\\nSkipping line 1285411: expected 15 fields, saw 22\\nSkipping line 1287752: expected 15 fields, saw 22\\nSkipping line 1292711: expected 15 fields, saw 22\\nSkipping line 1299584: expected 15 fields, saw 22\\nSkipping line 1302522: expected 15 fields, saw 22\\nSkipping line 1304105: expected 15 fields, saw 22\\n'\n",
            "b'Skipping line 1332110: expected 15 fields, saw 22\\nSkipping line 1340500: expected 15 fields, saw 22\\nSkipping line 1343112: expected 15 fields, saw 22\\nSkipping line 1343246: expected 15 fields, saw 22\\nSkipping line 1343848: expected 15 fields, saw 22\\nSkipping line 1351907: expected 15 fields, saw 22\\nSkipping line 1355456: expected 15 fields, saw 22\\nSkipping line 1364074: expected 15 fields, saw 22\\nSkipping line 1365046: expected 15 fields, saw 22\\nSkipping line 1375358: expected 15 fields, saw 22\\n'\n",
            "b'Skipping line 1469126: expected 15 fields, saw 22\\nSkipping line 1480057: expected 15 fields, saw 22\\nSkipping line 1506711: expected 15 fields, saw 22\\n'\n",
            "b'Skipping line 1616037: expected 15 fields, saw 22\\n'\n",
            "b'Skipping line 1773884: expected 15 fields, saw 22\\nSkipping line 1825979: expected 15 fields, saw 22\\n'\n"
          ],
          "name": "stderr"
        }
      ]
    },
    {
      "cell_type": "code",
      "metadata": {
        "id": "bVoqqmzren2r",
        "colab_type": "code",
        "colab": {
          "base_uri": "https://localhost:8080/",
          "height": 136
        },
        "outputId": "2c3ac72b-08c0-490d-983f-2493205774a9"
      },
      "source": [
        "df1= df\n",
        "#headline_updated = df1[\"review_headline\"].str.contains(\"One Star|Two Stars|Three Stars|Four Stars|Five Stars\",na=False)\n",
        "#df1.drop(headline_updated[headline_updated].index,axis=0,inplace=True)\n",
        "df1[[\"star_rating\",\"review_body\"]]= df1[[\"star_rating\",\"review_body\"]].astype(str)\n",
        "df1.star_rating.value_counts()\n"
      ],
      "execution_count": 7,
      "outputs": [
        {
          "output_type": "execute_result",
          "data": {
            "text/plain": [
              "5.0    1643151\n",
              "4.0     380780\n",
              "1.0     248519\n",
              "3.0     216335\n",
              "2.0     151067\n",
              "nan          1\n",
              "Name: star_rating, dtype: int64"
            ]
          },
          "metadata": {
            "tags": []
          },
          "execution_count": 7
        }
      ]
    },
    {
      "cell_type": "code",
      "metadata": {
        "id": "NCyWWojC_gcE",
        "colab_type": "code",
        "colab": {}
      },
      "source": [
        "df1.loc[df1[\"star_rating\"]==\"2.0\",\"star_rating\"]=\"3.0\" \n",
        "df1.loc[df1[\"star_rating\"]==\"4.0\",\"star_rating\"]=\"3.0\"\n",
        "df_1 = df1.loc[df1[\"star_rating\"]==\"1.0\"]\n",
        "#df_2 = df1.loc[df1[\"star_rating\"]==\"2.0\"]\n",
        "df_3 = df1.loc[df1[\"star_rating\"]==\"3.0\"]\n",
        "#df_4 = df1.loc[df1[\"star_rating\"]==\"4.0\"]\n",
        "df_5 = df1.loc[df1[\"star_rating\"]==\"5.0\"]\n",
        "\n",
        "df_star1= df_1.sample(n = 151067, replace = True) \n",
        "#df_star2= df_2.sample(n = 151067, replace = True) \n",
        "df_star3= df_3.sample(n = 151067, replace = True) \n",
        "#df_star4= df_4.sample(n = 151067, replace = True) \n",
        "df_star5= df_5.sample(n = 151067, replace = True) \n",
        "\n",
        "frames = [df_star1, df_star3,df_star5]\n",
        "\n",
        "df_sample = pd.concat(frames)\n",
        "df_sample[[\"star_rating\",\"review_body\"]]= df[[\"star_rating\",\"review_body\"]].astype(str)\n",
        "\n"
      ],
      "execution_count": 8,
      "outputs": []
    },
    {
      "cell_type": "code",
      "metadata": {
        "id": "UDK59TmaMR4S",
        "colab_type": "code",
        "colab": {
          "base_uri": "https://localhost:8080/",
          "height": 204
        },
        "outputId": "c68e94f1-888f-4f0e-fa16-2a51c5c80aae"
      },
      "source": [
        "df_sample[\"review_body\"]= df_sample[\"review_body\"].str.lower()\n",
        "#set(reviews([1])\n",
        "\n",
        "for i in range(10):\n",
        "  #print(df_sample.iloc[i,13])\n",
        "  df_sample.iloc[i,13] = ' '.join(list(set(df_sample.iloc[i,13].split())))\n",
        "  #reviews.at[i,'review_body']=(\" \".join(list(set(reviews.at[i,'review_body']))))\n",
        "df_sample['review_body'].head(10)"
      ],
      "execution_count": 9,
      "outputs": [
        {
          "output_type": "execute_result",
          "data": {
            "text/plain": [
              "423944     pad was quality buy expecting. them again. not...\n",
              "620229                                              returned\n",
              "2047167    stopped frontline working it's i'm to miserabl...\n",
              "1338147    was brand. chew pieces in to all foam time. sq...\n",
              "1195425    itself. thread it's to does in of has the fit ...\n",
              "2441701    even was looked packed used, had amazon. recei...\n",
              "812092     was one in tore condition- i good of the expec...\n",
              "2021516    gets these, carry.<br pieces fabric perfectly ...\n",
              "85273      dark where did make had to fine in soiled. cat...\n",
              "2440027    sporadic. was worked on. manner. collar could ...\n",
              "Name: review_body, dtype: object"
            ]
          },
          "metadata": {
            "tags": []
          },
          "execution_count": 9
        }
      ]
    },
    {
      "cell_type": "code",
      "metadata": {
        "id": "dCdKgS6ttxs0",
        "colab_type": "code",
        "colab": {
          "base_uri": "https://localhost:8080/",
          "height": 221
        },
        "outputId": "ca75486c-b7ea-46f7-823c-adabe38dcac2"
      },
      "source": [
        "df_sample[\"length_comment\"]= df[\"review_body\"].str.split().str.len()\n",
        "\n",
        "print(df_sample[\"length_comment\"])"
      ],
      "execution_count": 10,
      "outputs": [
        {
          "output_type": "stream",
          "text": [
            "423944      12\n",
            "620229       1\n",
            "2047167     33\n",
            "1338147     41\n",
            "1195425    173\n",
            "          ... \n",
            "1037853     13\n",
            "757110       3\n",
            "110376       4\n",
            "936253       7\n",
            "2564698     75\n",
            "Name: length_comment, Length: 453201, dtype: int64\n"
          ],
          "name": "stdout"
        }
      ]
    },
    {
      "cell_type": "code",
      "metadata": {
        "id": "K0mw2oat7ePv",
        "colab_type": "code",
        "colab": {
          "base_uri": "https://localhost:8080/",
          "height": 419
        },
        "outputId": "4a3a7dc2-d0fa-4b6d-a2bb-ea84a9d9ee0b"
      },
      "source": [
        "sample_df = df_sample[[\"star_rating\",\"review_body\",\"length_comment\"]]\n",
        "sample_df.reset_index(inplace = True) \n",
        "sample_df"
      ],
      "execution_count": 11,
      "outputs": [
        {
          "output_type": "execute_result",
          "data": {
            "text/html": [
              "<div>\n",
              "<style scoped>\n",
              "    .dataframe tbody tr th:only-of-type {\n",
              "        vertical-align: middle;\n",
              "    }\n",
              "\n",
              "    .dataframe tbody tr th {\n",
              "        vertical-align: top;\n",
              "    }\n",
              "\n",
              "    .dataframe thead th {\n",
              "        text-align: right;\n",
              "    }\n",
              "</style>\n",
              "<table border=\"1\" class=\"dataframe\">\n",
              "  <thead>\n",
              "    <tr style=\"text-align: right;\">\n",
              "      <th></th>\n",
              "      <th>index</th>\n",
              "      <th>star_rating</th>\n",
              "      <th>review_body</th>\n",
              "      <th>length_comment</th>\n",
              "    </tr>\n",
              "  </thead>\n",
              "  <tbody>\n",
              "    <tr>\n",
              "      <th>0</th>\n",
              "      <td>423944</td>\n",
              "      <td>1.0</td>\n",
              "      <td>pad was quality buy expecting. them again. not...</td>\n",
              "      <td>12</td>\n",
              "    </tr>\n",
              "    <tr>\n",
              "      <th>1</th>\n",
              "      <td>620229</td>\n",
              "      <td>1.0</td>\n",
              "      <td>returned</td>\n",
              "      <td>1</td>\n",
              "    </tr>\n",
              "    <tr>\n",
              "      <th>2</th>\n",
              "      <td>2047167</td>\n",
              "      <td>1.0</td>\n",
              "      <td>stopped frontline working it's i'm to miserabl...</td>\n",
              "      <td>33</td>\n",
              "    </tr>\n",
              "    <tr>\n",
              "      <th>3</th>\n",
              "      <td>1338147</td>\n",
              "      <td>1.0</td>\n",
              "      <td>was brand. chew pieces in to all foam time. sq...</td>\n",
              "      <td>41</td>\n",
              "    </tr>\n",
              "    <tr>\n",
              "      <th>4</th>\n",
              "      <td>1195425</td>\n",
              "      <td>1.0</td>\n",
              "      <td>itself. thread it's to does in of has the fit ...</td>\n",
              "      <td>173</td>\n",
              "    </tr>\n",
              "    <tr>\n",
              "      <th>...</th>\n",
              "      <td>...</td>\n",
              "      <td>...</td>\n",
              "      <td>...</td>\n",
              "      <td>...</td>\n",
              "    </tr>\n",
              "    <tr>\n",
              "      <th>453196</th>\n",
              "      <td>1037853</td>\n",
              "      <td>5.0</td>\n",
              "      <td>makes a nicer way to keep a liter box out in t...</td>\n",
              "      <td>13</td>\n",
              "    </tr>\n",
              "    <tr>\n",
              "      <th>453197</th>\n",
              "      <td>757110</td>\n",
              "      <td>5.0</td>\n",
              "      <td>cat loves it</td>\n",
              "      <td>3</td>\n",
              "    </tr>\n",
              "    <tr>\n",
              "      <th>453198</th>\n",
              "      <td>110376</td>\n",
              "      <td>5.0</td>\n",
              "      <td>our dogs love it</td>\n",
              "      <td>4</td>\n",
              "    </tr>\n",
              "    <tr>\n",
              "      <th>453199</th>\n",
              "      <td>936253</td>\n",
              "      <td>5.0</td>\n",
              "      <td>great size and quality. shipping was fast.</td>\n",
              "      <td>7</td>\n",
              "    </tr>\n",
              "    <tr>\n",
              "      <th>453200</th>\n",
              "      <td>2564698</td>\n",
              "      <td>5.0</td>\n",
              "      <td>this product is helping keep our 17-year-old k...</td>\n",
              "      <td>75</td>\n",
              "    </tr>\n",
              "  </tbody>\n",
              "</table>\n",
              "<p>453201 rows × 4 columns</p>\n",
              "</div>"
            ],
            "text/plain": [
              "          index  ... length_comment\n",
              "0        423944  ...             12\n",
              "1        620229  ...              1\n",
              "2       2047167  ...             33\n",
              "3       1338147  ...             41\n",
              "4       1195425  ...            173\n",
              "...         ...  ...            ...\n",
              "453196  1037853  ...             13\n",
              "453197   757110  ...              3\n",
              "453198   110376  ...              4\n",
              "453199   936253  ...              7\n",
              "453200  2564698  ...             75\n",
              "\n",
              "[453201 rows x 4 columns]"
            ]
          },
          "metadata": {
            "tags": []
          },
          "execution_count": 11
        }
      ]
    },
    {
      "cell_type": "code",
      "metadata": {
        "id": "rnjIxv93txj6",
        "colab_type": "code",
        "colab": {
          "base_uri": "https://localhost:8080/",
          "height": 297
        },
        "outputId": "600dcde0-aac6-47e0-8237-f89584109c9a"
      },
      "source": [
        "sample_df.describe()"
      ],
      "execution_count": 12,
      "outputs": [
        {
          "output_type": "execute_result",
          "data": {
            "text/html": [
              "<div>\n",
              "<style scoped>\n",
              "    .dataframe tbody tr th:only-of-type {\n",
              "        vertical-align: middle;\n",
              "    }\n",
              "\n",
              "    .dataframe tbody tr th {\n",
              "        vertical-align: top;\n",
              "    }\n",
              "\n",
              "    .dataframe thead th {\n",
              "        text-align: right;\n",
              "    }\n",
              "</style>\n",
              "<table border=\"1\" class=\"dataframe\">\n",
              "  <thead>\n",
              "    <tr style=\"text-align: right;\">\n",
              "      <th></th>\n",
              "      <th>index</th>\n",
              "      <th>length_comment</th>\n",
              "    </tr>\n",
              "  </thead>\n",
              "  <tbody>\n",
              "    <tr>\n",
              "      <th>count</th>\n",
              "      <td>4.532010e+05</td>\n",
              "      <td>453201.000000</td>\n",
              "    </tr>\n",
              "    <tr>\n",
              "      <th>mean</th>\n",
              "      <td>1.336195e+06</td>\n",
              "      <td>60.022981</td>\n",
              "    </tr>\n",
              "    <tr>\n",
              "      <th>std</th>\n",
              "      <td>7.686704e+05</td>\n",
              "      <td>79.732858</td>\n",
              "    </tr>\n",
              "    <tr>\n",
              "      <th>min</th>\n",
              "      <td>5.000000e+00</td>\n",
              "      <td>1.000000</td>\n",
              "    </tr>\n",
              "    <tr>\n",
              "      <th>25%</th>\n",
              "      <td>6.667530e+05</td>\n",
              "      <td>20.000000</td>\n",
              "    </tr>\n",
              "    <tr>\n",
              "      <th>50%</th>\n",
              "      <td>1.345952e+06</td>\n",
              "      <td>37.000000</td>\n",
              "    </tr>\n",
              "    <tr>\n",
              "      <th>75%</th>\n",
              "      <td>2.006638e+06</td>\n",
              "      <td>73.000000</td>\n",
              "    </tr>\n",
              "    <tr>\n",
              "      <th>max</th>\n",
              "      <td>2.639849e+06</td>\n",
              "      <td>4213.000000</td>\n",
              "    </tr>\n",
              "  </tbody>\n",
              "</table>\n",
              "</div>"
            ],
            "text/plain": [
              "              index  length_comment\n",
              "count  4.532010e+05   453201.000000\n",
              "mean   1.336195e+06       60.022981\n",
              "std    7.686704e+05       79.732858\n",
              "min    5.000000e+00        1.000000\n",
              "25%    6.667530e+05       20.000000\n",
              "50%    1.345952e+06       37.000000\n",
              "75%    2.006638e+06       73.000000\n",
              "max    2.639849e+06     4213.000000"
            ]
          },
          "metadata": {
            "tags": []
          },
          "execution_count": 12
        }
      ]
    },
    {
      "cell_type": "code",
      "metadata": {
        "id": "4SnhbxwuaRgz",
        "colab_type": "code",
        "colab": {
          "base_uri": "https://localhost:8080/",
          "height": 297
        },
        "outputId": "b9d5f9b0-7fea-4314-a559-861a5b598cdb"
      },
      "source": [
        "\n",
        "hist=sample_df[sample_df['star_rating'] == '1.0'][\"length_comment\"].hist(bins=1000)\n",
        "hist.set_xlim((0,250))\n",
        "hist.set_xlabel(\"length_groups for 1.0 Star Rating\")\n",
        "hist.set_ylabel(\"number of reviews\")\n"
      ],
      "execution_count": 13,
      "outputs": [
        {
          "output_type": "execute_result",
          "data": {
            "text/plain": [
              "Text(0, 0.5, 'number of reviews')"
            ]
          },
          "metadata": {
            "tags": []
          },
          "execution_count": 13
        },
        {
          "output_type": "display_data",
          "data": {
            "image/png": "[encoded data removed]",
            "text/plain": [
              "<Figure size 432x288 with 1 Axes>"
            ]
          },
          "metadata": {
            "tags": [],
            "needs_background": "light"
          }
        }
      ]
    },
    {
      "cell_type": "code",
      "metadata": {
        "id": "JL6Q_wilR8KN",
        "colab_type": "code",
        "colab": {
          "base_uri": "https://localhost:8080/",
          "height": 319
        },
        "outputId": "cc6c5eb1-91ba-4fbe-b130-c8f164001d47"
      },
      "source": [
        "sample_df.boxplot(column=\"length_comment\", by=\"star_rating\")"
      ],
      "execution_count": 14,
      "outputs": [
        {
          "output_type": "execute_result",
          "data": {
            "text/plain": [
              "<matplotlib.axes._subplots.AxesSubplot at 0x7f5add3a53c8>"
            ]
          },
          "metadata": {
            "tags": []
          },
          "execution_count": 14
        },
        {
          "output_type": "display_data",
          "data": {
            "image/png": "[encoded data removed]",
            "text/plain": [
              "<Figure size 432x288 with 1 Axes>"
            ]
          },
          "metadata": {
            "tags": [],
            "needs_background": "light"
          }
        }
      ]
    },
    {
      "cell_type": "code",
      "metadata": {
        "id": "EFv1MrDd95a_",
        "colab_type": "code",
        "colab": {}
      },
      "source": [
        "sample_df= sample_df[(sample_df['length_comment'] >= 5) & (sample_df['length_comment'] <= 139)]"
      ],
      "execution_count": 15,
      "outputs": []
    },
    {
      "cell_type": "code",
      "metadata": {
        "id": "OoFK7u4f-LNu",
        "colab_type": "code",
        "colab": {
          "base_uri": "https://localhost:8080/",
          "height": 419
        },
        "outputId": "c526ac44-e54a-4a79-e034-32a6dea3fb4e"
      },
      "source": [
        "sample_df"
      ],
      "execution_count": 16,
      "outputs": [
        {
          "output_type": "execute_result",
          "data": {
            "text/html": [
              "<div>\n",
              "<style scoped>\n",
              "    .dataframe tbody tr th:only-of-type {\n",
              "        vertical-align: middle;\n",
              "    }\n",
              "\n",
              "    .dataframe tbody tr th {\n",
              "        vertical-align: top;\n",
              "    }\n",
              "\n",
              "    .dataframe thead th {\n",
              "        text-align: right;\n",
              "    }\n",
              "</style>\n",
              "<table border=\"1\" class=\"dataframe\">\n",
              "  <thead>\n",
              "    <tr style=\"text-align: right;\">\n",
              "      <th></th>\n",
              "      <th>index</th>\n",
              "      <th>star_rating</th>\n",
              "      <th>review_body</th>\n",
              "      <th>length_comment</th>\n",
              "    </tr>\n",
              "  </thead>\n",
              "  <tbody>\n",
              "    <tr>\n",
              "      <th>0</th>\n",
              "      <td>423944</td>\n",
              "      <td>1.0</td>\n",
              "      <td>pad was quality buy expecting. them again. not...</td>\n",
              "      <td>12</td>\n",
              "    </tr>\n",
              "    <tr>\n",
              "      <th>2</th>\n",
              "      <td>2047167</td>\n",
              "      <td>1.0</td>\n",
              "      <td>stopped frontline working it's i'm to miserabl...</td>\n",
              "      <td>33</td>\n",
              "    </tr>\n",
              "    <tr>\n",
              "      <th>3</th>\n",
              "      <td>1338147</td>\n",
              "      <td>1.0</td>\n",
              "      <td>was brand. chew pieces in to all foam time. sq...</td>\n",
              "      <td>41</td>\n",
              "    </tr>\n",
              "    <tr>\n",
              "      <th>5</th>\n",
              "      <td>2441701</td>\n",
              "      <td>1.0</td>\n",
              "      <td>even was looked packed used, had amazon. recei...</td>\n",
              "      <td>84</td>\n",
              "    </tr>\n",
              "    <tr>\n",
              "      <th>6</th>\n",
              "      <td>812092</td>\n",
              "      <td>1.0</td>\n",
              "      <td>was one in tore condition- i good of the expec...</td>\n",
              "      <td>50</td>\n",
              "    </tr>\n",
              "    <tr>\n",
              "      <th>...</th>\n",
              "      <td>...</td>\n",
              "      <td>...</td>\n",
              "      <td>...</td>\n",
              "      <td>...</td>\n",
              "    </tr>\n",
              "    <tr>\n",
              "      <th>453193</th>\n",
              "      <td>2059058</td>\n",
              "      <td>5.0</td>\n",
              "      <td>it is made with no fillers and my dog has been...</td>\n",
              "      <td>46</td>\n",
              "    </tr>\n",
              "    <tr>\n",
              "      <th>453194</th>\n",
              "      <td>1054095</td>\n",
              "      <td>5.0</td>\n",
              "      <td>great deshedding tool for cats, keeps hair out...</td>\n",
              "      <td>15</td>\n",
              "    </tr>\n",
              "    <tr>\n",
              "      <th>453196</th>\n",
              "      <td>1037853</td>\n",
              "      <td>5.0</td>\n",
              "      <td>makes a nicer way to keep a liter box out in t...</td>\n",
              "      <td>13</td>\n",
              "    </tr>\n",
              "    <tr>\n",
              "      <th>453199</th>\n",
              "      <td>936253</td>\n",
              "      <td>5.0</td>\n",
              "      <td>great size and quality. shipping was fast.</td>\n",
              "      <td>7</td>\n",
              "    </tr>\n",
              "    <tr>\n",
              "      <th>453200</th>\n",
              "      <td>2564698</td>\n",
              "      <td>5.0</td>\n",
              "      <td>this product is helping keep our 17-year-old k...</td>\n",
              "      <td>75</td>\n",
              "    </tr>\n",
              "  </tbody>\n",
              "</table>\n",
              "<p>389078 rows × 4 columns</p>\n",
              "</div>"
            ],
            "text/plain": [
              "          index  ... length_comment\n",
              "0        423944  ...             12\n",
              "2       2047167  ...             33\n",
              "3       1338147  ...             41\n",
              "5       2441701  ...             84\n",
              "6        812092  ...             50\n",
              "...         ...  ...            ...\n",
              "453193  2059058  ...             46\n",
              "453194  1054095  ...             15\n",
              "453196  1037853  ...             13\n",
              "453199   936253  ...              7\n",
              "453200  2564698  ...             75\n",
              "\n",
              "[389078 rows x 4 columns]"
            ]
          },
          "metadata": {
            "tags": []
          },
          "execution_count": 16
        }
      ]
    },
    {
      "cell_type": "code",
      "metadata": {
        "id": "UlVCo3T97wsl",
        "colab_type": "code",
        "colab": {}
      },
      "source": [
        "# Select out features and labels\n",
        "entireDataset = spark.createDataFrame(sample_df[['star_rating', 'review_body']])"
      ],
      "execution_count": 18,
      "outputs": []
    },
    {
      "cell_type": "code",
      "metadata": {
        "id": "aLYggs2r75ER",
        "colab_type": "code",
        "colab": {
          "base_uri": "https://localhost:8080/",
          "height": 34
        },
        "outputId": "9e4ca7b2-9fd4-42f5-e494-677f1dcc0785"
      },
      "source": [
        "# Check data types\n",
        "entireDataset.dtypes"
      ],
      "execution_count": 19,
      "outputs": [
        {
          "output_type": "execute_result",
          "data": {
            "text/plain": [
              "[('star_rating', 'string'), ('review_body', 'string')]"
            ]
          },
          "metadata": {
            "tags": []
          },
          "execution_count": 19
        }
      ]
    },
    {
      "cell_type": "code",
      "metadata": {
        "id": "n-pMhwc479HN",
        "colab_type": "code",
        "colab": {
          "base_uri": "https://localhost:8080/",
          "height": 34
        },
        "outputId": "63a3a735-f037-4bcf-e15e-b3968d1d48bd"
      },
      "source": [
        "# View col names\n",
        "entireDataset.columns"
      ],
      "execution_count": 20,
      "outputs": [
        {
          "output_type": "execute_result",
          "data": {
            "text/plain": [
              "['star_rating', 'review_body']"
            ]
          },
          "metadata": {
            "tags": []
          },
          "execution_count": 20
        }
      ]
    },
    {
      "cell_type": "code",
      "metadata": {
        "id": "sSrJhAJ58BXB",
        "colab_type": "code",
        "colab": {}
      },
      "source": [
        "# Change object to string\n",
        "entireDataset.review_body = entireDataset.review_body.astype('string')"
      ],
      "execution_count": 21,
      "outputs": []
    },
    {
      "cell_type": "code",
      "metadata": {
        "id": "43qB-Hrx8RFc",
        "colab_type": "code",
        "colab": {}
      },
      "source": [
        "# Prepare for NLP pipeline with initial DocumentAssembler\n",
        "# Content is inside review_body\n",
        "document = DocumentAssembler() \\\n",
        "  .setInputCol(\"review_body\") \\\n",
        "  .setOutputCol(\"document\")"
      ],
      "execution_count": 22,
      "outputs": []
    },
    {
      "cell_type": "code",
      "metadata": {
        "id": "bM-NridQ8Wyo",
        "colab_type": "code",
        "colab": {
          "base_uri": "https://localhost:8080/",
          "height": 68
        },
        "outputId": "65c5caf6-56aa-489a-bc81-0ca376b24ec1"
      },
      "source": [
        "# Using sentence detector (pretrained)\n",
        "# Sentence detector\n",
        "use = UniversalSentenceEncoder.pretrained() \\\n",
        "  .setInputCols([\"document\"]) \\\n",
        "  . setOutputCol(\"sentence_embeddings\")"
      ],
      "execution_count": 23,
      "outputs": [
        {
          "output_type": "stream",
          "text": [
            "tfhub_use download started this may take some time.\n",
            "Approximate size to download 923.7 MB\n",
            "[OK!]\n"
          ],
          "name": "stdout"
        }
      ]
    },
    {
      "cell_type": "code",
      "metadata": {
        "id": "NSJQxKCC8bQy",
        "colab_type": "code",
        "colab": {}
      },
      "source": [
        "# Our labels / classes are the 1 - 5 star ratings\n",
        "# These are in the star_rating col\n",
        "\n",
        "classifierdl = ClassifierDLApproach()\\\n",
        "  .setInputCols([\"sentence_embeddings\"])\\\n",
        "  .setOutputCol(\"class\")\\\n",
        "  .setLabelColumn(\"star_rating\")\\\n",
        "  .setMaxEpochs(30)\\\n",
        "  .setEnableOutputLogs(True)"
      ],
      "execution_count": 24,
      "outputs": []
    },
    {
      "cell_type": "code",
      "metadata": {
        "id": "Rw2mqwhq8fRr",
        "colab_type": "code",
        "colab": {}
      },
      "source": [
        "# Declare the pipeline\n",
        "use_clf_pipeline = Pipeline(\n",
        "  stages = [\n",
        "    document,\n",
        "    use,\n",
        "    classifierdl\n",
        "  ]\n",
        ")\n",
        "\n"
      ],
      "execution_count": 25,
      "outputs": []
    },
    {
      "cell_type": "code",
      "metadata": {
        "id": "-_DIGgINuk7t",
        "colab_type": "code",
        "colab": {}
      },
      "source": [
        "# Split into training and testing data\n",
        "trainDataset, testDataset = entireDataset.randomSplit([0.75, 0.25], seed=12345)\n"
      ],
      "execution_count": 26,
      "outputs": []
    },
    {
      "cell_type": "code",
      "metadata": {
        "id": "bcpzOMbvuq4L",
        "colab_type": "code",
        "colab": {}
      },
      "source": [
        "# Begin fitting on the data\n",
        "use_pipelineModel = use_clf_pipeline.fit(trainDataset)"
      ],
      "execution_count": 27,
      "outputs": []
    },
    {
      "cell_type": "code",
      "metadata": {
        "id": "-Co3AEqfuqrJ",
        "colab_type": "code",
        "colab": {
          "base_uri": "https://localhost:8080/",
          "height": 459
        },
        "outputId": "bedc4404-6c08-46fa-bf0f-8285edd76891"
      },
      "source": [
        "# Set predictions on testDataset\n",
        "predictions = use_pipelineModel.transform(testDataset)\n",
        "predictions.count()\n",
        "predictions.show()"
      ],
      "execution_count": 28,
      "outputs": [
        {
          "output_type": "stream",
          "text": [
            "+-----------+--------------------+--------------------+--------------------+--------------------+\n",
            "|star_rating|         review_body|            document| sentence_embeddings|               class|\n",
            "+-----------+--------------------+--------------------+--------------------+--------------------+\n",
            "|        1.0|$1,000,000.00????...|[[document, 0, 46...|[[sentence_embedd...|[[category, 0, 46...|\n",
            "|        1.0|$13/pound and you...|[[document, 0, 23...|[[sentence_embedd...|[[category, 0, 23...|\n",
            "|        1.0|$14.17 is quite r...|[[document, 0, 25...|[[sentence_embedd...|[[category, 0, 25...|\n",
            "|        1.0|$17.99  i paid fo...|[[document, 0, 11...|[[sentence_embedd...|[[category, 0, 11...|\n",
            "|        1.0|$17.99  i paid fo...|[[document, 0, 11...|[[sentence_embedd...|[[category, 0, 11...|\n",
            "|        1.0|$18 dollars and i...|[[document, 0, 17...|[[sentence_embedd...|[[category, 0, 17...|\n",
            "|        1.0|$40+ for fleece m...|[[document, 0, 11...|[[sentence_embedd...|[[category, 0, 11...|\n",
            "|        1.0|$76.95, you must ...|[[document, 0, 11...|[[sentence_embedd...|[[category, 0, 11...|\n",
            "|        1.0|$8.75 for one 1/2...|[[document, 0, 10...|[[sentence_embedd...|[[category, 0, 10...|\n",
            "|        1.0|&#34;bouncing&#34...|[[document, 0, 30...|[[sentence_embedd...|[[category, 0, 30...|\n",
            "|        1.0|&#34;cups&#34; ar...|[[document, 0, 10...|[[sentence_embedd...|[[category, 0, 10...|\n",
            "|        1.0|&#34;dog carrier&...|[[document, 0, 63...|[[sentence_embedd...|[[category, 0, 63...|\n",
            "|        1.0|&#34;mat&#34; mea...|[[document, 0, 29...|[[sentence_embedd...|[[category, 0, 29...|\n",
            "|        1.0|&#34;shredded&#34...|[[document, 0, 51...|[[sentence_embedd...|[[category, 0, 51...|\n",
            "|        1.0|&#34;sturdy grani...|[[document, 0, 16...|[[sentence_embedd...|[[category, 0, 16...|\n",
            "|        1.0|&#34;the yellow d...|[[document, 0, 38...|[[sentence_embedd...|[[category, 0, 38...|\n",
            "|        1.0|&#34;this toy is ...|[[document, 0, 58...|[[sentence_embedd...|[[category, 0, 58...|\n",
            "|        1.0|&#34;united state...|[[document, 0, 18...|[[sentence_embedd...|[[category, 0, 18...|\n",
            "|        1.0|&#34;unscented&#3...|[[document, 0, 43...|[[sentence_embedd...|[[category, 0, 43...|\n",
            "|        1.0|((update 4.10.201...|[[document, 0, 57...|[[sentence_embedd...|[[category, 0, 57...|\n",
            "+-----------+--------------------+--------------------+--------------------+--------------------+\n",
            "only showing top 20 rows\n",
            "\n"
          ],
          "name": "stdout"
        }
      ]
    },
    {
      "cell_type": "code",
      "metadata": {
        "id": "50443Ucj8iik",
        "colab_type": "code",
        "colab": {}
      },
      "source": [
        "# Begin fitting on the data\n",
        "use_pipelineModel = use_clf_pipeline.fit(trainDataset)"
      ],
      "execution_count": 29,
      "outputs": []
    },
    {
      "cell_type": "code",
      "metadata": {
        "id": "PgzqIOg88j9y",
        "colab_type": "code",
        "colab": {}
      },
      "source": [
        "# Set predictions on testDataset\n",
        "predictions = use_pipelineModel.transform(testDataset)"
      ],
      "execution_count": 30,
      "outputs": []
    },
    {
      "cell_type": "code",
      "metadata": {
        "id": "PI8UldOU8l4-",
        "colab_type": "code",
        "colab": {
          "base_uri": "https://localhost:8080/",
          "height": 289
        },
        "outputId": "7c39d335-47ff-422f-db60-fc0aac63d9c3"
      },
      "source": [
        "\n",
        "# Run predictions\n",
        "predictions.select('star_rating','review_body', 'class.result').show(10, truncate=80)"
      ],
      "execution_count": 31,
      "outputs": [
        {
          "output_type": "stream",
          "text": [
            "+-----------+--------------------------------------------------------------------------------+------+\n",
            "|star_rating|                                                                     review_body|result|\n",
            "+-----------+--------------------------------------------------------------------------------+------+\n",
            "|        1.0|                                 $1,000,000.00??????  this stuff better be good!| [5.0]|\n",
            "|        1.0|$13/pound and you actually have to feed more of it to your dog than normal we...| [1.0]|\n",
            "|        1.0|$14.17 is quite reasonable for a pack of 6, however, i received one package o...| [1.0]|\n",
            "|        1.0|$17.99  i paid for this bag 1.8 small small cost 4.00 in wallmart.... do not ...| [1.0]|\n",
            "|        1.0|$17.99  i paid for this bag 1.8 small small cost 4.00 in wallmart.... do not ...| [1.0]|\n",
            "|        1.0|$18 dollars and it didn't even last two hours!  our two dogs have been playin...| [1.0]|\n",
            "|        1.0|$40+ for fleece material? i have the same ones from dollar store for $2.<br /...| [3.0]|\n",
            "|        1.0|$76.95, you must be crazy, i just purchased in petco for $11.95 and was wonde...| [1.0]|\n",
            "|        1.0|$8.75 for one 1/2 pt cat milk! wiskas similar product around $4 for 3 pack. w...| [1.0]|\n",
            "|        1.0|&#34;bouncing&#34; should not be in the description. it doesn't roll, it does...| [3.0]|\n",
            "+-----------+--------------------------------------------------------------------------------+------+\n",
            "only showing top 10 rows\n",
            "\n"
          ],
          "name": "stdout"
        }
      ]
    },
    {
      "cell_type": "code",
      "metadata": {
        "id": "LXHjpJnE8rIF",
        "colab_type": "code",
        "colab": {}
      },
      "source": [
        "# Import reports for quantifying results\n",
        "from sklearn.metrics import classification_report, accuracy_score\n",
        "\n",
        "df = use_pipelineModel.transform(testDataset).select('star_rating','review_body', 'class.result').toPandas()\n",
        "\n",
        "df['result'] = df['result'].apply(lambda x: x[0])"
      ],
      "execution_count": 32,
      "outputs": []
    },
    {
      "cell_type": "code",
      "metadata": {
        "id": "WP0rH1-A8uTC",
        "colab_type": "code",
        "colab": {}
      },
      "source": [
        "df.result = df.result.astype(str)"
      ],
      "execution_count": 33,
      "outputs": []
    },
    {
      "cell_type": "code",
      "metadata": {
        "id": "bn5Huv2u8v74",
        "colab_type": "code",
        "colab": {
          "base_uri": "https://localhost:8080/",
          "height": 204
        },
        "outputId": "5ea60ef8-675b-4fa3-f8e8-9e00f3f267c1"
      },
      "source": [
        "print(classification_report(df['star_rating'], df.result))\n",
        "print(accuracy_score(df['star_rating'], df.result))"
      ],
      "execution_count": 34,
      "outputs": [
        {
          "output_type": "stream",
          "text": [
            "              precision    recall  f1-score   support\n",
            "\n",
            "         1.0       0.75      0.82      0.78     33069\n",
            "         3.0       0.63      0.55      0.59     32443\n",
            "         5.0       0.74      0.76      0.75     31701\n",
            "\n",
            "    accuracy                           0.71     97213\n",
            "   macro avg       0.70      0.71      0.71     97213\n",
            "weighted avg       0.70      0.71      0.71     97213\n",
            "\n",
            "0.7097919002602533\n"
          ],
          "name": "stdout"
        }
      ]
    }
  ]
}