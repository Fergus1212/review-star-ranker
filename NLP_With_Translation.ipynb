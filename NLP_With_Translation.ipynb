{
  "nbformat": 4,
  "nbformat_minor": 0,
  "metadata": {
    "colab": {
      "name": "NLP With Translation",
      "provenance": [],
      "collapsed_sections": [],
      "machine_shape": "hm"
    },
    "kernelspec": {
      "name": "python3",
      "display_name": "Python 3"
    }
  },
  "cells": [
    {
      "cell_type": "code",
      "metadata": {
        "id": "WuCz0Vth7GJY",
        "colab_type": "code",
        "colab": {
          "base_uri": "https://localhost:8080/",
          "height": 136
        },
        "outputId": "1539cf0b-c90a-4967-93ad-70d91a13ff01"
      },
      "source": [
        "import os\n",
        "\n",
        "# Install java\n",
        "! apt-get install -y openjdk-8-jdk-headless -qq > /dev/null\n",
        "os.environ[\"JAVA_HOME\"] = \"/usr/lib/jvm/java-8-openjdk-amd64\"\n",
        "os.environ[\"PATH\"] = os.environ[\"JAVA_HOME\"] + \"/bin:\" + os.environ[\"PATH\"]\n",
        "! java -version\n",
        "\n",
        "# Install pyspark\n",
        "! pip install --ignore-installed -q pyspark==2.4.4\n",
        "! pip install --ignore-installed -q spark-nlp==2.5.3"
      ],
      "execution_count": 1,
      "outputs": [
        {
          "output_type": "stream",
          "text": [
            "openjdk version \"1.8.0_252\"\n",
            "OpenJDK Runtime Environment (build 1.8.0_252-8u252-b09-1~18.04-b09)\n",
            "OpenJDK 64-Bit Server VM (build 25.252-b09, mixed mode)\n",
            "\u001b[K     |████████████████████████████████| 215.7MB 41kB/s \n",
            "\u001b[K     |████████████████████████████████| 204kB 55.8MB/s \n",
            "\u001b[?25h  Building wheel for pyspark (setup.py) ... \u001b[?25l\u001b[?25hdone\n",
            "\u001b[K     |████████████████████████████████| 133kB 2.8MB/s \n",
            "\u001b[?25h"
          ],
          "name": "stdout"
        }
      ]
    },
    {
      "cell_type": "code",
      "metadata": {
        "id": "XmZdhZ4u7PYF",
        "colab_type": "code",
        "colab": {
          "base_uri": "https://localhost:8080/",
          "height": 52
        },
        "outputId": "7ee2ed84-705b-4ac4-9931-fb936eca65af"
      },
      "source": [
        "# Run this in console to keep Co Lab Running\n",
        "'''\n",
        "function ConnectButton(){\n",
        "    console.log(\"Connect pushed\"); \n",
        "    document.querySelector(\"#top-toolbar > colab-connect-button\").shadowRoot.querySelector(\"#connect\").click() \n",
        "}\n",
        "setInterval(ConnectButton,60000);\n",
        "'''"
      ],
      "execution_count": null,
      "outputs": [
        {
          "output_type": "execute_result",
          "data": {
            "application/vnd.google.colaboratory.intrinsic": {
              "type": "string"
            },
            "text/plain": [
              "'\\nfunction ConnectButton(){\\n    console.log(\"Connect pushed\"); \\n    document.querySelector(\"#top-toolbar > colab-connect-button\").shadowRoot.querySelector(\"#connect\").click() \\n}\\nsetInterval(ConnectButton,60000);\\n'"
            ]
          },
          "metadata": {
            "tags": []
          },
          "execution_count": 28
        }
      ]
    },
    {
      "cell_type": "code",
      "metadata": {
        "id": "jj4oh8nz7UKD",
        "colab_type": "code",
        "colab": {}
      },
      "source": [
        "import sparknlp\n",
        "from sparknlp.base import *\n",
        "from sparknlp.annotator import *\n",
        "from sparknlp.common import *\n",
        "from pyspark.ml import Pipeline\n",
        "from pyspark.ml.tuning import TrainValidationSplit\n",
        "import pandas as pd"
      ],
      "execution_count": 3,
      "outputs": []
    },
    {
      "cell_type": "code",
      "metadata": {
        "id": "ciDDnn6E7fPO",
        "colab_type": "code",
        "colab": {}
      },
      "source": [
        "# Start Spark session\n",
        "spark = sparknlp.start()"
      ],
      "execution_count": 4,
      "outputs": []
    },
    {
      "cell_type": "code",
      "metadata": {
        "id": "t1lHLQ907h1a",
        "colab_type": "code",
        "colab": {
          "base_uri": "https://localhost:8080/",
          "height": 51
        },
        "outputId": "44bd2c1a-ae4b-4658-bd2f-93ecce6cf9d0"
      },
      "source": [
        "# Best practice to print versions\n",
        "print(\"Spark NLP version\", sparknlp.version())\n",
        "print(\"Apache Spark version\", spark.version)"
      ],
      "execution_count": 5,
      "outputs": [
        {
          "output_type": "stream",
          "text": [
            "Spark NLP version 2.5.3\n",
            "Apache Spark version 2.4.4\n"
          ],
          "name": "stdout"
        }
      ]
    },
    {
      "cell_type": "code",
      "metadata": {
        "id": "Rerlt0h3-61t",
        "colab_type": "code",
        "colab": {}
      },
      "source": [
        "#Sample data of only a few rows to test translation code \n",
        "url = 'https://raw.githubusercontent.com/Fergus1212/review-star-ranker/jack_nlp/Data/sample_us%20(3).csv'\n",
        "df_sample = pd.read_csv(url)\n",
        "sample_df = pd.DataFrame(df_sample[[\"star_rating\",\"review_body\"]])\n"
      ],
      "execution_count": 8,
      "outputs": []
    },
    {
      "cell_type": "code",
      "metadata": {
        "id": "fNdRSjOk7lQZ",
        "colab_type": "code",
        "colab": {
          "base_uri": "https://localhost:8080/",
          "height": 34
        },
        "outputId": "81509d7f-8466-473b-abbb-2c61318151d3"
      },
      "source": [
        "# Yin genius way of loading Amazon Data\n",
        "file = 'amazon_reviews_us_Personal_Care_Appliances_v1_00.tsv.gz'\n",
        "os.system(f'wget https://s3.amazonaws.com/amazon-reviews-pds/tsv/{file}')\n",
        "df = pd.read_csv(file, compression='gzip', header=0, sep='\\t', error_bad_lines=False)"
      ],
      "execution_count": 26,
      "outputs": [
        {
          "output_type": "stream",
          "text": [
            "b'Skipping line 1598: expected 15 fields, saw 22\\nSkipping line 25768: expected 15 fields, saw 22\\n'\n"
          ],
          "name": "stderr"
        }
      ]
    },
    {
      "cell_type": "code",
      "metadata": {
        "id": "bVoqqmzren2r",
        "colab_type": "code",
        "colab": {
          "base_uri": "https://localhost:8080/",
          "height": 119
        },
        "outputId": "f7430807-cef4-4f1f-cc5b-cce95586dd5f"
      },
      "source": [
        "df1= df\n",
        "#headline_updated = df1[\"review_headline\"].str.contains(\"One Star|Two Stars|Three Stars|Four Stars|Five Stars\",na=False)\n",
        "#df1.drop(headline_updated[headline_updated].index,axis=0,inplace=True)\n",
        "df1[[\"star_rating\",\"review_body\"]]= df1[[\"star_rating\",\"review_body\"]].astype(str)\n",
        "df1.star_rating.value_counts()\n"
      ],
      "execution_count": 27,
      "outputs": [
        {
          "output_type": "execute_result",
          "data": {
            "text/plain": [
              "5    48865\n",
              "4    13644\n",
              "1    11034\n",
              "3     7043\n",
              "2     5338\n",
              "Name: star_rating, dtype: int64"
            ]
          },
          "metadata": {
            "tags": []
          },
          "execution_count": 27
        }
      ]
    },
    {
      "cell_type": "code",
      "metadata": {
        "id": "ezNHuDfisW96",
        "colab_type": "code",
        "colab": {
          "base_uri": "https://localhost:8080/",
          "height": 391
        },
        "outputId": "967524a3-fdc8-435c-93d8-d3c4572e9838"
      },
      "source": [
        "df1.head()"
      ],
      "execution_count": 28,
      "outputs": [
        {
          "output_type": "execute_result",
          "data": {
            "text/html": [
              "<div>\n",
              "<style scoped>\n",
              "    .dataframe tbody tr th:only-of-type {\n",
              "        vertical-align: middle;\n",
              "    }\n",
              "\n",
              "    .dataframe tbody tr th {\n",
              "        vertical-align: top;\n",
              "    }\n",
              "\n",
              "    .dataframe thead th {\n",
              "        text-align: right;\n",
              "    }\n",
              "</style>\n",
              "<table border=\"1\" class=\"dataframe\">\n",
              "  <thead>\n",
              "    <tr style=\"text-align: right;\">\n",
              "      <th></th>\n",
              "      <th>marketplace</th>\n",
              "      <th>customer_id</th>\n",
              "      <th>review_id</th>\n",
              "      <th>product_id</th>\n",
              "      <th>product_parent</th>\n",
              "      <th>product_title</th>\n",
              "      <th>product_category</th>\n",
              "      <th>star_rating</th>\n",
              "      <th>helpful_votes</th>\n",
              "      <th>total_votes</th>\n",
              "      <th>vine</th>\n",
              "      <th>verified_purchase</th>\n",
              "      <th>review_headline</th>\n",
              "      <th>review_body</th>\n",
              "      <th>review_date</th>\n",
              "    </tr>\n",
              "  </thead>\n",
              "  <tbody>\n",
              "    <tr>\n",
              "      <th>0</th>\n",
              "      <td>US</td>\n",
              "      <td>32114233</td>\n",
              "      <td>R1QX6706ZWJ1P5</td>\n",
              "      <td>B00OYRW4UE</td>\n",
              "      <td>223980852</td>\n",
              "      <td>Elite Sportz Exercise Sliders are Double Sided...</td>\n",
              "      <td>Personal_Care_Appliances</td>\n",
              "      <td>5</td>\n",
              "      <td>0</td>\n",
              "      <td>0</td>\n",
              "      <td>N</td>\n",
              "      <td>Y</td>\n",
              "      <td>Good quality. Shipped</td>\n",
              "      <td>Exactly as described. Good quality. Shipped fast</td>\n",
              "      <td>2015-08-31</td>\n",
              "    </tr>\n",
              "    <tr>\n",
              "      <th>1</th>\n",
              "      <td>US</td>\n",
              "      <td>18125776</td>\n",
              "      <td>R3QWMLJHIW6P37</td>\n",
              "      <td>B0000537JQ</td>\n",
              "      <td>819771537</td>\n",
              "      <td>Ezy Dose Weekly</td>\n",
              "      <td>Personal_Care_Appliances</td>\n",
              "      <td>5</td>\n",
              "      <td>0</td>\n",
              "      <td>0</td>\n",
              "      <td>N</td>\n",
              "      <td>Y</td>\n",
              "      <td>Five Stars</td>\n",
              "      <td>It is great</td>\n",
              "      <td>2015-08-31</td>\n",
              "    </tr>\n",
              "    <tr>\n",
              "      <th>2</th>\n",
              "      <td>US</td>\n",
              "      <td>19917519</td>\n",
              "      <td>R14Z1VR1N0Z9G6</td>\n",
              "      <td>B00HXXO332</td>\n",
              "      <td>849307176</td>\n",
              "      <td>Pulse Oximeter, Blood Oxygen Monitor</td>\n",
              "      <td>Personal_Care_Appliances</td>\n",
              "      <td>5</td>\n",
              "      <td>1</td>\n",
              "      <td>1</td>\n",
              "      <td>N</td>\n",
              "      <td>Y</td>\n",
              "      <td>It's really nice it works great</td>\n",
              "      <td>It's really nice it works great. You have the ...</td>\n",
              "      <td>2015-08-31</td>\n",
              "    </tr>\n",
              "    <tr>\n",
              "      <th>3</th>\n",
              "      <td>US</td>\n",
              "      <td>18277171</td>\n",
              "      <td>R25ZRJL0GH0U0</td>\n",
              "      <td>B00EOB0JA2</td>\n",
              "      <td>700864740</td>\n",
              "      <td>SE Tools Tool Kit Watch Watch Repair Kit (20 P...</td>\n",
              "      <td>Personal_Care_Appliances</td>\n",
              "      <td>2</td>\n",
              "      <td>0</td>\n",
              "      <td>0</td>\n",
              "      <td>N</td>\n",
              "      <td>Y</td>\n",
              "      <td>Two Stars</td>\n",
              "      <td>The kit works fine... simple cheap plastic tho</td>\n",
              "      <td>2015-08-31</td>\n",
              "    </tr>\n",
              "    <tr>\n",
              "      <th>4</th>\n",
              "      <td>US</td>\n",
              "      <td>2593270</td>\n",
              "      <td>R3837KYH7AZNIY</td>\n",
              "      <td>B00OC2O1UC</td>\n",
              "      <td>794298839</td>\n",
              "      <td>doTERRA HD Clear Facial Kit - Facial Lotion, F...</td>\n",
              "      <td>Personal_Care_Appliances</td>\n",
              "      <td>4</td>\n",
              "      <td>0</td>\n",
              "      <td>1</td>\n",
              "      <td>N</td>\n",
              "      <td>Y</td>\n",
              "      <td>Four Stars</td>\n",
              "      <td>It works better than anything else ive tried</td>\n",
              "      <td>2015-08-31</td>\n",
              "    </tr>\n",
              "  </tbody>\n",
              "</table>\n",
              "</div>"
            ],
            "text/plain": [
              "  marketplace  ...  review_date\n",
              "0          US  ...   2015-08-31\n",
              "1          US  ...   2015-08-31\n",
              "2          US  ...   2015-08-31\n",
              "3          US  ...   2015-08-31\n",
              "4          US  ...   2015-08-31\n",
              "\n",
              "[5 rows x 15 columns]"
            ]
          },
          "metadata": {
            "tags": []
          },
          "execution_count": 28
        }
      ]
    },
    {
      "cell_type": "code",
      "metadata": {
        "id": "edQPP2Aaenrp",
        "colab_type": "code",
        "colab": {}
      },
      "source": [
        "\n",
        "df_1 = df1.loc[df1[\"star_rating\"]==\"1\"]\n",
        "df_2 = df1.loc[df1[\"star_rating\"]==\"2\"]\n",
        "df_3 = df1.loc[df1[\"star_rating\"]==\"3\"]\n",
        "df_4 = df1.loc[df1[\"star_rating\"]==\"4\"]\n",
        "df_5 = df1.loc[df1[\"star_rating\"]==\"5\"]\n",
        "\n",
        "df_star1= df_1.sample(n = 5338, replace = True) \n",
        "df_star2= df_2.sample(n = 5338, replace = True) \n",
        "df_star3= df_3.sample(n = 5338, replace = True) \n",
        "df_star4= df_4.sample(n = 5338, replace = True) \n",
        "df_star5= df_5.sample(n = 5338, replace = True) \n",
        "\n",
        "frames = [df_star1, df_star2, df_star3, df_star4, df_star5]\n",
        "\n",
        "df_sample = pd.concat(frames)\n",
        "df_sample[[\"star_rating\",\"review_body\"]]= df[[\"star_rating\",\"review_body\"]].astype(str)"
      ],
      "execution_count": 29,
      "outputs": []
    },
    {
      "cell_type": "code",
      "metadata": {
        "id": "rU-7qAvfuG0E",
        "colab_type": "code",
        "colab": {
          "base_uri": "https://localhost:8080/",
          "height": 748
        },
        "outputId": "4d986c36-46e2-489b-bf67-4297e8fa1fa3"
      },
      "source": [
        "#Only run once, or everytime if using google colab\n",
        "!pip install googletrans"
      ],
      "execution_count": 6,
      "outputs": [
        {
          "output_type": "stream",
          "text": [
            "Collecting googletrans\n",
            "  Downloading https://files.pythonhosted.org/packages/71/3a/3b19effdd4c03958b90f40fe01c93de6d5280e03843cc5adf6956bfc9512/googletrans-3.0.0.tar.gz\n",
            "Collecting httpx==0.13.3\n",
            "\u001b[?25l  Downloading https://files.pythonhosted.org/packages/54/b4/698b284c6aed4d7c2b4fe3ba5df1fcf6093612423797e76fbb24890dd22f/httpx-0.13.3-py3-none-any.whl (55kB)\n",
            "\u001b[K     |████████████████████████████████| 61kB 2.8MB/s \n",
            "\u001b[?25hRequirement already satisfied: certifi in /usr/local/lib/python3.6/dist-packages (from httpx==0.13.3->googletrans) (2020.6.20)\n",
            "Collecting httpcore==0.9.*\n",
            "\u001b[?25l  Downloading https://files.pythonhosted.org/packages/dd/d5/e4ff9318693ac6101a2095e580908b591838c6f33df8d3ee8dd953ba96a8/httpcore-0.9.1-py3-none-any.whl (42kB)\n",
            "\u001b[K     |████████████████████████████████| 51kB 5.3MB/s \n",
            "\u001b[?25hCollecting hstspreload\n",
            "\u001b[?25l  Downloading https://files.pythonhosted.org/packages/0d/3f/ebf71a02c2e45736515b130f39f8d6fd4dcf4810ddebfb62dba3d5b050f9/hstspreload-2020.7.17-py3-none-any.whl (917kB)\n",
            "\u001b[K     |████████████████████████████████| 921kB 8.8MB/s \n",
            "\u001b[?25hCollecting rfc3986<2,>=1.3\n",
            "  Downloading https://files.pythonhosted.org/packages/78/be/7b8b99fd74ff5684225f50dd0e865393d2265656ef3b4ba9eaaaffe622b8/rfc3986-1.4.0-py2.py3-none-any.whl\n",
            "Requirement already satisfied: chardet==3.* in /usr/local/lib/python3.6/dist-packages (from httpx==0.13.3->googletrans) (3.0.4)\n",
            "Collecting sniffio\n",
            "  Downloading https://files.pythonhosted.org/packages/b3/82/4bd4b7d9c0d1dc0fbfbc2a1e00138e7f3ab85bc239358fe9b78aa2ab586d/sniffio-1.1.0-py3-none-any.whl\n",
            "Requirement already satisfied: idna==2.* in /usr/local/lib/python3.6/dist-packages (from httpx==0.13.3->googletrans) (2.10)\n",
            "Collecting h2==3.*\n",
            "\u001b[?25l  Downloading https://files.pythonhosted.org/packages/25/de/da019bcc539eeab02f6d45836f23858ac467f584bfec7a526ef200242afe/h2-3.2.0-py2.py3-none-any.whl (65kB)\n",
            "\u001b[K     |████████████████████████████████| 71kB 7.5MB/s \n",
            "\u001b[?25hCollecting h11<0.10,>=0.8\n",
            "\u001b[?25l  Downloading https://files.pythonhosted.org/packages/5a/fd/3dad730b0f95e78aeeb742f96fa7bbecbdd56a58e405d3da440d5bfb90c6/h11-0.9.0-py2.py3-none-any.whl (53kB)\n",
            "\u001b[K     |████████████████████████████████| 61kB 7.7MB/s \n",
            "\u001b[?25hCollecting contextvars>=2.1; python_version < \"3.7\"\n",
            "  Downloading https://files.pythonhosted.org/packages/83/96/55b82d9f13763be9d672622e1b8106c85acb83edd7cc2fa5bc67cd9877e9/contextvars-2.4.tar.gz\n",
            "Collecting hyperframe<6,>=5.2.0\n",
            "  Downloading https://files.pythonhosted.org/packages/19/0c/bf88182bcb5dce3094e2f3e4fe20db28a9928cb7bd5b08024030e4b140db/hyperframe-5.2.0-py2.py3-none-any.whl\n",
            "Collecting hpack<4,>=3.0\n",
            "  Downloading https://files.pythonhosted.org/packages/8a/cc/e53517f4a1e13f74776ca93271caef378dadec14d71c61c949d759d3db69/hpack-3.0.0-py2.py3-none-any.whl\n",
            "Collecting immutables>=0.9\n",
            "\u001b[?25l  Downloading https://files.pythonhosted.org/packages/99/e0/ea6fd4697120327d26773b5a84853f897a68e33d3f9376b00a8ff96e4f63/immutables-0.14-cp36-cp36m-manylinux1_x86_64.whl (98kB)\n",
            "\u001b[K     |████████████████████████████████| 102kB 9.6MB/s \n",
            "\u001b[?25hBuilding wheels for collected packages: googletrans, contextvars\n",
            "  Building wheel for googletrans (setup.py) ... \u001b[?25l\u001b[?25hdone\n",
            "  Created wheel for googletrans: filename=googletrans-3.0.0-cp36-none-any.whl size=15736 sha256=97ea0db35f3a4be0cea5e52f40fb832a6506bea938292b5f736e6db16e0a8f72\n",
            "  Stored in directory: /root/.cache/pip/wheels/28/1a/a7/eaf4d7a3417a0c65796c547cff4deb6d79c7d14c2abd29273e\n",
            "  Building wheel for contextvars (setup.py) ... \u001b[?25l\u001b[?25hdone\n",
            "  Created wheel for contextvars: filename=contextvars-2.4-cp36-none-any.whl size=7666 sha256=e6e8afc43c58b7de0017f02fa18521fcf1f7185836236d3a98e218a5cae2556a\n",
            "  Stored in directory: /root/.cache/pip/wheels/a5/7d/68/1ebae2668bda2228686e3c1cf16f2c2384cea6e9334ad5f6de\n",
            "Successfully built googletrans contextvars\n",
            "Installing collected packages: hyperframe, hpack, h2, h11, immutables, contextvars, sniffio, httpcore, hstspreload, rfc3986, httpx, googletrans\n",
            "Successfully installed contextvars-2.4 googletrans-3.0.0 h11-0.9.0 h2-3.2.0 hpack-3.0.0 hstspreload-2020.7.17 httpcore-0.9.1 httpx-0.13.3 hyperframe-5.2.0 immutables-0.14 rfc3986-1.4.0 sniffio-1.1.0\n"
          ],
          "name": "stdout"
        }
      ]
    },
    {
      "cell_type": "code",
      "metadata": {
        "id": "_oMyJREIDXYw",
        "colab_type": "code",
        "colab": {}
      },
      "source": [
        "import googletrans\n",
        "from googletrans import Translator"
      ],
      "execution_count": 7,
      "outputs": []
    },
    {
      "cell_type": "code",
      "metadata": {
        "id": "1AZ3NVboATfm",
        "colab_type": "code",
        "colab": {}
      },
      "source": [
        "translated_df = pd.DataFrame(df_sample[[\"star_rating\",\"review_body\"]])\n",
        "data = translated_df[\"review_body\"]\n",
        "source = 'en'\n",
        "destination = 'fr'"
      ],
      "execution_count": 41,
      "outputs": []
    },
    {
      "cell_type": "code",
      "metadata": {
        "id": "VkcyjJJZCQc2",
        "colab_type": "code",
        "colab": {
          "base_uri": "https://localhost:8080/",
          "height": 221
        },
        "outputId": "4adb9187-3282-497d-c15d-42cc6f2d0c0b"
      },
      "source": [
        "data"
      ],
      "execution_count": 42,
      "outputs": [
        {
          "output_type": "execute_result",
          "data": {
            "text/plain": [
              "63365    Its not good product.Poorly designed.I waned m...\n",
              "14272    For the money the case should be metal and the...\n",
              "85346    I knew I was in trouble when it took me about ...\n",
              "55416    Rarely write reviews but this product was so b...\n",
              "64432    I bought the finishing touch personal hair rem...\n",
              "                               ...                        \n",
              "22278    This works on adults, and children. Seems accu...\n",
              "39056    This is a big piece of soap that has a very ni...\n",
              "48877    i admit when i ordered these replacement brush...\n",
              "52712    The pillow cover fits the Med-Slant pillow per...\n",
              "18873                                              perfect\n",
              "Name: review_body, Length: 26690, dtype: object"
            ]
          },
          "metadata": {
            "tags": []
          },
          "execution_count": 42
        }
      ]
    },
    {
      "cell_type": "code",
      "metadata": {
        "id": "1SvYNAHxDTEe",
        "colab_type": "code",
        "colab": {}
      },
      "source": [
        "#Translator function\n",
        "translator = Translator()\n",
        "translations = {}\n",
        "\n",
        "def translator_function(data,source,destination):\n",
        "\n",
        "  unique_elements = data.unique()\n",
        "  for element in unique_elements:\n",
        "        # Adding all the translations to a dictionary (translations)\n",
        "    translations[element] = translator.translate(element, src = source, dest=destination).text\n",
        "        #translated_df = pd.DataFrame(translations)"
      ],
      "execution_count": 36,
      "outputs": []
    },
    {
      "cell_type": "markdown",
      "metadata": {
        "id": "qPBXBguIXqwe",
        "colab_type": "text"
      },
      "source": [
        ""
      ]
    },
    {
      "cell_type": "code",
      "metadata": {
        "id": "eiW1LzHKDoUC",
        "colab_type": "code",
        "colab": {}
      },
      "source": [
        "source = 'en'\n",
        "destination = 'fr'\n",
        "translator_function(data,source,destination)"
      ],
      "execution_count": 43,
      "outputs": []
    },
    {
      "cell_type": "code",
      "metadata": {
        "id": "zuuZS0TLqatb",
        "colab_type": "code",
        "colab": {}
      },
      "source": [
        "en_fr = translations "
      ],
      "execution_count": 45,
      "outputs": []
    },
    {
      "cell_type": "code",
      "metadata": {
        "id": "TQU7ax0L_Xmg",
        "colab_type": "code",
        "colab": {
          "base_uri": "https://localhost:8080/",
          "height": 359
        },
        "outputId": "1fbb84ae-9950-4808-b073-7425480b1d6b"
      },
      "source": [
        "# Replacing all the translated words from the dictionary to the original dataframe\n",
        "translated_df.replace(en_fr, inplace = True)\n",
        "translated_df.head(10)"
      ],
      "execution_count": 46,
      "outputs": [
        {
          "output_type": "execute_result",
          "data": {
            "text/html": [
              "<div>\n",
              "<style scoped>\n",
              "    .dataframe tbody tr th:only-of-type {\n",
              "        vertical-align: middle;\n",
              "    }\n",
              "\n",
              "    .dataframe tbody tr th {\n",
              "        vertical-align: top;\n",
              "    }\n",
              "\n",
              "    .dataframe thead th {\n",
              "        text-align: right;\n",
              "    }\n",
              "</style>\n",
              "<table border=\"1\" class=\"dataframe\">\n",
              "  <thead>\n",
              "    <tr style=\"text-align: right;\">\n",
              "      <th></th>\n",
              "      <th>star_rating</th>\n",
              "      <th>review_body</th>\n",
              "    </tr>\n",
              "  </thead>\n",
              "  <tbody>\n",
              "    <tr>\n",
              "      <th>63365</th>\n",
              "      <td>1</td>\n",
              "      <td>Ce n'est pas un bon produit.Malement conçu.J'a...</td>\n",
              "    </tr>\n",
              "    <tr>\n",
              "      <th>14272</th>\n",
              "      <td>1</td>\n",
              "      <td>Pour l'argent, le boîtier doit être en métal e...</td>\n",
              "    </tr>\n",
              "    <tr>\n",
              "      <th>85346</th>\n",
              "      <td>1</td>\n",
              "      <td>Je savais que j'avais des problèmes quand il m...</td>\n",
              "    </tr>\n",
              "    <tr>\n",
              "      <th>55416</th>\n",
              "      <td>1</td>\n",
              "      <td>Écrivez rarement des critiques mais ce produit...</td>\n",
              "    </tr>\n",
              "    <tr>\n",
              "      <th>64432</th>\n",
              "      <td>1</td>\n",
              "      <td>J'ai acheté l'épilateur personnel de finition ...</td>\n",
              "    </tr>\n",
              "    <tr>\n",
              "      <th>592</th>\n",
              "      <td>1</td>\n",
              "      <td>J'étais tellement excité par ce produit mais j...</td>\n",
              "    </tr>\n",
              "    <tr>\n",
              "      <th>63063</th>\n",
              "      <td>1</td>\n",
              "      <td>J'en ai acheté un dans un magasin de sport et ...</td>\n",
              "    </tr>\n",
              "    <tr>\n",
              "      <th>15761</th>\n",
              "      <td>1</td>\n",
              "      <td>Mauvais. Ça ne marche pas</td>\n",
              "    </tr>\n",
              "    <tr>\n",
              "      <th>34339</th>\n",
              "      <td>1</td>\n",
              "      <td>Il s'est cassé après la deuxième utilisation ....</td>\n",
              "    </tr>\n",
              "    <tr>\n",
              "      <th>67240</th>\n",
              "      <td>1</td>\n",
              "      <td>Regardez les ingrédients, c'est de l'eau sucré...</td>\n",
              "    </tr>\n",
              "  </tbody>\n",
              "</table>\n",
              "</div>"
            ],
            "text/plain": [
              "      star_rating                                        review_body\n",
              "63365           1  Ce n'est pas un bon produit.Malement conçu.J'a...\n",
              "14272           1  Pour l'argent, le boîtier doit être en métal e...\n",
              "85346           1  Je savais que j'avais des problèmes quand il m...\n",
              "55416           1  Écrivez rarement des critiques mais ce produit...\n",
              "64432           1  J'ai acheté l'épilateur personnel de finition ...\n",
              "592             1  J'étais tellement excité par ce produit mais j...\n",
              "63063           1  J'en ai acheté un dans un magasin de sport et ...\n",
              "15761           1                          Mauvais. Ça ne marche pas\n",
              "34339           1  Il s'est cassé après la deuxième utilisation ....\n",
              "67240           1  Regardez les ingrédients, c'est de l'eau sucré..."
            ]
          },
          "metadata": {
            "tags": []
          },
          "execution_count": 46
        }
      ]
    },
    {
      "cell_type": "code",
      "metadata": {
        "id": "k_rokB56Ap7A",
        "colab_type": "code",
        "colab": {}
      },
      "source": [
        "#Now translate back again\n",
        "source = 'fr'\n",
        "destination = 'en'\n",
        "data = translated_df[\"review_body\"]\n",
        "translator_function(data,source,destination)"
      ],
      "execution_count": 47,
      "outputs": []
    },
    {
      "cell_type": "code",
      "metadata": {
        "id": "U7S7Ggv9A--2",
        "colab_type": "code",
        "colab": {
          "base_uri": "https://localhost:8080/",
          "height": 204
        },
        "outputId": "5f9e63b6-a74d-47ad-9bf0-b89b430257b0"
      },
      "source": [
        "translated_df.replace(en_fr, inplace = True)\n",
        "translated_df.head()"
      ],
      "execution_count": 51,
      "outputs": [
        {
          "output_type": "execute_result",
          "data": {
            "text/html": [
              "<div>\n",
              "<style scoped>\n",
              "    .dataframe tbody tr th:only-of-type {\n",
              "        vertical-align: middle;\n",
              "    }\n",
              "\n",
              "    .dataframe tbody tr th {\n",
              "        vertical-align: top;\n",
              "    }\n",
              "\n",
              "    .dataframe thead th {\n",
              "        text-align: right;\n",
              "    }\n",
              "</style>\n",
              "<table border=\"1\" class=\"dataframe\">\n",
              "  <thead>\n",
              "    <tr style=\"text-align: right;\">\n",
              "      <th></th>\n",
              "      <th>star_rating</th>\n",
              "      <th>review_body</th>\n",
              "    </tr>\n",
              "  </thead>\n",
              "  <tbody>\n",
              "    <tr>\n",
              "      <th>63365</th>\n",
              "      <td>1</td>\n",
              "      <td>It is not a good product. Badly designed. I ha...</td>\n",
              "    </tr>\n",
              "    <tr>\n",
              "      <th>14272</th>\n",
              "      <td>1</td>\n",
              "      <td>For the money, the case must be made of metal ...</td>\n",
              "    </tr>\n",
              "    <tr>\n",
              "      <th>85346</th>\n",
              "      <td>1</td>\n",
              "      <td>I knew I had problems when it took me about 20...</td>\n",
              "    </tr>\n",
              "    <tr>\n",
              "      <th>55416</th>\n",
              "      <td>1</td>\n",
              "      <td>Rarely write reviews but this product was so b...</td>\n",
              "    </tr>\n",
              "    <tr>\n",
              "      <th>64432</th>\n",
              "      <td>1</td>\n",
              "      <td>I bought the personal finishing epilator from ...</td>\n",
              "    </tr>\n",
              "  </tbody>\n",
              "</table>\n",
              "</div>"
            ],
            "text/plain": [
              "      star_rating                                        review_body\n",
              "63365           1  It is not a good product. Badly designed. I ha...\n",
              "14272           1  For the money, the case must be made of metal ...\n",
              "85346           1  I knew I had problems when it took me about 20...\n",
              "55416           1  Rarely write reviews but this product was so b...\n",
              "64432           1  I bought the personal finishing epilator from ..."
            ]
          },
          "metadata": {
            "tags": []
          },
          "execution_count": 51
        }
      ]
    },
    {
      "cell_type": "code",
      "metadata": {
        "id": "UlVCo3T97wsl",
        "colab_type": "code",
        "colab": {}
      },
      "source": [
        "# Select out features and labels\n",
        "entireDataset = spark.createDataFrame(translated_df[['star_rating', 'review_body']])"
      ],
      "execution_count": 52,
      "outputs": []
    },
    {
      "cell_type": "code",
      "metadata": {
        "id": "aLYggs2r75ER",
        "colab_type": "code",
        "colab": {
          "base_uri": "https://localhost:8080/",
          "height": 34
        },
        "outputId": "d494bf78-a337-4b33-95ac-e6ad803b7474"
      },
      "source": [
        "# Check data types\n",
        "entireDataset.dtypes"
      ],
      "execution_count": 53,
      "outputs": [
        {
          "output_type": "execute_result",
          "data": {
            "text/plain": [
              "[('star_rating', 'string'), ('review_body', 'string')]"
            ]
          },
          "metadata": {
            "tags": []
          },
          "execution_count": 53
        }
      ]
    },
    {
      "cell_type": "code",
      "metadata": {
        "id": "n-pMhwc479HN",
        "colab_type": "code",
        "colab": {
          "base_uri": "https://localhost:8080/",
          "height": 34
        },
        "outputId": "ea75f08e-b7b2-49d3-85e3-f6af31c6927e"
      },
      "source": [
        "# View col names\n",
        "entireDataset.columns"
      ],
      "execution_count": 54,
      "outputs": [
        {
          "output_type": "execute_result",
          "data": {
            "text/plain": [
              "['star_rating', 'review_body']"
            ]
          },
          "metadata": {
            "tags": []
          },
          "execution_count": 54
        }
      ]
    },
    {
      "cell_type": "code",
      "metadata": {
        "id": "sSrJhAJ58BXB",
        "colab_type": "code",
        "colab": {}
      },
      "source": [
        "# Change object to string\n",
        "entireDataset.review_body = entireDataset.review_body.astype('string')"
      ],
      "execution_count": 55,
      "outputs": []
    },
    {
      "cell_type": "code",
      "metadata": {
        "id": "43qB-Hrx8RFc",
        "colab_type": "code",
        "colab": {}
      },
      "source": [
        "# Prepare for NLP pipeline with initial DocumentAssembler\n",
        "# Content is inside review_body\n",
        "document = DocumentAssembler() \\\n",
        "  .setInputCol(\"review_body\") \\\n",
        "  .setOutputCol(\"document\")"
      ],
      "execution_count": 56,
      "outputs": []
    },
    {
      "cell_type": "code",
      "metadata": {
        "id": "bM-NridQ8Wyo",
        "colab_type": "code",
        "colab": {
          "base_uri": "https://localhost:8080/",
          "height": 68
        },
        "outputId": "f3dc91d0-cfa9-4198-a2f5-6a4f8aa86c7a"
      },
      "source": [
        "# Using sentence detector (pretrained)\n",
        "# Sentence detector\n",
        "use = UniversalSentenceEncoder.pretrained() \\\n",
        "  .setInputCols([\"document\"]) \\\n",
        "  . setOutputCol(\"sentence_embeddings\")"
      ],
      "execution_count": 57,
      "outputs": [
        {
          "output_type": "stream",
          "text": [
            "tfhub_use download started this may take some time.\n",
            "Approximate size to download 923.7 MB\n",
            "[OK!]\n"
          ],
          "name": "stdout"
        }
      ]
    },
    {
      "cell_type": "code",
      "metadata": {
        "id": "NSJQxKCC8bQy",
        "colab_type": "code",
        "colab": {}
      },
      "source": [
        "# Our labels / classes are the 1 - 5 star ratings\n",
        "# These are in the star_rating col\n",
        "\n",
        "classifierdl = ClassifierDLApproach()\\\n",
        "  .setInputCols([\"sentence_embeddings\"])\\\n",
        "  .setOutputCol(\"class\")\\\n",
        "  .setLabelColumn(\"star_rating\")\\\n",
        "  .setMaxEpochs(15)\\\n",
        "  .setEnableOutputLogs(True)"
      ],
      "execution_count": 58,
      "outputs": []
    },
    {
      "cell_type": "code",
      "metadata": {
        "id": "Rw2mqwhq8fRr",
        "colab_type": "code",
        "colab": {}
      },
      "source": [
        "# Declare the pipeline\n",
        "use_clf_pipeline = Pipeline(\n",
        "  stages = [\n",
        "    document,\n",
        "    use,\n",
        "    classifierdl\n",
        "  ]\n",
        ")\n",
        "\n"
      ],
      "execution_count": 59,
      "outputs": []
    },
    {
      "cell_type": "code",
      "metadata": {
        "id": "-_DIGgINuk7t",
        "colab_type": "code",
        "colab": {}
      },
      "source": [
        "# Split into training and testing data\n",
        "trainDataset, testDataset = entireDataset.randomSplit([0.75, 0.25], seed=12345)\n"
      ],
      "execution_count": 60,
      "outputs": []
    },
    {
      "cell_type": "code",
      "metadata": {
        "id": "bcpzOMbvuq4L",
        "colab_type": "code",
        "colab": {}
      },
      "source": [
        "# Begin fitting on the data\n",
        "use_pipelineModel = use_clf_pipeline.fit(trainDataset)"
      ],
      "execution_count": 61,
      "outputs": []
    },
    {
      "cell_type": "code",
      "metadata": {
        "id": "-Co3AEqfuqrJ",
        "colab_type": "code",
        "colab": {
          "base_uri": "https://localhost:8080/",
          "height": 459
        },
        "outputId": "c3403519-a2d9-4244-ffdd-b81e71085ae4"
      },
      "source": [
        "# Set predictions on testDataset\n",
        "predictions = use_pipelineModel.transform(testDataset)\n",
        "predictions.count()\n",
        "predictions.show()"
      ],
      "execution_count": 62,
      "outputs": [
        {
          "output_type": "stream",
          "text": [
            "+-----------+--------------------+--------------------+--------------------+--------------------+\n",
            "|star_rating|         review_body|            document| sentence_embeddings|               class|\n",
            "+-----------+--------------------+--------------------+--------------------+--------------------+\n",
            "|          1|(Health and beaut...|[[document, 0, 23...|[[sentence_embedd...|[[category, 0, 23...|\n",
            "|          1|* Good point of v...|[[document, 0, 17...|[[sentence_embedd...|[[category, 0, 17...|\n",
            "|          1|*** Edited since ...|[[document, 0, 66...|[[sentence_embedd...|[[category, 0, 66...|\n",
            "|          1|1 star is too hig...|[[document, 0, 30...|[[sentence_embedd...|[[category, 0, 30...|\n",
            "|          1|1) The sound leve...|[[document, 0, 92...|[[sentence_embedd...|[[category, 0, 92...|\n",
            "|          1|1.  It does NOT h...|[[document, 0, 60...|[[sentence_embedd...|[[category, 0, 60...|\n",
            "|          1|A comparison of t...|[[document, 0, 38...|[[sentence_embedd...|[[category, 0, 38...|\n",
            "|          1|A few weeks ago, ...|[[document, 0, 56...|[[sentence_embedd...|[[category, 0, 56...|\n",
            "|          1|A few weeks ago, ...|[[document, 0, 56...|[[sentence_embedd...|[[category, 0, 56...|\n",
            "|          1|A vibrant alarm c...|[[document, 0, 15...|[[sentence_embedd...|[[category, 0, 15...|\n",
            "|          1|A waste of money ...|[[document, 0, 22...|[[sentence_embedd...|[[category, 0, 22...|\n",
            "|          1|ALLEGRO IS THE WO...|[[document, 0, 50...|[[sentence_embedd...|[[category, 0, 50...|\n",
            "|          1|Absolutely useles...|[[document, 0, 13...|[[sentence_embedd...|[[category, 0, 13...|\n",
            "|          1|Acumen did not wo...|[[document, 0, 36...|[[sentence_embedd...|[[category, 0, 36...|\n",
            "|          1|After 4 months of...|[[document, 0, 36...|[[sentence_embedd...|[[category, 0, 36...|\n",
            "|          1|After about 5 wee...|[[document, 0, 19...|[[sentence_embedd...|[[category, 0, 19...|\n",
            "|          1|After about a wee...|[[document, 0, 38...|[[sentence_embedd...|[[category, 0, 38...|\n",
            "|          1|After an entire h...|[[document, 0, 30...|[[sentence_embedd...|[[category, 0, 30...|\n",
            "|          1|After buying this...|[[document, 0, 73...|[[sentence_embedd...|[[category, 0, 73...|\n",
            "|          1|After hearing man...|[[document, 0, 17...|[[sentence_embedd...|[[category, 0, 17...|\n",
            "+-----------+--------------------+--------------------+--------------------+--------------------+\n",
            "only showing top 20 rows\n",
            "\n"
          ],
          "name": "stdout"
        }
      ]
    },
    {
      "cell_type": "code",
      "metadata": {
        "id": "PI8UldOU8l4-",
        "colab_type": "code",
        "colab": {
          "base_uri": "https://localhost:8080/",
          "height": 289
        },
        "outputId": "ccf1e4a6-1c74-43c0-9d49-d3ea4068bdff"
      },
      "source": [
        "\n",
        "# Run predictions\n",
        "predictions.select('star_rating','review_body', 'class.result').show(10, truncate=80)"
      ],
      "execution_count": 63,
      "outputs": [
        {
          "output_type": "stream",
          "text": [
            "+-----------+--------------------------------------------------------------------------------+------+\n",
            "|star_rating|                                                                     review_body|result|\n",
            "+-----------+--------------------------------------------------------------------------------+------+\n",
            "|          1|(Health and beauty) <br /> The product was delivered on time, but the product...|   [1]|\n",
            "|          1|* Good point of views; ^^ * 1. The design is perfect to use this on the bed, ...|   [2]|\n",
            "|          1|*** Edited since 1 star review was published *** I had some issues with recei...|   [1]|\n",
            "|          1|1 star is too high for this product. What else can I say, it just doesn't cut...|   [1]|\n",
            "|          1|1) The sound level does not compare to my warm mist humidifier which broke wh...|   [2]|\n",
            "|          1|1.  It does NOT heat up quickly<br />2.  I left the rollers in for a long tim...|   [1]|\n",
            "|          1|A comparison of three different maternity support belts    At 22 weeks pregna...|   [4]|\n",
            "|          1|A few weeks ago, I bought another Acu-Rite wireless temperature sensor from W...|   [1]|\n",
            "|          1|A few weeks ago, I bought another Acu-Rite wireless temperature sensor from W...|   [1]|\n",
            "|          1|A vibrant alarm clock is a very good thing, especially if you have trouble ge...|   [2]|\n",
            "+-----------+--------------------------------------------------------------------------------+------+\n",
            "only showing top 10 rows\n",
            "\n"
          ],
          "name": "stdout"
        }
      ]
    },
    {
      "cell_type": "code",
      "metadata": {
        "id": "LXHjpJnE8rIF",
        "colab_type": "code",
        "colab": {}
      },
      "source": [
        "# Import reports for quantifying results\n",
        "from sklearn.metrics import classification_report, accuracy_score\n",
        "\n",
        "df = use_pipelineModel.transform(testDataset).select('star_rating','review_body', 'class.result').toPandas()\n",
        "\n",
        "df['result'] = df['result'].apply(lambda x: x[0])"
      ],
      "execution_count": 64,
      "outputs": []
    },
    {
      "cell_type": "code",
      "metadata": {
        "id": "WP0rH1-A8uTC",
        "colab_type": "code",
        "colab": {}
      },
      "source": [
        "df.result = df.result.astype(str)"
      ],
      "execution_count": 65,
      "outputs": []
    },
    {
      "cell_type": "code",
      "metadata": {
        "id": "bn5Huv2u8v74",
        "colab_type": "code",
        "colab": {
          "base_uri": "https://localhost:8080/",
          "height": 238
        },
        "outputId": "549897cf-f651-43f9-d977-1eb790f63bb1"
      },
      "source": [
        "print(classification_report(df['star_rating'], df.result))\n",
        "print(accuracy_score(df['star_rating'], df.result))"
      ],
      "execution_count": 66,
      "outputs": [
        {
          "output_type": "stream",
          "text": [
            "              precision    recall  f1-score   support\n",
            "\n",
            "           1       0.53      0.62      0.57      1363\n",
            "           2       0.36      0.36      0.36      1321\n",
            "           3       0.39      0.33      0.35      1329\n",
            "           4       0.40      0.31      0.35      1368\n",
            "           5       0.52      0.64      0.57      1335\n",
            "\n",
            "    accuracy                           0.45      6716\n",
            "   macro avg       0.44      0.45      0.44      6716\n",
            "weighted avg       0.44      0.45      0.44      6716\n",
            "\n",
            "0.45131030375223347\n"
          ],
          "name": "stdout"
        }
      ]
    }
  ]
}