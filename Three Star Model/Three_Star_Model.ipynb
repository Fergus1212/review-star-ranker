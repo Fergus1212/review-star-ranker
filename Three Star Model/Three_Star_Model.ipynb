{
  "cells": [
    {
      "cell_type": "code",
      "metadata": {
        "id": "WuCz0Vth7GJY",
        "colab_type": "code",
        "colab": {
          "base_uri": "https://localhost:8080/",
          "height": 68
        },
        "outputId": "a6736704-3706-43e6-8233-ab42eb146249"
      },
      "source": [
        "import os\n",
        "\n",
        "# Install java\n",
        "! apt-get install -y openjdk-8-jdk-headless -qq > /dev/null\n",
        "os.environ[\"JAVA_HOME\"] = \"/usr/lib/jvm/java-8-openjdk-amd64\"\n",
        "os.environ[\"PATH\"] = os.environ[\"JAVA_HOME\"] + \"/bin:\" + os.environ[\"PATH\"]\n",
        "! java -version\n",
        "\n",
        "# Install pyspark\n",
        "! pip install --ignore-installed -q pyspark==2.4.4\n",
        "! pip install --ignore-installed -q spark-nlp==2.5.3"
      ],
      "execution_count": 34,
      "outputs": [
        {
          "output_type": "stream",
          "text": [
            "openjdk version \"1.8.0_252\"\n",
            "OpenJDK Runtime Environment (build 1.8.0_252-8u252-b09-1~18.04-b09)\n",
            "OpenJDK 64-Bit Server VM (build 25.252-b09, mixed mode)\n"
          ],
          "name": "stdout"
        }
      ]
    },
    {
      "cell_type": "code",
      "metadata": {
        "id": "XmZdhZ4u7PYF",
        "colab_type": "code",
        "colab": {
          "base_uri": "https://localhost:8080/",
          "height": 52
        },
        "outputId": "7ee2ed84-705b-4ac4-9931-fb936eca65af"
      },
      "source": [
        "# Run this in console to keep Co Lab Running\n",
        "'''\n",
        "function ConnectButton(){\n",
        "    console.log(\"Connect pushed\"); \n",
        "    document.querySelector(\"#top-toolbar > colab-connect-button\").shadowRoot.querySelector(\"#connect\").click() \n",
        "}\n",
        "setInterval(ConnectButton,60000);\n",
        "'''"
      ],
      "execution_count": null,
      "outputs": [
        {
          "output_type": "execute_result",
          "data": {
            "application/vnd.google.colaboratory.intrinsic": {
              "type": "string"
            },
            "text/plain": [
              "'\\nfunction ConnectButton(){\\n    console.log(\"Connect pushed\"); \\n    document.querySelector(\"#top-toolbar > colab-connect-button\").shadowRoot.querySelector(\"#connect\").click() \\n}\\nsetInterval(ConnectButton,60000);\\n'"
            ]
          },
          "metadata": {
            "tags": []
          },
          "execution_count": 28
        }
      ]
    },
    {
      "cell_type": "code",
      "metadata": {
        "id": "jj4oh8nz7UKD",
        "colab_type": "code",
        "colab": {}
      },
      "source": [
        "import sparknlp\n",
        "from sparknlp.base import *\n",
        "from sparknlp.annotator import *\n",
        "from sparknlp.common import *\n",
        "from pyspark.ml import Pipeline\n",
        "from pyspark.ml.tuning import TrainValidationSplit\n",
        "import pandas as pd"
      ],
      "execution_count": 42,
      "outputs": []
    },
    {
      "cell_type": "code",
      "metadata": {
        "id": "ciDDnn6E7fPO",
        "colab_type": "code",
        "colab": {}
      },
      "source": [
        "# Start Spark session\n",
        "spark = sparknlp.start()"
      ],
      "execution_count": 43,
      "outputs": []
    },
    {
      "cell_type": "code",
      "metadata": {
        "id": "t1lHLQ907h1a",
        "colab_type": "code",
        "colab": {
          "base_uri": "https://localhost:8080/",
          "height": 51
        },
        "outputId": "728f1b74-db83-4a28-ad8a-c6a7e1065ea4"
      },
      "source": [
        "# Best practice to print versions\n",
        "print(\"Spark NLP version\", sparknlp.version())\n",
        "print(\"Apache Spark version\", spark.version)"
      ],
      "execution_count": 44,
      "outputs": [
        {
          "output_type": "stream",
          "text": [
            "Spark NLP version 2.5.3\n",
            "Apache Spark version 2.4.4\n"
          ],
          "name": "stdout"
        }
      ]
    },
    {
      "cell_type": "code",
      "metadata": {
        "id": "fNdRSjOk7lQZ",
        "colab_type": "code",
        "colab": {
          "base_uri": "https://localhost:8080/",
          "height": 445
        },
        "outputId": "5ec5bc1d-eab6-4c50-956c-27c1f844fdf0"
      },
      "source": [
        "# Yin genius way of loading Amazon Data\n",
        "file = 'amazon_reviews_us_Pet_Products_v1_00.tsv.gz'\n",
        "os.system(f'wget https://s3.amazonaws.com/amazon-reviews-pds/tsv/{file}')\n",
        "df = pd.read_csv(file, compression='gzip', header=0, sep='\\t', error_bad_lines=False)"
      ],
      "execution_count": null,
      "outputs": [
        {
          "output_type": "stream",
          "text": [
            "b'Skipping line 21404: expected 15 fields, saw 22\\nSkipping line 31839: expected 15 fields, saw 22\\nSkipping line 37779: expected 15 fields, saw 22\\nSkipping line 38344: expected 15 fields, saw 22\\nSkipping line 61449: expected 15 fields, saw 22\\n'\n",
            "b'Skipping line 80975: expected 15 fields, saw 22\\nSkipping line 85603: expected 15 fields, saw 22\\nSkipping line 95950: expected 15 fields, saw 22\\nSkipping line 105132: expected 15 fields, saw 22\\nSkipping line 115378: expected 15 fields, saw 22\\n'\n",
            "b'Skipping line 152632: expected 15 fields, saw 22\\nSkipping line 159310: expected 15 fields, saw 22\\nSkipping line 162724: expected 15 fields, saw 22\\nSkipping line 168588: expected 15 fields, saw 22\\nSkipping line 170412: expected 15 fields, saw 22\\nSkipping line 187169: expected 15 fields, saw 22\\n'\n",
            "b'Skipping line 205461: expected 15 fields, saw 22\\nSkipping line 210928: expected 15 fields, saw 22\\nSkipping line 213691: expected 15 fields, saw 22\\nSkipping line 228697: expected 15 fields, saw 22\\nSkipping line 229383: expected 15 fields, saw 22\\nSkipping line 235713: expected 15 fields, saw 22\\nSkipping line 240421: expected 15 fields, saw 22\\nSkipping line 253547: expected 15 fields, saw 22\\n'\n",
            "b'Skipping line 303488: expected 15 fields, saw 22\\nSkipping line 306271: expected 15 fields, saw 22\\nSkipping line 307701: expected 15 fields, saw 22\\nSkipping line 317078: expected 15 fields, saw 22\\n'\n",
            "b'Skipping line 331770: expected 15 fields, saw 22\\nSkipping line 340030: expected 15 fields, saw 22\\nSkipping line 343111: expected 15 fields, saw 22\\nSkipping line 347725: expected 15 fields, saw 22\\nSkipping line 352032: expected 15 fields, saw 22\\nSkipping line 363562: expected 15 fields, saw 22\\nSkipping line 366541: expected 15 fields, saw 22\\n'\n",
            "b'Skipping line 411700: expected 15 fields, saw 22\\nSkipping line 422970: expected 15 fields, saw 22\\nSkipping line 452274: expected 15 fields, saw 22\\n'\n",
            "b'Skipping line 478751: expected 15 fields, saw 22\\nSkipping line 492268: expected 15 fields, saw 22\\nSkipping line 524242: expected 15 fields, saw 22\\n'\n",
            "b'Skipping line 529833: expected 15 fields, saw 22\\nSkipping line 557261: expected 15 fields, saw 22\\nSkipping line 573734: expected 15 fields, saw 22\\n'\n",
            "b'Skipping line 609630: expected 15 fields, saw 22\\nSkipping line 619803: expected 15 fields, saw 22\\nSkipping line 630276: expected 15 fields, saw 22\\n'\n",
            "b'Skipping line 660802: expected 15 fields, saw 22\\nSkipping line 665431: expected 15 fields, saw 22\\nSkipping line 684186: expected 15 fields, saw 22\\nSkipping line 709599: expected 15 fields, saw 22\\nSkipping line 717969: expected 15 fields, saw 22\\n'\n",
            "b'Skipping line 730455: expected 15 fields, saw 22\\nSkipping line 760019: expected 15 fields, saw 22\\nSkipping line 771682: expected 15 fields, saw 22\\nSkipping line 772685: expected 15 fields, saw 22\\nSkipping line 780429: expected 15 fields, saw 22\\n'\n",
            "b'Skipping line 794285: expected 15 fields, saw 22\\nSkipping line 794600: expected 15 fields, saw 22\\nSkipping line 814105: expected 15 fields, saw 22\\nSkipping line 821013: expected 15 fields, saw 22\\nSkipping line 821572: expected 15 fields, saw 22\\nSkipping line 838818: expected 15 fields, saw 22\\n'\n",
            "b'Skipping line 882484: expected 15 fields, saw 22\\nSkipping line 884285: expected 15 fields, saw 22\\nSkipping line 889122: expected 15 fields, saw 22\\nSkipping line 903263: expected 15 fields, saw 22\\nSkipping line 905909: expected 15 fields, saw 22\\n'\n",
            "b'Skipping line 942971: expected 15 fields, saw 22\\nSkipping line 974189: expected 15 fields, saw 22\\nSkipping line 974322: expected 15 fields, saw 22\\nSkipping line 976014: expected 15 fields, saw 22\\nSkipping line 979587: expected 15 fields, saw 22\\n'\n",
            "b'Skipping line 984046: expected 15 fields, saw 22\\nSkipping line 987303: expected 15 fields, saw 22\\nSkipping line 988454: expected 15 fields, saw 22\\nSkipping line 1022324: expected 15 fields, saw 22\\nSkipping line 1040163: expected 15 fields, saw 22\\nSkipping line 1041725: expected 15 fields, saw 22\\nSkipping line 1042582: expected 15 fields, saw 22\\n'\n",
            "b'Skipping line 1050288: expected 15 fields, saw 22\\nSkipping line 1050916: expected 15 fields, saw 22\\nSkipping line 1058744: expected 15 fields, saw 22\\nSkipping line 1083177: expected 15 fields, saw 22\\nSkipping line 1100258: expected 15 fields, saw 22\\nSkipping line 1107278: expected 15 fields, saw 22\\nSkipping line 1111345: expected 15 fields, saw 22\\nSkipping line 1111479: expected 15 fields, saw 22\\n'\n",
            "b'Skipping line 1125823: expected 15 fields, saw 22\\nSkipping line 1129482: expected 15 fields, saw 22\\nSkipping line 1131952: expected 15 fields, saw 22\\nSkipping line 1155388: expected 15 fields, saw 22\\nSkipping line 1169389: expected 15 fields, saw 22\\nSkipping line 1173501: expected 15 fields, saw 22\\nSkipping line 1176301: expected 15 fields, saw 22\\n'\n",
            "b'Skipping line 1186651: expected 15 fields, saw 22\\nSkipping line 1195294: expected 15 fields, saw 22\\nSkipping line 1196071: expected 15 fields, saw 22\\nSkipping line 1203091: expected 15 fields, saw 22\\nSkipping line 1205015: expected 15 fields, saw 22\\nSkipping line 1217204: expected 15 fields, saw 22\\nSkipping line 1220082: expected 15 fields, saw 22\\nSkipping line 1231204: expected 15 fields, saw 22\\nSkipping line 1231448: expected 15 fields, saw 22\\nSkipping line 1238917: expected 15 fields, saw 22\\n'\n",
            "b'Skipping line 1255057: expected 15 fields, saw 22\\nSkipping line 1285411: expected 15 fields, saw 22\\nSkipping line 1287752: expected 15 fields, saw 22\\nSkipping line 1292711: expected 15 fields, saw 22\\nSkipping line 1299584: expected 15 fields, saw 22\\nSkipping line 1302522: expected 15 fields, saw 22\\nSkipping line 1304105: expected 15 fields, saw 22\\n'\n",
            "b'Skipping line 1332110: expected 15 fields, saw 22\\nSkipping line 1340500: expected 15 fields, saw 22\\nSkipping line 1343112: expected 15 fields, saw 22\\nSkipping line 1343246: expected 15 fields, saw 22\\nSkipping line 1343848: expected 15 fields, saw 22\\nSkipping line 1351907: expected 15 fields, saw 22\\nSkipping line 1355456: expected 15 fields, saw 22\\nSkipping line 1364074: expected 15 fields, saw 22\\nSkipping line 1365046: expected 15 fields, saw 22\\nSkipping line 1375358: expected 15 fields, saw 22\\n'\n",
            "b'Skipping line 1469126: expected 15 fields, saw 22\\nSkipping line 1480057: expected 15 fields, saw 22\\nSkipping line 1506711: expected 15 fields, saw 22\\n'\n",
            "b'Skipping line 1616037: expected 15 fields, saw 22\\n'\n",
            "b'Skipping line 1773884: expected 15 fields, saw 22\\nSkipping line 1825979: expected 15 fields, saw 22\\n'\n"
          ],
          "name": "stderr"
        }
      ]
    },
    {
      "cell_type": "code",
      "metadata": {
        "id": "bVoqqmzren2r",
        "colab_type": "code",
        "colab": {
          "base_uri": "https://localhost:8080/",
          "height": 136
        },
        "outputId": "e319c93c-f8a2-44d5-917e-6aeca71a2ea1"
      },
      "source": [
        "df1= df\n",
        "#headline_updated = df1[\"review_headline\"].str.contains(\"One Star|Two Stars|Three Stars|Four Stars|Five Stars\",na=False)\n",
        "#df1.drop(headline_updated[headline_updated].index,axis=0,inplace=True)\n",
        "df1[[\"star_rating\",\"review_body\"]]= df1[[\"star_rating\",\"review_body\"]].astype(str)\n",
        "df1.star_rating.value_counts()\n"
      ],
      "execution_count": 45,
      "outputs": [
        {
          "output_type": "execute_result",
          "data": {
            "text/plain": [
              "5.0    1643151\n",
              "4.0     380780\n",
              "1.0     248519\n",
              "3.0     216335\n",
              "2.0     151067\n",
              "nan          1\n",
              "Name: star_rating, dtype: int64"
            ]
          },
          "metadata": {
            "tags": []
          },
          "execution_count": 45
        }
      ]
    },
    {
      "cell_type": "code",
      "metadata": {
        "id": "edQPP2Aaenrp",
        "colab_type": "code",
        "colab": {}
      },
      "source": [
        "\n",
        "df_1 = df1.loc[df1[\"star_rating\"]==\"1.0\"]\n",
        "df_2_3_4 = df1[(df1[\"star_rating\"]==\"2.0\") | (df1[\"star_rating\"]==\"3.0\") | (df1[\"star_rating\"]==\"4.0\")]\n",
        "df_5 = df1.loc[df1[\"star_rating\"]==\"5.0\"]\n",
        "\n",
        "df_star1= df_1.sample(n = 248519, replace = True) \n",
        "df_star234= df_2.sample(n = 248519, replace = True) \n",
        "df_star5= df_5.sample(n = 248519, replace = True) \n",
        "\n",
        "frames = [df_star1, df_star234, df_star5]\n",
        "\n",
        "df_sample = pd.concat(frames)\n",
        "df_sample[[\"star_rating\",\"review_body\"]]= df[[\"star_rating\",\"review_body\"]].astype(str)"
      ],
      "execution_count": 53,
      "outputs": []
    },
    {
      "cell_type": "code",
      "metadata": {
        "id": "UlVCo3T97wsl",
        "colab_type": "code",
        "colab": {}
      },
      "source": [
        "# Select out features and labels\n",
        "entireDataset = spark.createDataFrame(df_sample[['star_rating', 'review_body']])"
      ],
      "execution_count": 54,
      "outputs": []
    },
    {
      "cell_type": "code",
      "metadata": {
        "id": "aLYggs2r75ER",
        "colab_type": "code",
        "colab": {
          "base_uri": "https://localhost:8080/",
          "height": 34
        },
        "outputId": "4739f89a-7ee6-4567-a703-ddb80ab0fec0"
      },
      "source": [
        "# Check data types\n",
        "entireDataset.dtypes"
      ],
      "execution_count": 55,
      "outputs": [
        {
          "output_type": "execute_result",
          "data": {
            "text/plain": [
              "[('star_rating', 'string'), ('review_body', 'string')]"
            ]
          },
          "metadata": {
            "tags": []
          },
          "execution_count": 55
        }
      ]
    },
    {
      "cell_type": "code",
      "metadata": {
        "id": "n-pMhwc479HN",
        "colab_type": "code",
        "colab": {
          "base_uri": "https://localhost:8080/",
          "height": 34
        },
        "outputId": "7aca4dee-2dfe-4cf5-c501-d773628052b4"
      },
      "source": [
        "# View col names\n",
        "entireDataset.columns"
      ],
      "execution_count": 56,
      "outputs": [
        {
          "output_type": "execute_result",
          "data": {
            "text/plain": [
              "['star_rating', 'review_body']"
            ]
          },
          "metadata": {
            "tags": []
          },
          "execution_count": 56
        }
      ]
    },
    {
      "cell_type": "code",
      "metadata": {
        "id": "sSrJhAJ58BXB",
        "colab_type": "code",
        "colab": {}
      },
      "source": [
        "# Change object to string\n",
        "entireDataset.review_body = entireDataset.review_body.astype('string')"
      ],
      "execution_count": 57,
      "outputs": []
    },
    {
      "cell_type": "code",
      "metadata": {
        "id": "43qB-Hrx8RFc",
        "colab_type": "code",
        "colab": {}
      },
      "source": [
        "# Prepare for NLP pipeline with initial DocumentAssembler\n",
        "# Content is inside review_body\n",
        "document = DocumentAssembler() \\\n",
        "  .setInputCol(\"review_body\") \\\n",
        "  .setOutputCol(\"document\")"
      ],
      "execution_count": 58,
      "outputs": []
    },
    {
      "cell_type": "code",
      "metadata": {
        "id": "bM-NridQ8Wyo",
        "colab_type": "code",
        "colab": {
          "base_uri": "https://localhost:8080/",
          "height": 68
        },
        "outputId": "81bc09ef-2d4d-4bee-f10d-3aa10e54e6ac"
      },
      "source": [
        "# Using sentence detector (pretrained)\n",
        "# Sentence detector\n",
        "use = UniversalSentenceEncoder.pretrained() \\\n",
        "  .setInputCols([\"document\"]) \\\n",
        "  . setOutputCol(\"sentence_embeddings\")"
      ],
      "execution_count": 59,
      "outputs": [
        {
          "output_type": "stream",
          "text": [
            "tfhub_use download started this may take some time.\n",
            "Approximate size to download 923.7 MB\n",
            "[OK!]\n"
          ],
          "name": "stdout"
        }
      ]
    },
    {
      "cell_type": "code",
      "metadata": {
        "id": "NSJQxKCC8bQy",
        "colab_type": "code",
        "colab": {}
      },
      "source": [
        "# Our labels / classes are the 1 - 5 star ratings\n",
        "# These are in the star_rating col\n",
        "\n",
        "classifierdl = ClassifierDLApproach()\\\n",
        "  .setInputCols([\"sentence_embeddings\"])\\\n",
        "  .setOutputCol(\"class\")\\\n",
        "  .setLabelColumn(\"star_rating\")\\\n",
        "  .setMaxEpochs(15)\\\n",
        "  .setEnableOutputLogs(True)"
      ],
      "execution_count": 60,
      "outputs": []
    },
    {
      "cell_type": "code",
      "metadata": {
        "id": "Rw2mqwhq8fRr",
        "colab_type": "code",
        "colab": {}
      },
      "source": [
        "# Declare the pipeline\n",
        "use_clf_pipeline = Pipeline(\n",
        "  stages = [\n",
        "    document,\n",
        "    use,\n",
        "    classifierdl\n",
        "  ]\n",
        ")\n",
        "\n"
      ],
      "execution_count": 61,
      "outputs": []
    },
    {
      "cell_type": "code",
      "metadata": {
        "id": "-_DIGgINuk7t",
        "colab_type": "code",
        "colab": {}
      },
      "source": [
        "# Split into training and testing data\n",
        "trainDataset, testDataset = entireDataset.randomSplit([0.75, 0.25], seed=12345)\n"
      ],
      "execution_count": 62,
      "outputs": []
    },
    {
      "cell_type": "code",
      "metadata": {
        "id": "bcpzOMbvuq4L",
        "colab_type": "code",
        "colab": {}
      },
      "source": [
        "# Begin fitting on the data\n",
        "use_pipelineModel = use_clf_pipeline.fit(trainDataset)"
      ],
      "execution_count": 63,
      "outputs": []
    },
    {
      "cell_type": "code",
      "metadata": {
        "id": "-Co3AEqfuqrJ",
        "colab_type": "code",
        "colab": {
          "base_uri": "https://localhost:8080/",
          "height": 459
        },
        "outputId": "cda3e827-7411-4e22-d95e-e6ada6840714"
      },
      "source": [
        "# Set predictions on testDataset\n",
        "predictions = use_pipelineModel.transform(testDataset)\n",
        "predictions.count()\n",
        "predictions.show()"
      ],
      "execution_count": 64,
      "outputs": [
        {
          "output_type": "stream",
          "text": [
            "+-----------+--------------------+--------------------+--------------------+--------------------+\n",
            "|star_rating|         review_body|            document| sentence_embeddings|               class|\n",
            "+-----------+--------------------+--------------------+--------------------+--------------------+\n",
            "|        1.0|!yr old showed no...|[[document, 0, 15...|[[sentence_embedd...|[[category, 0, 15...|\n",
            "|        1.0|#1 the descriptio...|[[document, 0, 81...|[[sentence_embedd...|[[category, 0, 81...|\n",
            "|        1.0|#1, my daughter a...|[[document, 0, 24...|[[sentence_embedd...|[[category, 0, 24...|\n",
            "|        1.0|$108 for 60 chews...|[[document, 0, 12...|[[sentence_embedd...|[[category, 0, 12...|\n",
            "|        1.0|$11 for one stick...|[[document, 0, 21...|[[sentence_embedd...|[[category, 0, 21...|\n",
            "|        1.0|$11.50 per box? W...|[[document, 0, 97...|[[sentence_embedd...|[[category, 0, 97...|\n",
            "|        1.0|$16.99 for a 12oz...|[[document, 0, 17...|[[sentence_embedd...|[[category, 0, 17...|\n",
            "|        1.0|$20 for 24 cans? ...|[[document, 0, 21...|[[sentence_embedd...|[[category, 0, 21...|\n",
            "|        1.0|$2000. seams high!!!|[[document, 0, 19...|[[sentence_embedd...|[[category, 0, 19...|\n",
            "|        1.0|$27 and it lasted...|[[document, 0, 19...|[[sentence_embedd...|[[category, 0, 19...|\n",
            "|        1.0|$299 marked down ...|[[document, 0, 57...|[[sentence_embedd...|[[category, 0, 57...|\n",
            "|        1.0|$35 for ONE can o...|[[document, 0, 26...|[[sentence_embedd...|[[category, 0, 26...|\n",
            "|        1.0|$557 for a small ...|[[document, 0, 38...|[[sentence_embedd...|[[category, 0, 38...|\n",
            "|        1.0|$96 for 24 cans? ...|[[document, 0, 13...|[[sentence_embedd...|[[category, 0, 13...|\n",
            "|        1.0|$999.00 for a dog...|[[document, 0, 83...|[[sentence_embedd...|[[category, 0, 83...|\n",
            "|        1.0|&#34; I did not b...|[[document, 0, 10...|[[sentence_embedd...|[[category, 0, 10...|\n",
            "|        1.0|&#34; I did not b...|[[document, 0, 10...|[[sentence_embedd...|[[category, 0, 10...|\n",
            "|        1.0|&#34;All the pict...|[[document, 0, 17...|[[sentence_embedd...|[[category, 0, 17...|\n",
            "|        1.0|&#34;Blanket Pins...|[[document, 0, 14...|[[sentence_embedd...|[[category, 0, 14...|\n",
            "|        1.0|&#34;Don't waste ...|[[document, 0, 43...|[[sentence_embedd...|[[category, 0, 43...|\n",
            "+-----------+--------------------+--------------------+--------------------+--------------------+\n",
            "only showing top 20 rows\n",
            "\n"
          ],
          "name": "stdout"
        }
      ]
    },
    {
      "cell_type": "code",
      "metadata": {
        "id": "50443Ucj8iik",
        "colab_type": "code",
        "colab": {
          "base_uri": "https://localhost:8080/",
          "height": 323
        },
        "outputId": "e1daea39-ac17-4a0b-f88f-085d93e2cf06"
      },
      "source": [
        "# Begin fitting on the data\n",
        "use_pipelineModel = use_clf_pipeline.fit(trainDataset)"
      ],
      "execution_count": 65,
      "outputs": [
        {
          "output_type": "error",
          "ename": "KeyboardInterrupt",
          "evalue": "ignored",
          "traceback": [
            "\u001b[0;31m---------------------------------------------------------------------------\u001b[0m",
            "\u001b[0;31mKeyboardInterrupt\u001b[0m                         Traceback (most recent call last)",
            "\u001b[0;32m<ipython-input-65-9f9e74ab2831>\u001b[0m in \u001b[0;36m<module>\u001b[0;34m()\u001b[0m\n\u001b[1;32m      1\u001b[0m \u001b[0;31m# Begin fitting on the data\u001b[0m\u001b[0;34m\u001b[0m\u001b[0;34m\u001b[0m\u001b[0;34m\u001b[0m\u001b[0m\n\u001b[0;32m----> 2\u001b[0;31m \u001b[0muse_pipelineModel\u001b[0m \u001b[0;34m=\u001b[0m \u001b[0muse_clf_pipeline\u001b[0m\u001b[0;34m.\u001b[0m\u001b[0mfit\u001b[0m\u001b[0;34m(\u001b[0m\u001b[0mtrainDataset\u001b[0m\u001b[0;34m)\u001b[0m\u001b[0;34m\u001b[0m\u001b[0;34m\u001b[0m\u001b[0m\n\u001b[0m",
            "\u001b[0;32m/usr/local/lib/python3.6/dist-packages/pyspark/ml/base.py\u001b[0m in \u001b[0;36mfit\u001b[0;34m(self, dataset, params)\u001b[0m\n\u001b[1;32m    130\u001b[0m                 \u001b[0;32mreturn\u001b[0m \u001b[0mself\u001b[0m\u001b[0;34m.\u001b[0m\u001b[0mcopy\u001b[0m\u001b[0;34m(\u001b[0m\u001b[0mparams\u001b[0m\u001b[0;34m)\u001b[0m\u001b[0;34m.\u001b[0m\u001b[0m_fit\u001b[0m\u001b[0;34m(\u001b[0m\u001b[0mdataset\u001b[0m\u001b[0;34m)\u001b[0m\u001b[0;34m\u001b[0m\u001b[0;34m\u001b[0m\u001b[0m\n\u001b[1;32m    131\u001b[0m             \u001b[0;32melse\u001b[0m\u001b[0;34m:\u001b[0m\u001b[0;34m\u001b[0m\u001b[0;34m\u001b[0m\u001b[0m\n\u001b[0;32m--> 132\u001b[0;31m                 \u001b[0;32mreturn\u001b[0m \u001b[0mself\u001b[0m\u001b[0;34m.\u001b[0m\u001b[0m_fit\u001b[0m\u001b[0;34m(\u001b[0m\u001b[0mdataset\u001b[0m\u001b[0;34m)\u001b[0m\u001b[0;34m\u001b[0m\u001b[0;34m\u001b[0m\u001b[0m\n\u001b[0m\u001b[1;32m    133\u001b[0m         \u001b[0;32melse\u001b[0m\u001b[0;34m:\u001b[0m\u001b[0;34m\u001b[0m\u001b[0;34m\u001b[0m\u001b[0m\n\u001b[1;32m    134\u001b[0m             raise ValueError(\"Params must be either a param map or a list/tuple of param maps, \"\n",
            "\u001b[0;32m/usr/local/lib/python3.6/dist-packages/pyspark/ml/pipeline.py\u001b[0m in \u001b[0;36m_fit\u001b[0;34m(self, dataset)\u001b[0m\n\u001b[1;32m    107\u001b[0m                     \u001b[0mdataset\u001b[0m \u001b[0;34m=\u001b[0m \u001b[0mstage\u001b[0m\u001b[0;34m.\u001b[0m\u001b[0mtransform\u001b[0m\u001b[0;34m(\u001b[0m\u001b[0mdataset\u001b[0m\u001b[0;34m)\u001b[0m\u001b[0;34m\u001b[0m\u001b[0;34m\u001b[0m\u001b[0m\n\u001b[1;32m    108\u001b[0m                 \u001b[0;32melse\u001b[0m\u001b[0;34m:\u001b[0m  \u001b[0;31m# must be an Estimator\u001b[0m\u001b[0;34m\u001b[0m\u001b[0;34m\u001b[0m\u001b[0m\n\u001b[0;32m--> 109\u001b[0;31m                     \u001b[0mmodel\u001b[0m \u001b[0;34m=\u001b[0m \u001b[0mstage\u001b[0m\u001b[0;34m.\u001b[0m\u001b[0mfit\u001b[0m\u001b[0;34m(\u001b[0m\u001b[0mdataset\u001b[0m\u001b[0;34m)\u001b[0m\u001b[0;34m\u001b[0m\u001b[0;34m\u001b[0m\u001b[0m\n\u001b[0m\u001b[1;32m    110\u001b[0m                     \u001b[0mtransformers\u001b[0m\u001b[0;34m.\u001b[0m\u001b[0mappend\u001b[0m\u001b[0;34m(\u001b[0m\u001b[0mmodel\u001b[0m\u001b[0;34m)\u001b[0m\u001b[0;34m\u001b[0m\u001b[0;34m\u001b[0m\u001b[0m\n\u001b[1;32m    111\u001b[0m                     \u001b[0;32mif\u001b[0m \u001b[0mi\u001b[0m \u001b[0;34m<\u001b[0m \u001b[0mindexOfLastEstimator\u001b[0m\u001b[0;34m:\u001b[0m\u001b[0;34m\u001b[0m\u001b[0;34m\u001b[0m\u001b[0m\n",
            "\u001b[0;32m/usr/local/lib/python3.6/dist-packages/pyspark/ml/base.py\u001b[0m in \u001b[0;36mfit\u001b[0;34m(self, dataset, params)\u001b[0m\n\u001b[1;32m    130\u001b[0m                 \u001b[0;32mreturn\u001b[0m \u001b[0mself\u001b[0m\u001b[0;34m.\u001b[0m\u001b[0mcopy\u001b[0m\u001b[0;34m(\u001b[0m\u001b[0mparams\u001b[0m\u001b[0;34m)\u001b[0m\u001b[0;34m.\u001b[0m\u001b[0m_fit\u001b[0m\u001b[0;34m(\u001b[0m\u001b[0mdataset\u001b[0m\u001b[0;34m)\u001b[0m\u001b[0;34m\u001b[0m\u001b[0;34m\u001b[0m\u001b[0m\n\u001b[1;32m    131\u001b[0m             \u001b[0;32melse\u001b[0m\u001b[0;34m:\u001b[0m\u001b[0;34m\u001b[0m\u001b[0;34m\u001b[0m\u001b[0m\n\u001b[0;32m--> 132\u001b[0;31m                 \u001b[0;32mreturn\u001b[0m \u001b[0mself\u001b[0m\u001b[0;34m.\u001b[0m\u001b[0m_fit\u001b[0m\u001b[0;34m(\u001b[0m\u001b[0mdataset\u001b[0m\u001b[0;34m)\u001b[0m\u001b[0;34m\u001b[0m\u001b[0;34m\u001b[0m\u001b[0m\n\u001b[0m\u001b[1;32m    133\u001b[0m         \u001b[0;32melse\u001b[0m\u001b[0;34m:\u001b[0m\u001b[0;34m\u001b[0m\u001b[0;34m\u001b[0m\u001b[0m\n\u001b[1;32m    134\u001b[0m             raise ValueError(\"Params must be either a param map or a list/tuple of param maps, \"\n",
            "\u001b[0;32m/usr/local/lib/python3.6/dist-packages/pyspark/ml/wrapper.py\u001b[0m in \u001b[0;36m_fit\u001b[0;34m(self, dataset)\u001b[0m\n\u001b[1;32m    293\u001b[0m \u001b[0;34m\u001b[0m\u001b[0m\n\u001b[1;32m    294\u001b[0m     \u001b[0;32mdef\u001b[0m \u001b[0m_fit\u001b[0m\u001b[0;34m(\u001b[0m\u001b[0mself\u001b[0m\u001b[0;34m,\u001b[0m \u001b[0mdataset\u001b[0m\u001b[0;34m)\u001b[0m\u001b[0;34m:\u001b[0m\u001b[0;34m\u001b[0m\u001b[0;34m\u001b[0m\u001b[0m\n\u001b[0;32m--> 295\u001b[0;31m         \u001b[0mjava_model\u001b[0m \u001b[0;34m=\u001b[0m \u001b[0mself\u001b[0m\u001b[0;34m.\u001b[0m\u001b[0m_fit_java\u001b[0m\u001b[0;34m(\u001b[0m\u001b[0mdataset\u001b[0m\u001b[0;34m)\u001b[0m\u001b[0;34m\u001b[0m\u001b[0;34m\u001b[0m\u001b[0m\n\u001b[0m\u001b[1;32m    296\u001b[0m         \u001b[0mmodel\u001b[0m \u001b[0;34m=\u001b[0m \u001b[0mself\u001b[0m\u001b[0;34m.\u001b[0m\u001b[0m_create_model\u001b[0m\u001b[0;34m(\u001b[0m\u001b[0mjava_model\u001b[0m\u001b[0;34m)\u001b[0m\u001b[0;34m\u001b[0m\u001b[0;34m\u001b[0m\u001b[0m\n\u001b[1;32m    297\u001b[0m         \u001b[0;32mreturn\u001b[0m \u001b[0mself\u001b[0m\u001b[0;34m.\u001b[0m\u001b[0m_copyValues\u001b[0m\u001b[0;34m(\u001b[0m\u001b[0mmodel\u001b[0m\u001b[0;34m)\u001b[0m\u001b[0;34m\u001b[0m\u001b[0;34m\u001b[0m\u001b[0m\n",
            "\u001b[0;32m/usr/local/lib/python3.6/dist-packages/pyspark/ml/wrapper.py\u001b[0m in \u001b[0;36m_fit_java\u001b[0;34m(self, dataset)\u001b[0m\n\u001b[1;32m    290\u001b[0m         \"\"\"\n\u001b[1;32m    291\u001b[0m         \u001b[0mself\u001b[0m\u001b[0;34m.\u001b[0m\u001b[0m_transfer_params_to_java\u001b[0m\u001b[0;34m(\u001b[0m\u001b[0;34m)\u001b[0m\u001b[0;34m\u001b[0m\u001b[0;34m\u001b[0m\u001b[0m\n\u001b[0;32m--> 292\u001b[0;31m         \u001b[0;32mreturn\u001b[0m \u001b[0mself\u001b[0m\u001b[0;34m.\u001b[0m\u001b[0m_java_obj\u001b[0m\u001b[0;34m.\u001b[0m\u001b[0mfit\u001b[0m\u001b[0;34m(\u001b[0m\u001b[0mdataset\u001b[0m\u001b[0;34m.\u001b[0m\u001b[0m_jdf\u001b[0m\u001b[0;34m)\u001b[0m\u001b[0;34m\u001b[0m\u001b[0;34m\u001b[0m\u001b[0m\n\u001b[0m\u001b[1;32m    293\u001b[0m \u001b[0;34m\u001b[0m\u001b[0m\n\u001b[1;32m    294\u001b[0m     \u001b[0;32mdef\u001b[0m \u001b[0m_fit\u001b[0m\u001b[0;34m(\u001b[0m\u001b[0mself\u001b[0m\u001b[0;34m,\u001b[0m \u001b[0mdataset\u001b[0m\u001b[0;34m)\u001b[0m\u001b[0;34m:\u001b[0m\u001b[0;34m\u001b[0m\u001b[0;34m\u001b[0m\u001b[0m\n",
            "\u001b[0;32m/usr/local/lib/python3.6/dist-packages/py4j/java_gateway.py\u001b[0m in \u001b[0;36m__call__\u001b[0;34m(self, *args)\u001b[0m\n\u001b[1;32m   1253\u001b[0m             \u001b[0mproto\u001b[0m\u001b[0;34m.\u001b[0m\u001b[0mEND_COMMAND_PART\u001b[0m\u001b[0;34m\u001b[0m\u001b[0;34m\u001b[0m\u001b[0m\n\u001b[1;32m   1254\u001b[0m \u001b[0;34m\u001b[0m\u001b[0m\n\u001b[0;32m-> 1255\u001b[0;31m         \u001b[0manswer\u001b[0m \u001b[0;34m=\u001b[0m \u001b[0mself\u001b[0m\u001b[0;34m.\u001b[0m\u001b[0mgateway_client\u001b[0m\u001b[0;34m.\u001b[0m\u001b[0msend_command\u001b[0m\u001b[0;34m(\u001b[0m\u001b[0mcommand\u001b[0m\u001b[0;34m)\u001b[0m\u001b[0;34m\u001b[0m\u001b[0;34m\u001b[0m\u001b[0m\n\u001b[0m\u001b[1;32m   1256\u001b[0m         return_value = get_return_value(\n\u001b[1;32m   1257\u001b[0m             answer, self.gateway_client, self.target_id, self.name)\n",
            "\u001b[0;32m/usr/local/lib/python3.6/dist-packages/py4j/java_gateway.py\u001b[0m in \u001b[0;36msend_command\u001b[0;34m(self, command, retry, binary)\u001b[0m\n\u001b[1;32m    983\u001b[0m         \u001b[0mconnection\u001b[0m \u001b[0;34m=\u001b[0m \u001b[0mself\u001b[0m\u001b[0;34m.\u001b[0m\u001b[0m_get_connection\u001b[0m\u001b[0;34m(\u001b[0m\u001b[0;34m)\u001b[0m\u001b[0;34m\u001b[0m\u001b[0;34m\u001b[0m\u001b[0m\n\u001b[1;32m    984\u001b[0m         \u001b[0;32mtry\u001b[0m\u001b[0;34m:\u001b[0m\u001b[0;34m\u001b[0m\u001b[0;34m\u001b[0m\u001b[0m\n\u001b[0;32m--> 985\u001b[0;31m             \u001b[0mresponse\u001b[0m \u001b[0;34m=\u001b[0m \u001b[0mconnection\u001b[0m\u001b[0;34m.\u001b[0m\u001b[0msend_command\u001b[0m\u001b[0;34m(\u001b[0m\u001b[0mcommand\u001b[0m\u001b[0;34m)\u001b[0m\u001b[0;34m\u001b[0m\u001b[0;34m\u001b[0m\u001b[0m\n\u001b[0m\u001b[1;32m    986\u001b[0m             \u001b[0;32mif\u001b[0m \u001b[0mbinary\u001b[0m\u001b[0;34m:\u001b[0m\u001b[0;34m\u001b[0m\u001b[0;34m\u001b[0m\u001b[0m\n\u001b[1;32m    987\u001b[0m                 \u001b[0;32mreturn\u001b[0m \u001b[0mresponse\u001b[0m\u001b[0;34m,\u001b[0m \u001b[0mself\u001b[0m\u001b[0;34m.\u001b[0m\u001b[0m_create_connection_guard\u001b[0m\u001b[0;34m(\u001b[0m\u001b[0mconnection\u001b[0m\u001b[0;34m)\u001b[0m\u001b[0;34m\u001b[0m\u001b[0;34m\u001b[0m\u001b[0m\n",
            "\u001b[0;32m/usr/local/lib/python3.6/dist-packages/py4j/java_gateway.py\u001b[0m in \u001b[0;36msend_command\u001b[0;34m(self, command)\u001b[0m\n\u001b[1;32m   1150\u001b[0m \u001b[0;34m\u001b[0m\u001b[0m\n\u001b[1;32m   1151\u001b[0m         \u001b[0;32mtry\u001b[0m\u001b[0;34m:\u001b[0m\u001b[0;34m\u001b[0m\u001b[0;34m\u001b[0m\u001b[0m\n\u001b[0;32m-> 1152\u001b[0;31m             \u001b[0manswer\u001b[0m \u001b[0;34m=\u001b[0m \u001b[0msmart_decode\u001b[0m\u001b[0;34m(\u001b[0m\u001b[0mself\u001b[0m\u001b[0;34m.\u001b[0m\u001b[0mstream\u001b[0m\u001b[0;34m.\u001b[0m\u001b[0mreadline\u001b[0m\u001b[0;34m(\u001b[0m\u001b[0;34m)\u001b[0m\u001b[0;34m[\u001b[0m\u001b[0;34m:\u001b[0m\u001b[0;34m-\u001b[0m\u001b[0;36m1\u001b[0m\u001b[0;34m]\u001b[0m\u001b[0;34m)\u001b[0m\u001b[0;34m\u001b[0m\u001b[0;34m\u001b[0m\u001b[0m\n\u001b[0m\u001b[1;32m   1153\u001b[0m             \u001b[0mlogger\u001b[0m\u001b[0;34m.\u001b[0m\u001b[0mdebug\u001b[0m\u001b[0;34m(\u001b[0m\u001b[0;34m\"Answer received: {0}\"\u001b[0m\u001b[0;34m.\u001b[0m\u001b[0mformat\u001b[0m\u001b[0;34m(\u001b[0m\u001b[0manswer\u001b[0m\u001b[0;34m)\u001b[0m\u001b[0;34m)\u001b[0m\u001b[0;34m\u001b[0m\u001b[0;34m\u001b[0m\u001b[0m\n\u001b[1;32m   1154\u001b[0m             \u001b[0;32mif\u001b[0m \u001b[0manswer\u001b[0m\u001b[0;34m.\u001b[0m\u001b[0mstartswith\u001b[0m\u001b[0;34m(\u001b[0m\u001b[0mproto\u001b[0m\u001b[0;34m.\u001b[0m\u001b[0mRETURN_MESSAGE\u001b[0m\u001b[0;34m)\u001b[0m\u001b[0;34m:\u001b[0m\u001b[0;34m\u001b[0m\u001b[0;34m\u001b[0m\u001b[0m\n",
            "\u001b[0;32m/usr/lib/python3.6/socket.py\u001b[0m in \u001b[0;36mreadinto\u001b[0;34m(self, b)\u001b[0m\n\u001b[1;32m    584\u001b[0m         \u001b[0;32mwhile\u001b[0m \u001b[0;32mTrue\u001b[0m\u001b[0;34m:\u001b[0m\u001b[0;34m\u001b[0m\u001b[0;34m\u001b[0m\u001b[0m\n\u001b[1;32m    585\u001b[0m             \u001b[0;32mtry\u001b[0m\u001b[0;34m:\u001b[0m\u001b[0;34m\u001b[0m\u001b[0;34m\u001b[0m\u001b[0m\n\u001b[0;32m--> 586\u001b[0;31m                 \u001b[0;32mreturn\u001b[0m \u001b[0mself\u001b[0m\u001b[0;34m.\u001b[0m\u001b[0m_sock\u001b[0m\u001b[0;34m.\u001b[0m\u001b[0mrecv_into\u001b[0m\u001b[0;34m(\u001b[0m\u001b[0mb\u001b[0m\u001b[0;34m)\u001b[0m\u001b[0;34m\u001b[0m\u001b[0;34m\u001b[0m\u001b[0m\n\u001b[0m\u001b[1;32m    587\u001b[0m             \u001b[0;32mexcept\u001b[0m \u001b[0mtimeout\u001b[0m\u001b[0;34m:\u001b[0m\u001b[0;34m\u001b[0m\u001b[0;34m\u001b[0m\u001b[0m\n\u001b[1;32m    588\u001b[0m                 \u001b[0mself\u001b[0m\u001b[0;34m.\u001b[0m\u001b[0m_timeout_occurred\u001b[0m \u001b[0;34m=\u001b[0m \u001b[0;32mTrue\u001b[0m\u001b[0;34m\u001b[0m\u001b[0;34m\u001b[0m\u001b[0m\n",
            "\u001b[0;31mKeyboardInterrupt\u001b[0m: "
          ]
        }
      ]
    },
    {
      "cell_type": "code",
      "metadata": {
        "id": "PgzqIOg88j9y",
        "colab_type": "code",
        "colab": {}
      },
      "source": [
        "# Set predictions on testDataset\n",
        "predictions = use_pipelineModel.transform(testDataset)"
      ],
      "execution_count": 66,
      "outputs": []
    },
    {
      "cell_type": "code",
      "metadata": {
        "id": "PI8UldOU8l4-",
        "colab_type": "code",
        "colab": {
          "base_uri": "https://localhost:8080/",
          "height": 289
        },
        "outputId": "91c86473-5509-48dd-f0db-ff3f524946e4"
      },
      "source": [
        "\n",
        "# Run predictions\n",
        "predictions.select('star_rating','review_body', 'class.result').show(10, truncate=80)"
      ],
      "execution_count": 67,
      "outputs": [
        {
          "output_type": "stream",
          "text": [
            "+-----------+--------------------------------------------------------------------------------+------+\n",
            "|star_rating|                                                                     review_body|result|\n",
            "+-----------+--------------------------------------------------------------------------------+------+\n",
            "|        1.0|!yr old showed no interest even with the cat nip inside. never use it. My cat...| [1.0]|\n",
            "|        1.0|#1 the description is completly wrong. There is no grate to catch litter as t...| [2.0]|\n",
            "|        1.0|#1, my daughter and I could not put this together unless we bent the metal ba...| [2.0]|\n",
            "|        1.0|$108 for 60 chews?  Are you out of your minds?  I purchased these for $25 for...| [1.0]|\n",
            "|        1.0|$11 for one stick???? I purchased this because of th pictures (3 wands) with ...| [1.0]|\n",
            "|        1.0|$11.50 per box? What kind of treat have they been eating! Buy the 6-pack of 1...| [1.0]|\n",
            "|        1.0|$16.99 for a 12oz bag is highway robbery. I pay $7.99 when I buy this 12oz ba...| [1.0]|\n",
            "|        1.0|$20 for 24 cans?  Are they insane?  These cans go for $.50-.60 typically.  Yo...| [1.0]|\n",
            "|        1.0|                                                            $2000. seams high!!!| [1.0]|\n",
            "|        1.0|$27 and it lasted a week. It got wet and quit working within a week. It's a l...| [1.0]|\n",
            "+-----------+--------------------------------------------------------------------------------+------+\n",
            "only showing top 10 rows\n",
            "\n"
          ],
          "name": "stdout"
        }
      ]
    },
    {
      "cell_type": "code",
      "metadata": {
        "id": "LXHjpJnE8rIF",
        "colab_type": "code",
        "colab": {}
      },
      "source": [
        "# Import reports for quantifying results\n",
        "from sklearn.metrics import classification_report, accuracy_score\n",
        "\n",
        "df = use_pipelineModel.transform(testDataset).select('star_rating','review_body', 'class.result').toPandas()\n",
        "\n",
        "df['result'] = df['result'].apply(lambda x: x[0])"
      ],
      "execution_count": 68,
      "outputs": []
    },
    {
      "cell_type": "code",
      "metadata": {
        "id": "WP0rH1-A8uTC",
        "colab_type": "code",
        "colab": {}
      },
      "source": [
        "df.result = df.result.astype(str)"
      ],
      "execution_count": 69,
      "outputs": []
    },
    {
      "cell_type": "code",
      "metadata": {
        "id": "bn5Huv2u8v74",
        "colab_type": "code",
        "colab": {
          "base_uri": "https://localhost:8080/",
          "height": 204
        },
        "outputId": "530bc413-01d7-4df0-b77e-fc29ffdc1b43"
      },
      "source": [
        "print(classification_report(df['star_rating'], df.result))\n",
        "print(accuracy_score(df['star_rating'], df.result))"
      ],
      "execution_count": 70,
      "outputs": [
        {
          "output_type": "stream",
          "text": [
            "              precision    recall  f1-score   support\n",
            "\n",
            "         1.0       0.71      0.70      0.70     62129\n",
            "         2.0       0.66      0.68      0.67     62202\n",
            "         5.0       0.87      0.87      0.87     61922\n",
            "\n",
            "    accuracy                           0.75    186253\n",
            "   macro avg       0.75      0.75      0.75    186253\n",
            "weighted avg       0.75      0.75      0.75    186253\n",
            "\n",
            "0.7463611324381352\n"
          ],
          "name": "stdout"
        }
      ]
    }
  ],
  "metadata": {
    "colab": {
      "name": "Yin code translated Trial 1 of final_proj_notebook_baseline.ipynb",
      "provenance": [],
      "collapsed_sections": [],
      "machine_shape": "hm"
    },
    "kernelspec": {
      "name": "python3",
      "display_name": "Python 3"
    }
  },
  "nbformat": 4,
  "nbformat_minor": 0
}