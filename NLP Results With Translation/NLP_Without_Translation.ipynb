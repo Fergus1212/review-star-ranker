{
  "nbformat": 4,
  "nbformat_minor": 0,
  "metadata": {
    "colab": {
      "name": "NLP Without Translation",
      "provenance": [],
      "collapsed_sections": [],
      "machine_shape": "hm"
    },
    "kernelspec": {
      "name": "python3",
      "display_name": "Python 3"
    }
  },
  "cells": [
    {
      "cell_type": "code",
      "metadata": {
        "id": "WuCz0Vth7GJY",
        "colab_type": "code",
        "colab": {
          "base_uri": "https://localhost:8080/",
          "height": 136
        },
        "outputId": "73e0e14f-64c1-42ed-a030-b3b52c4e6a7c"
      },
      "source": [
        "import os\n",
        "\n",
        "# Install java\n",
        "! apt-get install -y openjdk-8-jdk-headless -qq > /dev/null\n",
        "os.environ[\"JAVA_HOME\"] = \"/usr/lib/jvm/java-8-openjdk-amd64\"\n",
        "os.environ[\"PATH\"] = os.environ[\"JAVA_HOME\"] + \"/bin:\" + os.environ[\"PATH\"]\n",
        "! java -version\n",
        "\n",
        "# Install pyspark\n",
        "! pip install --ignore-installed -q pyspark==2.4.4\n",
        "! pip install --ignore-installed -q spark-nlp==2.5.3"
      ],
      "execution_count": 2,
      "outputs": [
        {
          "output_type": "stream",
          "text": [
            "openjdk version \"1.8.0_252\"\n",
            "OpenJDK Runtime Environment (build 1.8.0_252-8u252-b09-1~18.04-b09)\n",
            "OpenJDK 64-Bit Server VM (build 25.252-b09, mixed mode)\n",
            "\u001b[K     |████████████████████████████████| 215.7MB 22kB/s \n",
            "\u001b[K     |████████████████████████████████| 204kB 62.5MB/s \n",
            "\u001b[?25h  Building wheel for pyspark (setup.py) ... \u001b[?25l\u001b[?25hdone\n",
            "\u001b[K     |████████████████████████████████| 133kB 7.8MB/s \n",
            "\u001b[?25h"
          ],
          "name": "stdout"
        }
      ]
    },
    {
      "cell_type": "code",
      "metadata": {
        "id": "XmZdhZ4u7PYF",
        "colab_type": "code",
        "colab": {
          "base_uri": "https://localhost:8080/",
          "height": 52
        },
        "outputId": "7ee2ed84-705b-4ac4-9931-fb936eca65af"
      },
      "source": [
        "# Run this in console to keep Co Lab Running\n",
        "'''\n",
        "function ConnectButton(){\n",
        "    console.log(\"Connect pushed\"); \n",
        "    document.querySelector(\"#top-toolbar > colab-connect-button\").shadowRoot.querySelector(\"#connect\").click() \n",
        "}\n",
        "setInterval(ConnectButton,60000);\n",
        "'''"
      ],
      "execution_count": null,
      "outputs": [
        {
          "output_type": "execute_result",
          "data": {
            "application/vnd.google.colaboratory.intrinsic": {
              "type": "string"
            },
            "text/plain": [
              "'\\nfunction ConnectButton(){\\n    console.log(\"Connect pushed\"); \\n    document.querySelector(\"#top-toolbar > colab-connect-button\").shadowRoot.querySelector(\"#connect\").click() \\n}\\nsetInterval(ConnectButton,60000);\\n'"
            ]
          },
          "metadata": {
            "tags": []
          },
          "execution_count": 28
        }
      ]
    },
    {
      "cell_type": "code",
      "metadata": {
        "id": "jj4oh8nz7UKD",
        "colab_type": "code",
        "colab": {}
      },
      "source": [
        "import sparknlp\n",
        "from sparknlp.base import *\n",
        "from sparknlp.annotator import *\n",
        "from sparknlp.common import *\n",
        "from pyspark.ml import Pipeline\n",
        "from pyspark.ml.tuning import TrainValidationSplit\n",
        "import pandas as pd"
      ],
      "execution_count": 3,
      "outputs": []
    },
    {
      "cell_type": "code",
      "metadata": {
        "id": "ciDDnn6E7fPO",
        "colab_type": "code",
        "colab": {}
      },
      "source": [
        "# Start Spark session\n",
        "spark = sparknlp.start()"
      ],
      "execution_count": 4,
      "outputs": []
    },
    {
      "cell_type": "code",
      "metadata": {
        "id": "t1lHLQ907h1a",
        "colab_type": "code",
        "colab": {
          "base_uri": "https://localhost:8080/",
          "height": 51
        },
        "outputId": "65cfade5-d298-4832-a824-3a503b76f7ca"
      },
      "source": [
        "# Best practice to print versions\n",
        "print(\"Spark NLP version\", sparknlp.version())\n",
        "print(\"Apache Spark version\", spark.version)"
      ],
      "execution_count": 5,
      "outputs": [
        {
          "output_type": "stream",
          "text": [
            "Spark NLP version 2.5.3\n",
            "Apache Spark version 2.4.4\n"
          ],
          "name": "stdout"
        }
      ]
    },
    {
      "cell_type": "code",
      "metadata": {
        "id": "fNdRSjOk7lQZ",
        "colab_type": "code",
        "colab": {
          "base_uri": "https://localhost:8080/",
          "height": 34
        },
        "outputId": "a0f0e675-4400-4c88-dc06-3297872141a6"
      },
      "source": [
        "# Yin genius way of loading Amazon Data\n",
        "file = 'amazon_reviews_us_Personal_Care_Appliances_v1_00.tsv.gz'\n",
        "os.system(f'wget https://s3.amazonaws.com/amazon-reviews-pds/tsv/{file}')\n",
        "df = pd.read_csv(file, compression='gzip', header=0, sep='\\t', error_bad_lines=False)"
      ],
      "execution_count": 7,
      "outputs": [
        {
          "output_type": "stream",
          "text": [
            "b'Skipping line 1598: expected 15 fields, saw 22\\nSkipping line 25768: expected 15 fields, saw 22\\n'\n"
          ],
          "name": "stderr"
        }
      ]
    },
    {
      "cell_type": "code",
      "metadata": {
        "id": "bVoqqmzren2r",
        "colab_type": "code",
        "colab": {
          "base_uri": "https://localhost:8080/",
          "height": 119
        },
        "outputId": "b66a5c51-24aa-4580-89ee-4fdd3e5110ce"
      },
      "source": [
        "df1= df\n",
        "#headline_updated = df1[\"review_headline\"].str.contains(\"One Star|Two Stars|Three Stars|Four Stars|Five Stars\",na=False)\n",
        "#df1.drop(headline_updated[headline_updated].index,axis=0,inplace=True)\n",
        "df1[[\"star_rating\",\"review_body\"]]= df1[[\"star_rating\",\"review_body\"]].astype(str)\n",
        "df1.star_rating.value_counts()\n"
      ],
      "execution_count": 8,
      "outputs": [
        {
          "output_type": "execute_result",
          "data": {
            "text/plain": [
              "5    48865\n",
              "4    13644\n",
              "1    11034\n",
              "3     7043\n",
              "2     5338\n",
              "Name: star_rating, dtype: int64"
            ]
          },
          "metadata": {
            "tags": []
          },
          "execution_count": 8
        }
      ]
    },
    {
      "cell_type": "code",
      "metadata": {
        "id": "ezNHuDfisW96",
        "colab_type": "code",
        "colab": {
          "base_uri": "https://localhost:8080/",
          "height": 391
        },
        "outputId": "967524a3-fdc8-435c-93d8-d3c4572e9838"
      },
      "source": [
        "df1.head()"
      ],
      "execution_count": null,
      "outputs": [
        {
          "output_type": "execute_result",
          "data": {
            "text/html": [
              "<div>\n",
              "<style scoped>\n",
              "    .dataframe tbody tr th:only-of-type {\n",
              "        vertical-align: middle;\n",
              "    }\n",
              "\n",
              "    .dataframe tbody tr th {\n",
              "        vertical-align: top;\n",
              "    }\n",
              "\n",
              "    .dataframe thead th {\n",
              "        text-align: right;\n",
              "    }\n",
              "</style>\n",
              "<table border=\"1\" class=\"dataframe\">\n",
              "  <thead>\n",
              "    <tr style=\"text-align: right;\">\n",
              "      <th></th>\n",
              "      <th>marketplace</th>\n",
              "      <th>customer_id</th>\n",
              "      <th>review_id</th>\n",
              "      <th>product_id</th>\n",
              "      <th>product_parent</th>\n",
              "      <th>product_title</th>\n",
              "      <th>product_category</th>\n",
              "      <th>star_rating</th>\n",
              "      <th>helpful_votes</th>\n",
              "      <th>total_votes</th>\n",
              "      <th>vine</th>\n",
              "      <th>verified_purchase</th>\n",
              "      <th>review_headline</th>\n",
              "      <th>review_body</th>\n",
              "      <th>review_date</th>\n",
              "    </tr>\n",
              "  </thead>\n",
              "  <tbody>\n",
              "    <tr>\n",
              "      <th>0</th>\n",
              "      <td>US</td>\n",
              "      <td>32114233</td>\n",
              "      <td>R1QX6706ZWJ1P5</td>\n",
              "      <td>B00OYRW4UE</td>\n",
              "      <td>223980852</td>\n",
              "      <td>Elite Sportz Exercise Sliders are Double Sided...</td>\n",
              "      <td>Personal_Care_Appliances</td>\n",
              "      <td>5</td>\n",
              "      <td>0</td>\n",
              "      <td>0</td>\n",
              "      <td>N</td>\n",
              "      <td>Y</td>\n",
              "      <td>Good quality. Shipped</td>\n",
              "      <td>Exactly as described. Good quality. Shipped fast</td>\n",
              "      <td>2015-08-31</td>\n",
              "    </tr>\n",
              "    <tr>\n",
              "      <th>1</th>\n",
              "      <td>US</td>\n",
              "      <td>18125776</td>\n",
              "      <td>R3QWMLJHIW6P37</td>\n",
              "      <td>B0000537JQ</td>\n",
              "      <td>819771537</td>\n",
              "      <td>Ezy Dose Weekly</td>\n",
              "      <td>Personal_Care_Appliances</td>\n",
              "      <td>5</td>\n",
              "      <td>0</td>\n",
              "      <td>0</td>\n",
              "      <td>N</td>\n",
              "      <td>Y</td>\n",
              "      <td>Five Stars</td>\n",
              "      <td>It is great</td>\n",
              "      <td>2015-08-31</td>\n",
              "    </tr>\n",
              "    <tr>\n",
              "      <th>2</th>\n",
              "      <td>US</td>\n",
              "      <td>19917519</td>\n",
              "      <td>R14Z1VR1N0Z9G6</td>\n",
              "      <td>B00HXXO332</td>\n",
              "      <td>849307176</td>\n",
              "      <td>Pulse Oximeter, Blood Oxygen Monitor</td>\n",
              "      <td>Personal_Care_Appliances</td>\n",
              "      <td>5</td>\n",
              "      <td>1</td>\n",
              "      <td>1</td>\n",
              "      <td>N</td>\n",
              "      <td>Y</td>\n",
              "      <td>It's really nice it works great</td>\n",
              "      <td>It's really nice it works great. You have the ...</td>\n",
              "      <td>2015-08-31</td>\n",
              "    </tr>\n",
              "    <tr>\n",
              "      <th>3</th>\n",
              "      <td>US</td>\n",
              "      <td>18277171</td>\n",
              "      <td>R25ZRJL0GH0U0</td>\n",
              "      <td>B00EOB0JA2</td>\n",
              "      <td>700864740</td>\n",
              "      <td>SE Tools Tool Kit Watch Watch Repair Kit (20 P...</td>\n",
              "      <td>Personal_Care_Appliances</td>\n",
              "      <td>2</td>\n",
              "      <td>0</td>\n",
              "      <td>0</td>\n",
              "      <td>N</td>\n",
              "      <td>Y</td>\n",
              "      <td>Two Stars</td>\n",
              "      <td>The kit works fine... simple cheap plastic tho</td>\n",
              "      <td>2015-08-31</td>\n",
              "    </tr>\n",
              "    <tr>\n",
              "      <th>4</th>\n",
              "      <td>US</td>\n",
              "      <td>2593270</td>\n",
              "      <td>R3837KYH7AZNIY</td>\n",
              "      <td>B00OC2O1UC</td>\n",
              "      <td>794298839</td>\n",
              "      <td>doTERRA HD Clear Facial Kit - Facial Lotion, F...</td>\n",
              "      <td>Personal_Care_Appliances</td>\n",
              "      <td>4</td>\n",
              "      <td>0</td>\n",
              "      <td>1</td>\n",
              "      <td>N</td>\n",
              "      <td>Y</td>\n",
              "      <td>Four Stars</td>\n",
              "      <td>It works better than anything else ive tried</td>\n",
              "      <td>2015-08-31</td>\n",
              "    </tr>\n",
              "  </tbody>\n",
              "</table>\n",
              "</div>"
            ],
            "text/plain": [
              "  marketplace  ...  review_date\n",
              "0          US  ...   2015-08-31\n",
              "1          US  ...   2015-08-31\n",
              "2          US  ...   2015-08-31\n",
              "3          US  ...   2015-08-31\n",
              "4          US  ...   2015-08-31\n",
              "\n",
              "[5 rows x 15 columns]"
            ]
          },
          "metadata": {
            "tags": []
          },
          "execution_count": 28
        }
      ]
    },
    {
      "cell_type": "code",
      "metadata": {
        "id": "edQPP2Aaenrp",
        "colab_type": "code",
        "colab": {}
      },
      "source": [
        "\n",
        "df_1 = df1.loc[df1[\"star_rating\"]==\"1\"]\n",
        "df_2 = df1.loc[df1[\"star_rating\"]==\"2\"]\n",
        "df_3 = df1.loc[df1[\"star_rating\"]==\"3\"]\n",
        "df_4 = df1.loc[df1[\"star_rating\"]==\"4\"]\n",
        "df_5 = df1.loc[df1[\"star_rating\"]==\"5\"]\n",
        "\n",
        "df_star1= df_1.sample(n = 5338, replace = True) \n",
        "df_star2= df_2.sample(n = 5338, replace = True) \n",
        "df_star3= df_3.sample(n = 5338, replace = True) \n",
        "df_star4= df_4.sample(n = 5338, replace = True) \n",
        "df_star5= df_5.sample(n = 5338, replace = True) \n",
        "\n",
        "frames = [df_star1, df_star2, df_star3, df_star4, df_star5]\n",
        "\n",
        "df_sample = pd.concat(frames)\n",
        "df_sample[[\"star_rating\",\"review_body\"]]= df[[\"star_rating\",\"review_body\"]].astype(str)"
      ],
      "execution_count": 9,
      "outputs": []
    },
    {
      "cell_type": "code",
      "metadata": {
        "id": "UlVCo3T97wsl",
        "colab_type": "code",
        "colab": {}
      },
      "source": [
        "# Select out features and labels\n",
        "entireDataset = spark.createDataFrame(df_sample[['star_rating', 'review_body']])"
      ],
      "execution_count": 10,
      "outputs": []
    },
    {
      "cell_type": "code",
      "metadata": {
        "id": "aLYggs2r75ER",
        "colab_type": "code",
        "colab": {
          "base_uri": "https://localhost:8080/",
          "height": 34
        },
        "outputId": "3e056811-bff3-4140-8a94-80586a7e57f5"
      },
      "source": [
        "# Check data types\n",
        "entireDataset.dtypes"
      ],
      "execution_count": 11,
      "outputs": [
        {
          "output_type": "execute_result",
          "data": {
            "text/plain": [
              "[('star_rating', 'string'), ('review_body', 'string')]"
            ]
          },
          "metadata": {
            "tags": []
          },
          "execution_count": 11
        }
      ]
    },
    {
      "cell_type": "code",
      "metadata": {
        "id": "n-pMhwc479HN",
        "colab_type": "code",
        "colab": {
          "base_uri": "https://localhost:8080/",
          "height": 34
        },
        "outputId": "eb59bbe6-10c7-4aa3-aff1-b0ad4a0d300c"
      },
      "source": [
        "# View col names\n",
        "entireDataset.columns"
      ],
      "execution_count": 12,
      "outputs": [
        {
          "output_type": "execute_result",
          "data": {
            "text/plain": [
              "['star_rating', 'review_body']"
            ]
          },
          "metadata": {
            "tags": []
          },
          "execution_count": 12
        }
      ]
    },
    {
      "cell_type": "code",
      "metadata": {
        "id": "sSrJhAJ58BXB",
        "colab_type": "code",
        "colab": {}
      },
      "source": [
        "# Change object to string\n",
        "entireDataset.review_body = entireDataset.review_body.astype('string')"
      ],
      "execution_count": 13,
      "outputs": []
    },
    {
      "cell_type": "code",
      "metadata": {
        "id": "43qB-Hrx8RFc",
        "colab_type": "code",
        "colab": {}
      },
      "source": [
        "# Prepare for NLP pipeline with initial DocumentAssembler\n",
        "# Content is inside review_body\n",
        "document = DocumentAssembler() \\\n",
        "  .setInputCol(\"review_body\") \\\n",
        "  .setOutputCol(\"document\")"
      ],
      "execution_count": 14,
      "outputs": []
    },
    {
      "cell_type": "code",
      "metadata": {
        "id": "bM-NridQ8Wyo",
        "colab_type": "code",
        "colab": {
          "base_uri": "https://localhost:8080/",
          "height": 68
        },
        "outputId": "e3c52062-a048-4152-c742-f5391b9fb415"
      },
      "source": [
        "# Using sentence detector (pretrained)\n",
        "# Sentence detector\n",
        "use = UniversalSentenceEncoder.pretrained() \\\n",
        "  .setInputCols([\"document\"]) \\\n",
        "  . setOutputCol(\"sentence_embeddings\")"
      ],
      "execution_count": 15,
      "outputs": [
        {
          "output_type": "stream",
          "text": [
            "tfhub_use download started this may take some time.\n",
            "Approximate size to download 923.7 MB\n",
            "[OK!]\n"
          ],
          "name": "stdout"
        }
      ]
    },
    {
      "cell_type": "code",
      "metadata": {
        "id": "NSJQxKCC8bQy",
        "colab_type": "code",
        "colab": {}
      },
      "source": [
        "# Our labels / classes are the 1 - 5 star ratings\n",
        "# These are in the star_rating col\n",
        "\n",
        "classifierdl = ClassifierDLApproach()\\\n",
        "  .setInputCols([\"sentence_embeddings\"])\\\n",
        "  .setOutputCol(\"class\")\\\n",
        "  .setLabelColumn(\"star_rating\")\\\n",
        "  .setMaxEpochs(15)\\\n",
        "  .setEnableOutputLogs(True)"
      ],
      "execution_count": 16,
      "outputs": []
    },
    {
      "cell_type": "code",
      "metadata": {
        "id": "Rw2mqwhq8fRr",
        "colab_type": "code",
        "colab": {}
      },
      "source": [
        "# Declare the pipeline\n",
        "use_clf_pipeline = Pipeline(\n",
        "  stages = [\n",
        "    document,\n",
        "    use,\n",
        "    classifierdl\n",
        "  ]\n",
        ")\n",
        "\n"
      ],
      "execution_count": 17,
      "outputs": []
    },
    {
      "cell_type": "code",
      "metadata": {
        "id": "-_DIGgINuk7t",
        "colab_type": "code",
        "colab": {}
      },
      "source": [
        "# Split into training and testing data\n",
        "trainDataset, testDataset = entireDataset.randomSplit([0.75, 0.25], seed=12345)\n"
      ],
      "execution_count": 18,
      "outputs": []
    },
    {
      "cell_type": "code",
      "metadata": {
        "id": "bcpzOMbvuq4L",
        "colab_type": "code",
        "colab": {}
      },
      "source": [
        "# Begin fitting on the data\n",
        "use_pipelineModel = use_clf_pipeline.fit(trainDataset)"
      ],
      "execution_count": 19,
      "outputs": []
    },
    {
      "cell_type": "code",
      "metadata": {
        "id": "-Co3AEqfuqrJ",
        "colab_type": "code",
        "colab": {
          "base_uri": "https://localhost:8080/",
          "height": 459
        },
        "outputId": "60d36eee-e930-4472-fe9c-6fd6e7d61e79"
      },
      "source": [
        "# Set predictions on testDataset\n",
        "predictions = use_pipelineModel.transform(testDataset)\n",
        "predictions.count()\n",
        "predictions.show()"
      ],
      "execution_count": 20,
      "outputs": [
        {
          "output_type": "stream",
          "text": [
            "+-----------+--------------------+--------------------+--------------------+--------------------+\n",
            "|star_rating|         review_body|            document| sentence_embeddings|               class|\n",
            "+-----------+--------------------+--------------------+--------------------+--------------------+\n",
            "|          1|(Note:  This revi...|[[document, 0, 63...|[[sentence_embedd...|[[category, 0, 63...|\n",
            "|          1|* Good point of v...|[[document, 0, 18...|[[sentence_embedd...|[[category, 0, 18...|\n",
            "|          1|***Edited since 1...|[[document, 0, 67...|[[sentence_embedd...|[[category, 0, 67...|\n",
            "|          1|... and once that...|[[document, 0, 87...|[[sentence_embedd...|[[category, 0, 87...|\n",
            "|          1|....... but don't...|[[document, 0, 59...|[[sentence_embedd...|[[category, 0, 59...|\n",
            "|          1|..the battery was...|[[document, 0, 41...|[[sentence_embedd...|[[category, 0, 41...|\n",
            "|          1|A couple of minut...|[[document, 0, 89...|[[sentence_embedd...|[[category, 0, 89...|\n",
            "|          1|A friend of mine ...|[[document, 0, 78...|[[sentence_embedd...|[[category, 0, 78...|\n",
            "|          1|A great Shaver! U...|[[document, 0, 25...|[[sentence_embedd...|[[category, 0, 25...|\n",
            "|          1|AWFULL!!!!  very ...|[[document, 0, 33...|[[sentence_embedd...|[[category, 0, 33...|\n",
            "|          1|About 6 weeks ago...|[[document, 0, 71...|[[sentence_embedd...|[[category, 0, 71...|\n",
            "|          1|Absolutely HUGE. ...|[[document, 0, 17...|[[sentence_embedd...|[[category, 0, 17...|\n",
            "|          1|After 5 days it d...|[[document, 0, 26...|[[sentence_embedd...|[[category, 0, 26...|\n",
            "|          1|After all the pos...|[[document, 0, 32...|[[sentence_embedd...|[[category, 0, 32...|\n",
            "|          1|After doing much ...|[[document, 0, 61...|[[sentence_embedd...|[[category, 0, 61...|\n",
            "|          1|After finishing o...|[[document, 0, 53...|[[sentence_embedd...|[[category, 0, 53...|\n",
            "|          1|After following d...|[[document, 0, 24...|[[sentence_embedd...|[[category, 0, 24...|\n",
            "|          1|After having my a...|[[document, 0, 55...|[[sentence_embedd...|[[category, 0, 55...|\n",
            "|          1|After having trou...|[[document, 0, 85...|[[sentence_embedd...|[[category, 0, 85...|\n",
            "|          1|After only a few ...|[[document, 0, 45...|[[sentence_embedd...|[[category, 0, 45...|\n",
            "+-----------+--------------------+--------------------+--------------------+--------------------+\n",
            "only showing top 20 rows\n",
            "\n"
          ],
          "name": "stdout"
        }
      ]
    },
    {
      "cell_type": "code",
      "metadata": {
        "id": "PI8UldOU8l4-",
        "colab_type": "code",
        "colab": {
          "base_uri": "https://localhost:8080/",
          "height": 289
        },
        "outputId": "4d95f4dc-52cb-4763-8915-4f4c5bacda27"
      },
      "source": [
        "\n",
        "# Run predictions\n",
        "predictions.select('star_rating','review_body', 'class.result').show(10, truncate=80)"
      ],
      "execution_count": 21,
      "outputs": [
        {
          "output_type": "stream",
          "text": [
            "+-----------+--------------------------------------------------------------------------------+------+\n",
            "|star_rating|                                                                     review_body|result|\n",
            "+-----------+--------------------------------------------------------------------------------+------+\n",
            "|          1|(Note:  This review was based on a purchase in Dec. 2010 when the product sol...|   [1]|\n",
            "|          1|* Good point of views ; ^^*     1. The design is perfect to use this on the b...|   [2]|\n",
            "|          1|***Edited since 1 star review was published***    I had some issues with rece...|   [1]|\n",
            "|          1|... and once that happens, it's trashed. Three much nicer, sturdier shoehorns...|   [1]|\n",
            "|          1|....... but don't buy the camo version thinking that they will be suitable fo...|   [2]|\n",
            "|          1|..the battery wasn't dead on arrival and the resistance knob had actually wor...|   [2]|\n",
            "|          1|A couple of minutes was all it took for flames to start leaping out, definate...|   [1]|\n",
            "|          1|A friend of mine picked up one of these head spiders from a kiosk in the mall...|   [1]|\n",
            "|          1|A great Shaver! Unfortunately the power module failed   within the first 90 d...|   [1]|\n",
            "|          1|AWFULL!!!!  very uncomfortable in the ear, is NOT &#34;tiny&#34; and sticks o...|   [1]|\n",
            "+-----------+--------------------------------------------------------------------------------+------+\n",
            "only showing top 10 rows\n",
            "\n"
          ],
          "name": "stdout"
        }
      ]
    },
    {
      "cell_type": "code",
      "metadata": {
        "id": "LXHjpJnE8rIF",
        "colab_type": "code",
        "colab": {}
      },
      "source": [
        "# Import reports for quantifying results\n",
        "from sklearn.metrics import classification_report, accuracy_score\n",
        "\n",
        "df = use_pipelineModel.transform(testDataset).select('star_rating','review_body', 'class.result').toPandas()\n",
        "\n",
        "df['result'] = df['result'].apply(lambda x: x[0])"
      ],
      "execution_count": 22,
      "outputs": []
    },
    {
      "cell_type": "code",
      "metadata": {
        "id": "WP0rH1-A8uTC",
        "colab_type": "code",
        "colab": {}
      },
      "source": [
        "df.result = df.result.astype(str)"
      ],
      "execution_count": 23,
      "outputs": []
    },
    {
      "cell_type": "code",
      "metadata": {
        "id": "bn5Huv2u8v74",
        "colab_type": "code",
        "colab": {
          "base_uri": "https://localhost:8080/",
          "height": 238
        },
        "outputId": "956ebbef-3f0d-480d-a676-1068b226365b"
      },
      "source": [
        "print(classification_report(df['star_rating'], df.result))\n",
        "print(accuracy_score(df['star_rating'], df.result))"
      ],
      "execution_count": 24,
      "outputs": [
        {
          "output_type": "stream",
          "text": [
            "              precision    recall  f1-score   support\n",
            "\n",
            "           1       0.59      0.62      0.60      1363\n",
            "           2       0.44      0.41      0.43      1321\n",
            "           3       0.40      0.44      0.42      1329\n",
            "           4       0.41      0.32      0.35      1368\n",
            "           5       0.59      0.67      0.63      1335\n",
            "\n",
            "    accuracy                           0.49      6716\n",
            "   macro avg       0.49      0.49      0.49      6716\n",
            "weighted avg       0.49      0.49      0.49      6716\n",
            "\n",
            "0.4921083978558666\n"
          ],
          "name": "stdout"
        }
      ]
    }
  ]
}