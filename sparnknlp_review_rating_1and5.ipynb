{
  "nbformat": 4,
  "nbformat_minor": 0,
  "metadata": {
    "colab": {
      "name": "final_proj_notebook_baseline.ipynb",
      "provenance": [],
      "collapsed_sections": [],
      "machine_shape": "hm",
      "include_colab_link": true
    },
    "kernelspec": {
      "name": "python3",
      "display_name": "Python 3"
    }
  },
  "cells": [
    {
      "cell_type": "markdown",
      "metadata": {
        "id": "view-in-github",
        "colab_type": "text"
      },
      "source": [
        "<a href=\"https://colab.research.google.com/github/Fergus1212/review-star-ranker/blob/master/sparnknlp_review_rating_1and5.ipynb\" target=\"_parent\"><img src=\"https://colab.research.google.com/assets/colab-badge.svg\" alt=\"Open In Colab\"/></a>"
      ]
    },
    {
      "cell_type": "code",
      "metadata": {
        "id": "WuCz0Vth7GJY",
        "colab_type": "code",
        "colab": {
          "base_uri": "https://localhost:8080/",
          "height": 68
        },
        "outputId": "04ec6acb-cea1-45a3-cc3c-c8016b0c6112"
      },
      "source": [
        "import os\n",
        "\n",
        "# Install java\n",
        "! apt-get install -y openjdk-8-jdk-headless -qq > /dev/null\n",
        "os.environ[\"JAVA_HOME\"] = \"/usr/lib/jvm/java-8-openjdk-amd64\"\n",
        "os.environ[\"PATH\"] = os.environ[\"JAVA_HOME\"] + \"/bin:\" + os.environ[\"PATH\"]\n",
        "! java -version\n",
        "\n",
        "# Install pyspark\n",
        "! pip install --ignore-installed -q pyspark==2.4.4\n",
        "! pip install --ignore-installed -q spark-nlp==2.5.3"
      ],
      "execution_count": 1,
      "outputs": [
        {
          "output_type": "stream",
          "text": [
            "openjdk version \"1.8.0_252\"\n",
            "OpenJDK Runtime Environment (build 1.8.0_252-8u252-b09-1~18.04-b09)\n",
            "OpenJDK 64-Bit Server VM (build 25.252-b09, mixed mode)\n"
          ],
          "name": "stdout"
        }
      ]
    },
    {
      "cell_type": "code",
      "metadata": {
        "id": "XmZdhZ4u7PYF",
        "colab_type": "code",
        "colab": {
          "base_uri": "https://localhost:8080/",
          "height": 52
        },
        "outputId": "3e60fbc7-8112-4b9c-fce6-c066929efceb"
      },
      "source": [
        "# Run this in console to keep Co Lab Running\n",
        "'''\n",
        "function ConnectButton(){\n",
        "    console.log(\"Connect pushed\"); \n",
        "    document.querySelector(\"#top-toolbar > colab-connect-button\").shadowRoot.querySelector(\"#connect\").click() \n",
        "}\n",
        "setInterval(ConnectButton,60000);\n",
        "'''"
      ],
      "execution_count": 2,
      "outputs": [
        {
          "output_type": "execute_result",
          "data": {
            "application/vnd.google.colaboratory.intrinsic": {
              "type": "string"
            },
            "text/plain": [
              "'\\nfunction ConnectButton(){\\n    console.log(\"Connect pushed\"); \\n    document.querySelector(\"#top-toolbar > colab-connect-button\").shadowRoot.querySelector(\"#connect\").click() \\n}\\nsetInterval(ConnectButton,60000);\\n'"
            ]
          },
          "metadata": {
            "tags": []
          },
          "execution_count": 2
        }
      ]
    },
    {
      "cell_type": "code",
      "metadata": {
        "id": "jj4oh8nz7UKD",
        "colab_type": "code",
        "colab": {}
      },
      "source": [
        "# Spark NLP Dependencies\n",
        "import sparknlp\n",
        "from sparknlp.base import *\n",
        "from sparknlp.annotator import *\n",
        "from sparknlp.common import *\n",
        "\n",
        "# PySpark Dependencies\n",
        "from pyspark.ml import Pipeline\n",
        "from pyspark.ml.tuning import TrainValidationSplit\n",
        "\n",
        "# Pandas\n",
        "import pandas as pd\n",
        "\n",
        "# Misc\n",
        "import numpy as np\n",
        "\n",
        "# Graphs\n",
        "import matplotlib.pyplot as plt"
      ],
      "execution_count": 3,
      "outputs": []
    },
    {
      "cell_type": "code",
      "metadata": {
        "id": "ciDDnn6E7fPO",
        "colab_type": "code",
        "colab": {}
      },
      "source": [
        "# Start Spark session\n",
        "spark = sparknlp.start()"
      ],
      "execution_count": 4,
      "outputs": []
    },
    {
      "cell_type": "code",
      "metadata": {
        "id": "t1lHLQ907h1a",
        "colab_type": "code",
        "colab": {
          "base_uri": "https://localhost:8080/",
          "height": 51
        },
        "outputId": "0aa4eea5-77a8-435c-b7de-0b8bdfd06e17"
      },
      "source": [
        "# Best practice to print versions\n",
        "print(\"Spark NLP version\", sparknlp.version())\n",
        "print(\"Apache Spark version\", spark.version)"
      ],
      "execution_count": 5,
      "outputs": [
        {
          "output_type": "stream",
          "text": [
            "Spark NLP version 2.5.3\n",
            "Apache Spark version 2.4.4\n"
          ],
          "name": "stdout"
        }
      ]
    },
    {
      "cell_type": "code",
      "metadata": {
        "id": "fNdRSjOk7lQZ",
        "colab_type": "code",
        "colab": {
          "base_uri": "https://localhost:8080/",
          "height": 479
        },
        "outputId": "6ae36915-6526-495d-a6d6-f483b52ca0d1"
      },
      "source": [
        "# Yin genius way of loading Amazon\n",
        "file = 'amazon_reviews_us_Pet_Products_v1_00.tsv.gz'\n",
        "os.system(f'wget https://s3.amazonaws.com/amazon-reviews-pds/tsv/{file}')\n",
        "data = pd.read_csv(file, compression='gzip', header=0, sep='\\t', error_bad_lines=False)\n",
        "\n",
        "%time"
      ],
      "execution_count": 6,
      "outputs": [
        {
          "output_type": "stream",
          "text": [
            "b'Skipping line 21404: expected 15 fields, saw 22\\nSkipping line 31839: expected 15 fields, saw 22\\nSkipping line 37779: expected 15 fields, saw 22\\nSkipping line 38344: expected 15 fields, saw 22\\nSkipping line 61449: expected 15 fields, saw 22\\n'\n",
            "b'Skipping line 80975: expected 15 fields, saw 22\\nSkipping line 85603: expected 15 fields, saw 22\\nSkipping line 95950: expected 15 fields, saw 22\\nSkipping line 105132: expected 15 fields, saw 22\\nSkipping line 115378: expected 15 fields, saw 22\\n'\n",
            "b'Skipping line 152632: expected 15 fields, saw 22\\nSkipping line 159310: expected 15 fields, saw 22\\nSkipping line 162724: expected 15 fields, saw 22\\nSkipping line 168588: expected 15 fields, saw 22\\nSkipping line 170412: expected 15 fields, saw 22\\nSkipping line 187169: expected 15 fields, saw 22\\n'\n",
            "b'Skipping line 205461: expected 15 fields, saw 22\\nSkipping line 210928: expected 15 fields, saw 22\\nSkipping line 213691: expected 15 fields, saw 22\\nSkipping line 228697: expected 15 fields, saw 22\\nSkipping line 229383: expected 15 fields, saw 22\\nSkipping line 235713: expected 15 fields, saw 22\\nSkipping line 240421: expected 15 fields, saw 22\\nSkipping line 253547: expected 15 fields, saw 22\\n'\n",
            "b'Skipping line 303488: expected 15 fields, saw 22\\nSkipping line 306271: expected 15 fields, saw 22\\nSkipping line 307701: expected 15 fields, saw 22\\nSkipping line 317078: expected 15 fields, saw 22\\n'\n",
            "b'Skipping line 331770: expected 15 fields, saw 22\\nSkipping line 340030: expected 15 fields, saw 22\\nSkipping line 343111: expected 15 fields, saw 22\\nSkipping line 347725: expected 15 fields, saw 22\\nSkipping line 352032: expected 15 fields, saw 22\\nSkipping line 363562: expected 15 fields, saw 22\\nSkipping line 366541: expected 15 fields, saw 22\\n'\n",
            "b'Skipping line 411700: expected 15 fields, saw 22\\nSkipping line 422970: expected 15 fields, saw 22\\nSkipping line 452274: expected 15 fields, saw 22\\n'\n",
            "b'Skipping line 478751: expected 15 fields, saw 22\\nSkipping line 492268: expected 15 fields, saw 22\\nSkipping line 524242: expected 15 fields, saw 22\\n'\n",
            "b'Skipping line 529833: expected 15 fields, saw 22\\nSkipping line 557261: expected 15 fields, saw 22\\nSkipping line 573734: expected 15 fields, saw 22\\n'\n",
            "b'Skipping line 609630: expected 15 fields, saw 22\\nSkipping line 619803: expected 15 fields, saw 22\\nSkipping line 630276: expected 15 fields, saw 22\\n'\n",
            "b'Skipping line 660802: expected 15 fields, saw 22\\nSkipping line 665431: expected 15 fields, saw 22\\nSkipping line 684186: expected 15 fields, saw 22\\nSkipping line 709599: expected 15 fields, saw 22\\nSkipping line 717969: expected 15 fields, saw 22\\n'\n",
            "b'Skipping line 730455: expected 15 fields, saw 22\\nSkipping line 760019: expected 15 fields, saw 22\\nSkipping line 771682: expected 15 fields, saw 22\\nSkipping line 772685: expected 15 fields, saw 22\\nSkipping line 780429: expected 15 fields, saw 22\\n'\n",
            "b'Skipping line 794285: expected 15 fields, saw 22\\nSkipping line 794600: expected 15 fields, saw 22\\nSkipping line 814105: expected 15 fields, saw 22\\nSkipping line 821013: expected 15 fields, saw 22\\nSkipping line 821572: expected 15 fields, saw 22\\nSkipping line 838818: expected 15 fields, saw 22\\n'\n",
            "b'Skipping line 882484: expected 15 fields, saw 22\\nSkipping line 884285: expected 15 fields, saw 22\\nSkipping line 889122: expected 15 fields, saw 22\\nSkipping line 903263: expected 15 fields, saw 22\\nSkipping line 905909: expected 15 fields, saw 22\\n'\n",
            "b'Skipping line 942971: expected 15 fields, saw 22\\nSkipping line 974189: expected 15 fields, saw 22\\nSkipping line 974322: expected 15 fields, saw 22\\nSkipping line 976014: expected 15 fields, saw 22\\nSkipping line 979587: expected 15 fields, saw 22\\n'\n",
            "b'Skipping line 984046: expected 15 fields, saw 22\\nSkipping line 987303: expected 15 fields, saw 22\\nSkipping line 988454: expected 15 fields, saw 22\\nSkipping line 1022324: expected 15 fields, saw 22\\nSkipping line 1040163: expected 15 fields, saw 22\\nSkipping line 1041725: expected 15 fields, saw 22\\nSkipping line 1042582: expected 15 fields, saw 22\\n'\n",
            "b'Skipping line 1050288: expected 15 fields, saw 22\\nSkipping line 1050916: expected 15 fields, saw 22\\nSkipping line 1058744: expected 15 fields, saw 22\\nSkipping line 1083177: expected 15 fields, saw 22\\nSkipping line 1100258: expected 15 fields, saw 22\\nSkipping line 1107278: expected 15 fields, saw 22\\nSkipping line 1111345: expected 15 fields, saw 22\\nSkipping line 1111479: expected 15 fields, saw 22\\n'\n",
            "b'Skipping line 1125823: expected 15 fields, saw 22\\nSkipping line 1129482: expected 15 fields, saw 22\\nSkipping line 1131952: expected 15 fields, saw 22\\nSkipping line 1155388: expected 15 fields, saw 22\\nSkipping line 1169389: expected 15 fields, saw 22\\nSkipping line 1173501: expected 15 fields, saw 22\\nSkipping line 1176301: expected 15 fields, saw 22\\n'\n",
            "b'Skipping line 1186651: expected 15 fields, saw 22\\nSkipping line 1195294: expected 15 fields, saw 22\\nSkipping line 1196071: expected 15 fields, saw 22\\nSkipping line 1203091: expected 15 fields, saw 22\\nSkipping line 1205015: expected 15 fields, saw 22\\nSkipping line 1217204: expected 15 fields, saw 22\\nSkipping line 1220082: expected 15 fields, saw 22\\nSkipping line 1231204: expected 15 fields, saw 22\\nSkipping line 1231448: expected 15 fields, saw 22\\nSkipping line 1238917: expected 15 fields, saw 22\\n'\n",
            "b'Skipping line 1255057: expected 15 fields, saw 22\\nSkipping line 1285411: expected 15 fields, saw 22\\nSkipping line 1287752: expected 15 fields, saw 22\\nSkipping line 1292711: expected 15 fields, saw 22\\nSkipping line 1299584: expected 15 fields, saw 22\\nSkipping line 1302522: expected 15 fields, saw 22\\nSkipping line 1304105: expected 15 fields, saw 22\\n'\n",
            "b'Skipping line 1332110: expected 15 fields, saw 22\\nSkipping line 1340500: expected 15 fields, saw 22\\nSkipping line 1343112: expected 15 fields, saw 22\\nSkipping line 1343246: expected 15 fields, saw 22\\nSkipping line 1343848: expected 15 fields, saw 22\\nSkipping line 1351907: expected 15 fields, saw 22\\nSkipping line 1355456: expected 15 fields, saw 22\\nSkipping line 1364074: expected 15 fields, saw 22\\nSkipping line 1365046: expected 15 fields, saw 22\\nSkipping line 1375358: expected 15 fields, saw 22\\n'\n",
            "b'Skipping line 1469126: expected 15 fields, saw 22\\nSkipping line 1480057: expected 15 fields, saw 22\\nSkipping line 1506711: expected 15 fields, saw 22\\n'\n",
            "b'Skipping line 1616037: expected 15 fields, saw 22\\n'\n",
            "b'Skipping line 1773884: expected 15 fields, saw 22\\nSkipping line 1825979: expected 15 fields, saw 22\\n'\n"
          ],
          "name": "stderr"
        },
        {
          "output_type": "stream",
          "text": [
            "CPU times: user 2 µs, sys: 0 ns, total: 2 µs\n",
            "Wall time: 5.25 µs\n"
          ],
          "name": "stdout"
        }
      ]
    },
    {
      "cell_type": "code",
      "metadata": {
        "id": "X6AenxvbPReN",
        "colab_type": "code",
        "colab": {}
      },
      "source": [
        "# # For testing smaller set (comment out otherwise)\n",
        "# df0 = data.iloc[np.r_[1:50000]]\n",
        "# df0.reset_index(inplace=True, drop=True)\n",
        "\n",
        "# Leave un-commented to ignore slicing\n",
        "df0 = data"
      ],
      "execution_count": 7,
      "outputs": []
    },
    {
      "cell_type": "code",
      "metadata": {
        "id": "ypZVCJOrUpK7",
        "colab_type": "code",
        "colab": {
          "base_uri": "https://localhost:8080/",
          "height": 289
        },
        "outputId": "efd9e93a-16e4-4669-bf9b-21bb47eedc41"
      },
      "source": [
        "df0.count()"
      ],
      "execution_count": 8,
      "outputs": [
        {
          "output_type": "execute_result",
          "data": {
            "text/plain": [
              "marketplace          2639853\n",
              "customer_id          2639853\n",
              "review_id            2639853\n",
              "product_id           2639853\n",
              "product_parent       2639853\n",
              "product_title        2639852\n",
              "product_category     2639853\n",
              "star_rating          2639852\n",
              "helpful_votes        2639852\n",
              "total_votes          2639852\n",
              "vine                 2639852\n",
              "verified_purchase    2639852\n",
              "review_headline      2639843\n",
              "review_body          2639636\n",
              "review_date          2639843\n",
              "dtype: int64"
            ]
          },
          "metadata": {
            "tags": []
          },
          "execution_count": 8
        }
      ]
    },
    {
      "cell_type": "code",
      "metadata": {
        "id": "KJIZnCDp7pt8",
        "colab_type": "code",
        "colab": {
          "base_uri": "https://localhost:8080/",
          "height": 496
        },
        "outputId": "7961dcae-e66a-4772-c4c9-f9e93b25d4d2"
      },
      "source": [
        "# Display data\n",
        "df0.head()"
      ],
      "execution_count": 9,
      "outputs": [
        {
          "output_type": "execute_result",
          "data": {
            "text/html": [
              "<div>\n",
              "<style scoped>\n",
              "    .dataframe tbody tr th:only-of-type {\n",
              "        vertical-align: middle;\n",
              "    }\n",
              "\n",
              "    .dataframe tbody tr th {\n",
              "        vertical-align: top;\n",
              "    }\n",
              "\n",
              "    .dataframe thead th {\n",
              "        text-align: right;\n",
              "    }\n",
              "</style>\n",
              "<table border=\"1\" class=\"dataframe\">\n",
              "  <thead>\n",
              "    <tr style=\"text-align: right;\">\n",
              "      <th></th>\n",
              "      <th>marketplace</th>\n",
              "      <th>customer_id</th>\n",
              "      <th>review_id</th>\n",
              "      <th>product_id</th>\n",
              "      <th>product_parent</th>\n",
              "      <th>product_title</th>\n",
              "      <th>product_category</th>\n",
              "      <th>star_rating</th>\n",
              "      <th>helpful_votes</th>\n",
              "      <th>total_votes</th>\n",
              "      <th>vine</th>\n",
              "      <th>verified_purchase</th>\n",
              "      <th>review_headline</th>\n",
              "      <th>review_body</th>\n",
              "      <th>review_date</th>\n",
              "    </tr>\n",
              "  </thead>\n",
              "  <tbody>\n",
              "    <tr>\n",
              "      <th>0</th>\n",
              "      <td>US</td>\n",
              "      <td>28794885</td>\n",
              "      <td>REAKC26P07MDN</td>\n",
              "      <td>B00Q0K9604</td>\n",
              "      <td>510387886</td>\n",
              "      <td>(8-Pack) EZwhelp Belly Band/Wrap</td>\n",
              "      <td>Pet Products</td>\n",
              "      <td>5.0</td>\n",
              "      <td>0.0</td>\n",
              "      <td>0.0</td>\n",
              "      <td>N</td>\n",
              "      <td>Y</td>\n",
              "      <td>A great purchase for \"dribbly\" dogs</td>\n",
              "      <td>Best belly bands on the market!  These are a g...</td>\n",
              "      <td>2015-08-31</td>\n",
              "    </tr>\n",
              "    <tr>\n",
              "      <th>1</th>\n",
              "      <td>US</td>\n",
              "      <td>11488901</td>\n",
              "      <td>R3NU7OMZ4HQIEG</td>\n",
              "      <td>B00MBW5O9W</td>\n",
              "      <td>912374672</td>\n",
              "      <td>Warren Eckstein's Hugs &amp; Kisses Vitamin Minera...</td>\n",
              "      <td>Pet Products</td>\n",
              "      <td>2.0</td>\n",
              "      <td>0.0</td>\n",
              "      <td>1.0</td>\n",
              "      <td>N</td>\n",
              "      <td>Y</td>\n",
              "      <td>My dogs love Hugs and Kisses</td>\n",
              "      <td>My dogs love Hugs and Kisses.  However, the la...</td>\n",
              "      <td>2015-08-31</td>\n",
              "    </tr>\n",
              "    <tr>\n",
              "      <th>2</th>\n",
              "      <td>US</td>\n",
              "      <td>43214993</td>\n",
              "      <td>R14QJW3XF8QO1P</td>\n",
              "      <td>B0084OHUIO</td>\n",
              "      <td>902215727</td>\n",
              "      <td>Tyson's True Chews Premium Jerky - 12 ounce Ch...</td>\n",
              "      <td>Pet Products</td>\n",
              "      <td>5.0</td>\n",
              "      <td>0.0</td>\n",
              "      <td>0.0</td>\n",
              "      <td>N</td>\n",
              "      <td>Y</td>\n",
              "      <td>I have been purchasing these for a long time. ...</td>\n",
              "      <td>I have been purchasing these for a long time. ...</td>\n",
              "      <td>2015-08-31</td>\n",
              "    </tr>\n",
              "    <tr>\n",
              "      <th>3</th>\n",
              "      <td>US</td>\n",
              "      <td>12835065</td>\n",
              "      <td>R2HB7AX0394ZGY</td>\n",
              "      <td>B001GS71K2</td>\n",
              "      <td>568880110</td>\n",
              "      <td>Soft Side Pet Crate, Navy/Tan</td>\n",
              "      <td>Pet Products</td>\n",
              "      <td>5.0</td>\n",
              "      <td>0.0</td>\n",
              "      <td>0.0</td>\n",
              "      <td>N</td>\n",
              "      <td>Y</td>\n",
              "      <td>it is easy to open and close</td>\n",
              "      <td>It is extremely well constructed, it is easy t...</td>\n",
              "      <td>2015-08-31</td>\n",
              "    </tr>\n",
              "    <tr>\n",
              "      <th>4</th>\n",
              "      <td>US</td>\n",
              "      <td>26334022</td>\n",
              "      <td>RGKMPDQGSAHR3</td>\n",
              "      <td>B004ABH1LG</td>\n",
              "      <td>692846826</td>\n",
              "      <td>EliteField 3-Door Folding Soft Dog Crate, Indo...</td>\n",
              "      <td>Pet Products</td>\n",
              "      <td>5.0</td>\n",
              "      <td>0.0</td>\n",
              "      <td>0.0</td>\n",
              "      <td>N</td>\n",
              "      <td>Y</td>\n",
              "      <td>Dog crate</td>\n",
              "      <td>Worked really well.  Very pleased with my purc...</td>\n",
              "      <td>2015-08-31</td>\n",
              "    </tr>\n",
              "  </tbody>\n",
              "</table>\n",
              "</div>"
            ],
            "text/plain": [
              "  marketplace  ...  review_date\n",
              "0          US  ...   2015-08-31\n",
              "1          US  ...   2015-08-31\n",
              "2          US  ...   2015-08-31\n",
              "3          US  ...   2015-08-31\n",
              "4          US  ...   2015-08-31\n",
              "\n",
              "[5 rows x 15 columns]"
            ]
          },
          "metadata": {
            "tags": []
          },
          "execution_count": 9
        }
      ]
    },
    {
      "cell_type": "code",
      "metadata": {
        "id": "Ez5kpDxUoZJU",
        "colab_type": "code",
        "colab": {}
      },
      "source": [
        "# Select out labels and classes\n",
        "df = df0[['review_body', 'star_rating']]"
      ],
      "execution_count": 10,
      "outputs": []
    },
    {
      "cell_type": "code",
      "metadata": {
        "id": "qW8xB2li-_LO",
        "colab_type": "code",
        "colab": {
          "base_uri": "https://localhost:8080/",
          "height": 204
        },
        "outputId": "327c8b91-f797-41ee-b28b-057c727c54e5"
      },
      "source": [
        "# Drop duplicates\n",
        "df = df.drop_duplicates(subset='review_body').copy()\n",
        "df.head()"
      ],
      "execution_count": 11,
      "outputs": [
        {
          "output_type": "execute_result",
          "data": {
            "text/html": [
              "<div>\n",
              "<style scoped>\n",
              "    .dataframe tbody tr th:only-of-type {\n",
              "        vertical-align: middle;\n",
              "    }\n",
              "\n",
              "    .dataframe tbody tr th {\n",
              "        vertical-align: top;\n",
              "    }\n",
              "\n",
              "    .dataframe thead th {\n",
              "        text-align: right;\n",
              "    }\n",
              "</style>\n",
              "<table border=\"1\" class=\"dataframe\">\n",
              "  <thead>\n",
              "    <tr style=\"text-align: right;\">\n",
              "      <th></th>\n",
              "      <th>review_body</th>\n",
              "      <th>star_rating</th>\n",
              "    </tr>\n",
              "  </thead>\n",
              "  <tbody>\n",
              "    <tr>\n",
              "      <th>0</th>\n",
              "      <td>Best belly bands on the market!  These are a g...</td>\n",
              "      <td>5.0</td>\n",
              "    </tr>\n",
              "    <tr>\n",
              "      <th>1</th>\n",
              "      <td>My dogs love Hugs and Kisses.  However, the la...</td>\n",
              "      <td>2.0</td>\n",
              "    </tr>\n",
              "    <tr>\n",
              "      <th>2</th>\n",
              "      <td>I have been purchasing these for a long time. ...</td>\n",
              "      <td>5.0</td>\n",
              "    </tr>\n",
              "    <tr>\n",
              "      <th>3</th>\n",
              "      <td>It is extremely well constructed, it is easy t...</td>\n",
              "      <td>5.0</td>\n",
              "    </tr>\n",
              "    <tr>\n",
              "      <th>4</th>\n",
              "      <td>Worked really well.  Very pleased with my purc...</td>\n",
              "      <td>5.0</td>\n",
              "    </tr>\n",
              "  </tbody>\n",
              "</table>\n",
              "</div>"
            ],
            "text/plain": [
              "                                         review_body  star_rating\n",
              "0  Best belly bands on the market!  These are a g...          5.0\n",
              "1  My dogs love Hugs and Kisses.  However, the la...          2.0\n",
              "2  I have been purchasing these for a long time. ...          5.0\n",
              "3  It is extremely well constructed, it is easy t...          5.0\n",
              "4  Worked really well.  Very pleased with my purc...          5.0"
            ]
          },
          "metadata": {
            "tags": []
          },
          "execution_count": 11
        }
      ]
    },
    {
      "cell_type": "code",
      "metadata": {
        "id": "Oolw9jlP_cBX",
        "colab_type": "code",
        "colab": {}
      },
      "source": [
        "# Reset index from drop\n",
        "df.reset_index(drop=True, inplace=True)"
      ],
      "execution_count": 12,
      "outputs": []
    },
    {
      "cell_type": "code",
      "metadata": {
        "id": "F58iWZny7shT",
        "colab_type": "code",
        "colab": {
          "base_uri": "https://localhost:8080/",
          "height": 119
        },
        "outputId": "ea6863bf-e283-478d-e05a-e6a8c92fed8f"
      },
      "source": [
        "# View classification col counts\n",
        "df.star_rating.value_counts()"
      ],
      "execution_count": 13,
      "outputs": [
        {
          "output_type": "execute_result",
          "data": {
            "text/plain": [
              "5.0    1535282\n",
              "4.0     366343\n",
              "1.0     241989\n",
              "3.0     211816\n",
              "2.0     148631\n",
              "Name: star_rating, dtype: int64"
            ]
          },
          "metadata": {
            "tags": []
          },
          "execution_count": 13
        }
      ]
    },
    {
      "cell_type": "code",
      "metadata": {
        "id": "FxffPFcplIXj",
        "colab_type": "code",
        "colab": {}
      },
      "source": [
        "# Condense ratings\n",
        "# 2 down to 1\n",
        "df.loc[df[\"star_rating\"] == 2, ['star_rating']] = 1\n",
        "\n",
        "# 3 down to 1\n",
        "df.loc[df[\"star_rating\"] == 3, ['star_rating']] = 1\n",
        "\n",
        "# 4 up to 5\n",
        "df.loc[df[\"star_rating\"] == 4, ['star_rating']] = 5"
      ],
      "execution_count": 14,
      "outputs": []
    },
    {
      "cell_type": "code",
      "metadata": {
        "id": "iprXXIX8nTbn",
        "colab_type": "code",
        "colab": {
          "base_uri": "https://localhost:8080/",
          "height": 68
        },
        "outputId": "f4e3eb61-42df-47ed-c36f-a44571da2257"
      },
      "source": [
        "# View classification col again\n",
        "df.star_rating.value_counts()"
      ],
      "execution_count": 15,
      "outputs": [
        {
          "output_type": "execute_result",
          "data": {
            "text/plain": [
              "5.0    1901625\n",
              "1.0     602436\n",
              "Name: star_rating, dtype: int64"
            ]
          },
          "metadata": {
            "tags": []
          },
          "execution_count": 15
        }
      ]
    },
    {
      "cell_type": "code",
      "metadata": {
        "id": "JT6aW8WKni16",
        "colab_type": "code",
        "colab": {}
      },
      "source": [
        "# Store the min value_count for balancing\n",
        "label_min = df.star_rating.value_counts().min()"
      ],
      "execution_count": 16,
      "outputs": []
    },
    {
      "cell_type": "code",
      "metadata": {
        "id": "xed79O892AAK",
        "colab_type": "code",
        "colab": {}
      },
      "source": [
        "# Sample based on label min\n",
        "df_1_bal = df.loc[df[\"star_rating\"] == 1].sample(n = label_min, replace = True)\n",
        "df_5_bal = df.loc[df[\"star_rating\"] == 5].sample(n = label_min, replace = True)\n",
        "\n",
        "frames = [\n",
        "          df_1_bal,\n",
        "          df_5_bal,\n",
        "]\n",
        "\n",
        "df_balanced = pd.concat(frames)"
      ],
      "execution_count": 17,
      "outputs": []
    },
    {
      "cell_type": "code",
      "metadata": {
        "id": "kWwHephaoEgF",
        "colab_type": "code",
        "colab": {
          "base_uri": "https://localhost:8080/",
          "height": 68
        },
        "outputId": "0cd41d25-e24c-452e-c6e5-78fafcd5064d"
      },
      "source": [
        "df_balanced.dtypes"
      ],
      "execution_count": 18,
      "outputs": [
        {
          "output_type": "execute_result",
          "data": {
            "text/plain": [
              "review_body     object\n",
              "star_rating    float64\n",
              "dtype: object"
            ]
          },
          "metadata": {
            "tags": []
          },
          "execution_count": 18
        }
      ]
    },
    {
      "cell_type": "code",
      "metadata": {
        "id": "UlVCo3T97wsl",
        "colab_type": "code",
        "colab": {}
      },
      "source": [
        "# Select out features and labels\n",
        "entireDataset = spark.createDataFrame(df_balanced[['star_rating', 'review_body']])"
      ],
      "execution_count": 19,
      "outputs": []
    },
    {
      "cell_type": "code",
      "metadata": {
        "id": "6T4TOa9Fsfw6",
        "colab_type": "code",
        "colab": {
          "base_uri": "https://localhost:8080/",
          "height": 34
        },
        "outputId": "9a760905-3f1a-4e55-a015-32b255ed7099"
      },
      "source": [
        "entireDataset.dtypes"
      ],
      "execution_count": 20,
      "outputs": [
        {
          "output_type": "execute_result",
          "data": {
            "text/plain": [
              "[('star_rating', 'double'), ('review_body', 'string')]"
            ]
          },
          "metadata": {
            "tags": []
          },
          "execution_count": 20
        }
      ]
    },
    {
      "cell_type": "code",
      "metadata": {
        "id": "Xu3iNoA7qmzh",
        "colab_type": "code",
        "colab": {
          "base_uri": "https://localhost:8080/",
          "height": 459
        },
        "outputId": "9f0acbf5-a7b1-4ff6-ac2a-8cbc9c1364ff"
      },
      "source": [
        "# Set label as integer\n",
        "import pyspark.sql.functions as F\n",
        "\n",
        "entireDataset = entireDataset.withColumn(\"star_rating\", F.round(entireDataset[\"star_rating\"]).cast('integer'))\n",
        "entireDataset.show()"
      ],
      "execution_count": 21,
      "outputs": [
        {
          "output_type": "stream",
          "text": [
            "+-----------+--------------------+\n",
            "|star_rating|         review_body|\n",
            "+-----------+--------------------+\n",
            "|          1|Jammed a lot.  Wh...|\n",
            "|          1|I thought this wa...|\n",
            "|          1|The chips don't w...|\n",
            "|          1|Guinea pigs will ...|\n",
            "|          1|Needs more surfac...|\n",
            "|          1|We have two cats....|\n",
            "|          1|Delivered with a ...|\n",
            "|          1|I like the qualit...|\n",
            "|          1|Does its job but ...|\n",
            "|          1|The LARGE size I ...|\n",
            "|          1|Only took the Ame...|\n",
            "|          1|      Too much bulky|\n",
            "|          1|I was hoping that...|\n",
            "|          1|I liked it, my do...|\n",
            "|          1|This product did ...|\n",
            "|          1|these turned out ...|\n",
            "|          1|Try on 4 young di...|\n",
            "|          1|I bought this bas...|\n",
            "|          1|Be warned, this i...|\n",
            "|          1|It is not engrave...|\n",
            "+-----------+--------------------+\n",
            "only showing top 20 rows\n",
            "\n"
          ],
          "name": "stdout"
        }
      ]
    },
    {
      "cell_type": "code",
      "metadata": {
        "id": "zshqsqBD3OO5",
        "colab_type": "code",
        "colab": {
          "base_uri": "https://localhost:8080/",
          "height": 136
        },
        "outputId": "ad64b48d-1616-4979-8c5c-5c6514321fb8"
      },
      "source": [
        "# Check counts\n",
        "entireDataset.groupBy('star_rating').count().show()"
      ],
      "execution_count": 22,
      "outputs": [
        {
          "output_type": "stream",
          "text": [
            "+-----------+------+\n",
            "|star_rating| count|\n",
            "+-----------+------+\n",
            "|          1|602436|\n",
            "|          5|602436|\n",
            "+-----------+------+\n",
            "\n"
          ],
          "name": "stdout"
        }
      ]
    },
    {
      "cell_type": "code",
      "metadata": {
        "id": "9KdFwPWBu8pF",
        "colab_type": "code",
        "colab": {
          "base_uri": "https://localhost:8080/",
          "height": 85
        },
        "outputId": "a0bf50fc-c01b-4883-d203-362d09416455"
      },
      "source": [
        "# Check infered values\n",
        "entireDataset.printSchema()"
      ],
      "execution_count": 23,
      "outputs": [
        {
          "output_type": "stream",
          "text": [
            "root\n",
            " |-- star_rating: integer (nullable = true)\n",
            " |-- review_body: string (nullable = true)\n",
            "\n"
          ],
          "name": "stdout"
        }
      ]
    },
    {
      "cell_type": "code",
      "metadata": {
        "id": "n-pMhwc479HN",
        "colab_type": "code",
        "colab": {
          "base_uri": "https://localhost:8080/",
          "height": 34
        },
        "outputId": "2b69fd87-889d-47ba-9689-1a69bd4a05a7"
      },
      "source": [
        "# View col names\n",
        "entireDataset.columns"
      ],
      "execution_count": 24,
      "outputs": [
        {
          "output_type": "execute_result",
          "data": {
            "text/plain": [
              "['star_rating', 'review_body']"
            ]
          },
          "metadata": {
            "tags": []
          },
          "execution_count": 24
        }
      ]
    },
    {
      "cell_type": "code",
      "metadata": {
        "id": "43qB-Hrx8RFc",
        "colab_type": "code",
        "colab": {}
      },
      "source": [
        "# Prepare for NLP pipeline with initial DocumentAssembler\n",
        "# Content is inside review_body\n",
        "document = DocumentAssembler() \\\n",
        "  .setInputCol(\"review_body\") \\\n",
        "  .setOutputCol(\"document\") \\\n",
        "  .setCleanupMode(\"shrink\")"
      ],
      "execution_count": 25,
      "outputs": []
    },
    {
      "cell_type": "code",
      "metadata": {
        "id": "bM-NridQ8Wyo",
        "colab_type": "code",
        "colab": {
          "base_uri": "https://localhost:8080/",
          "height": 68
        },
        "outputId": "3d545d46-2129-41ac-c31a-8ecc69e2c181"
      },
      "source": [
        "# Using sentence detector (pretrained)\n",
        "# Sentence detector\n",
        "use = UniversalSentenceEncoder.pretrained() \\\n",
        "  .setInputCols([\"document\"]) \\\n",
        "  .setOutputCol(\"sentence_embeddings\")"
      ],
      "execution_count": 26,
      "outputs": [
        {
          "output_type": "stream",
          "text": [
            "tfhub_use download started this may take some time.\n",
            "Approximate size to download 923.7 MB\n",
            "[OK!]\n"
          ],
          "name": "stdout"
        }
      ]
    },
    {
      "cell_type": "code",
      "metadata": {
        "id": "NSJQxKCC8bQy",
        "colab_type": "code",
        "colab": {}
      },
      "source": [
        "# Our labels / classes are the 1 - 5 star ratings\n",
        "# These are in the star_rating col\n",
        "\n",
        "classifierdl = ClassifierDLApproach()\\\n",
        "  .setInputCols([\"sentence_embeddings\"])\\\n",
        "  .setOutputCol(\"class\")\\\n",
        "  .setLabelColumn(\"star_rating\")\\\n",
        "  .setMaxEpochs(30)\\\n",
        "  .setLr(.01)\\\n",
        "  .setEnableOutputLogs(True)\n",
        "\n",
        "# Additional hyperparamters\n",
        "# .setBatchSize(5)\\\n",
        "# .setDropout(0.5)\\"
      ],
      "execution_count": 27,
      "outputs": []
    },
    {
      "cell_type": "code",
      "metadata": {
        "id": "Rw2mqwhq8fRr",
        "colab_type": "code",
        "colab": {}
      },
      "source": [
        "# Declare the pipeline\n",
        "use_clf_pipeline = Pipeline(\n",
        "  stages = [\n",
        "    document,\n",
        "    use,\n",
        "    classifierdl\n",
        "  ]\n",
        ")"
      ],
      "execution_count": 28,
      "outputs": []
    },
    {
      "cell_type": "code",
      "metadata": {
        "id": "ym-so-pnlmOZ",
        "colab_type": "code",
        "colab": {
          "base_uri": "https://localhost:8080/",
          "height": 51
        },
        "outputId": "b90ceeb3-96ca-4053-cbf9-810a37193b66"
      },
      "source": [
        "# Split into training and testing data\n",
        "trainDataset, testDataset = entireDataset.randomSplit([0.75, 0.25], seed=12345)\n",
        "print(trainDataset.count())\n",
        "print(testDataset.count())"
      ],
      "execution_count": 29,
      "outputs": [
        {
          "output_type": "stream",
          "text": [
            "903763\n",
            "301109\n"
          ],
          "name": "stdout"
        }
      ]
    },
    {
      "cell_type": "code",
      "metadata": {
        "id": "50443Ucj8iik",
        "colab_type": "code",
        "colab": {}
      },
      "source": [
        "# Begin fitting on the data\n",
        "use_pipelineModel = use_clf_pipeline.fit(trainDataset)\n",
        "%time"
      ],
      "execution_count": null,
      "outputs": []
    },
    {
      "cell_type": "code",
      "metadata": {
        "id": "vZ_ZOxGn0ucv",
        "colab_type": "code",
        "colab": {}
      },
      "source": [
        "!cd ~/annotator_logs && ls -l"
      ],
      "execution_count": null,
      "outputs": []
    },
    {
      "cell_type": "code",
      "metadata": {
        "id": "tXNzsBED1CgY",
        "colab_type": "code",
        "colab": {}
      },
      "source": [
        "!cat ~/annotator_logs/ClassifierDLApproach_868e0d90f8fc.log error"
      ],
      "execution_count": null,
      "outputs": []
    },
    {
      "cell_type": "code",
      "metadata": {
        "id": "PgzqIOg88j9y",
        "colab_type": "code",
        "colab": {}
      },
      "source": [
        "# Set predictions on testDataset\n",
        "predictions = use_pipelineModel.transform(testDataset)\n",
        "predictions.count()\n",
        "predictions.show()"
      ],
      "execution_count": null,
      "outputs": []
    },
    {
      "cell_type": "code",
      "metadata": {
        "id": "PI8UldOU8l4-",
        "colab_type": "code",
        "colab": {}
      },
      "source": [
        "# Run predictions\n",
        "view = use_pipelineModel.transform(testDataset).select('star_rating','review_body', 'class.result').toPandas()"
      ],
      "execution_count": null,
      "outputs": []
    },
    {
      "cell_type": "code",
      "metadata": {
        "id": "d_UYHHALXiyD",
        "colab_type": "code",
        "colab": {}
      },
      "source": [
        "type(view)"
      ],
      "execution_count": null,
      "outputs": []
    },
    {
      "cell_type": "code",
      "metadata": {
        "id": "LXHjpJnE8rIF",
        "colab_type": "code",
        "colab": {}
      },
      "source": [
        "# Import reports for quantifying results\n",
        "from sklearn.metrics import classification_report, accuracy_score\n",
        "\n",
        "df = view\n",
        "\n",
        "df['result'] = df['result'].apply(lambda x: x[0])"
      ],
      "execution_count": null,
      "outputs": []
    },
    {
      "cell_type": "code",
      "metadata": {
        "id": "WP0rH1-A8uTC",
        "colab_type": "code",
        "colab": {}
      },
      "source": [
        "df.result = df.result.astype('int64')"
      ],
      "execution_count": null,
      "outputs": []
    },
    {
      "cell_type": "code",
      "metadata": {
        "id": "bn5Huv2u8v74",
        "colab_type": "code",
        "colab": {}
      },
      "source": [
        "print(classification_report(df['star_rating'], df.result))\n",
        "print(accuracy_score(df['star_rating'], df.result))"
      ],
      "execution_count": null,
      "outputs": []
    },
    {
      "cell_type": "code",
      "metadata": {
        "id": "6sENEZ7H84bc",
        "colab_type": "code",
        "colab": {}
      },
      "source": [
        "# # Save the model\n",
        "# from pyspark.ml import Pipeline, PipelineModel\n",
        "\n",
        "# use_pipelineModel.save(\"model_name\")"
      ],
      "execution_count": null,
      "outputs": []
    },
    {
      "cell_type": "code",
      "metadata": {
        "id": "SrOahU1W9DIq",
        "colab_type": "code",
        "colab": {}
      },
      "source": [
        "# # Load the model\n",
        "# reloaded_model = PipelineModel.load(\"model_name\")"
      ],
      "execution_count": null,
      "outputs": []
    },
    {
      "cell_type": "code",
      "metadata": {
        "id": "iC5_OWJ3uizM",
        "colab_type": "code",
        "colab": {}
      },
      "source": [
        "# Random test strings\n",
        "series_reviews = [\n",
        "                  'This is terrible yuck.',\n",
        "                  'It made me sad.',\n",
        "                  'Could be better but ok.',\n",
        "                  'Absolutely love it'\n",
        "]\n",
        "\n",
        "df_input_test = spark.createDataFrame(pd.DataFrame({'review_body': series_reviews}))\n",
        "df_input_test"
      ],
      "execution_count": null,
      "outputs": []
    },
    {
      "cell_type": "code",
      "metadata": {
        "id": "g9u2RuYMvKWy",
        "colab_type": "code",
        "colab": {}
      },
      "source": [
        "df_prediction = use_pipelineModel.transform(df_input_test).select('review_body', 'class.result').toPandas()\n",
        "df_prediction"
      ],
      "execution_count": null,
      "outputs": []
    },
    {
      "cell_type": "code",
      "metadata": {
        "id": "JEw1m4JZ_TiN",
        "colab_type": "code",
        "colab": {}
      },
      "source": [
        "# # Predictions based on reload\n",
        "# predictions = reloaded_model.transform(df_input_test)\n",
        "# predictions.count()\n",
        "# predictions.show()"
      ],
      "execution_count": null,
      "outputs": []
    },
    {
      "cell_type": "code",
      "metadata": {
        "id": "fJ7iGwjVASXs",
        "colab_type": "code",
        "colab": {}
      },
      "source": [
        "# Zip up for export\n",
        "!zip -r /content/file.zip /content/model_name/"
      ],
      "execution_count": null,
      "outputs": []
    },
    {
      "cell_type": "code",
      "metadata": {
        "id": "Adf1PG8D_nk2",
        "colab_type": "code",
        "colab": {}
      },
      "source": [
        "## DOWNLOAD MODEL\n",
        "# from google.colab import files\n",
        "# files.download(\"/content/file.zip\")"
      ],
      "execution_count": null,
      "outputs": []
    }
  ]
}