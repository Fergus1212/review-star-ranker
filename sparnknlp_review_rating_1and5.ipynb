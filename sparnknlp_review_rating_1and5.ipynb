{
  "nbformat": 4,
  "nbformat_minor": 0,
  "metadata": {
    "colab": {
      "name": "final_proj_notebook_baseline.ipynb",
      "provenance": [],
      "collapsed_sections": [],
      "machine_shape": "hm",
      "include_colab_link": true
    },
    "kernelspec": {
      "name": "python3",
      "display_name": "Python 3"
    }
  },
  "cells": [
    {
      "cell_type": "markdown",
      "metadata": {
        "id": "view-in-github",
        "colab_type": "text"
      },
      "source": [
        "<a href=\"https://colab.research.google.com/github/Fergus1212/review-star-ranker/blob/master/sparnknlp_review_rating_1and5.ipynb\" target=\"_parent\"><img src=\"https://colab.research.google.com/assets/colab-badge.svg\" alt=\"Open In Colab\"/></a>"
      ]
    },
    {
      "cell_type": "code",
      "metadata": {
        "id": "WuCz0Vth7GJY",
        "colab_type": "code",
        "colab": {
          "base_uri": "https://localhost:8080/",
          "height": 68
        },
        "outputId": "126469a3-7df9-4ce4-cdae-d99f38ac0c60"
      },
      "source": [
        "import os\n",
        "\n",
        "# Install java\n",
        "! apt-get install -y openjdk-8-jdk-headless -qq > /dev/null\n",
        "os.environ[\"JAVA_HOME\"] = \"/usr/lib/jvm/java-8-openjdk-amd64\"\n",
        "os.environ[\"PATH\"] = os.environ[\"JAVA_HOME\"] + \"/bin:\" + os.environ[\"PATH\"]\n",
        "! java -version\n",
        "\n",
        "# Install pyspark\n",
        "! pip install --ignore-installed -q pyspark==2.4.4\n",
        "! pip install --ignore-installed -q spark-nlp==2.5.3"
      ],
      "execution_count": 1,
      "outputs": [
        {
          "output_type": "stream",
          "text": [
            "openjdk version \"1.8.0_252\"\n",
            "OpenJDK Runtime Environment (build 1.8.0_252-8u252-b09-1~18.04-b09)\n",
            "OpenJDK 64-Bit Server VM (build 25.252-b09, mixed mode)\n"
          ],
          "name": "stdout"
        }
      ]
    },
    {
      "cell_type": "code",
      "metadata": {
        "id": "XmZdhZ4u7PYF",
        "colab_type": "code",
        "colab": {
          "base_uri": "https://localhost:8080/",
          "height": 69
        },
        "outputId": "7f6d75fb-7be4-4e46-f762-ce2718cff201"
      },
      "source": [
        "# Run this in console to keep Co Lab Running\n",
        "'''\n",
        "function ConnectButton(){\n",
        "    console.log(\"Connect pushed\"); \n",
        "    document.querySelector(\"#top-toolbar > colab-connect-button\").shadowRoot.querySelector(\"#connect\").click() \n",
        "}\n",
        "setInterval(ConnectButton,60000);\n",
        "'''"
      ],
      "execution_count": 2,
      "outputs": [
        {
          "output_type": "execute_result",
          "data": {
            "application/vnd.google.colaboratory.intrinsic": {
              "type": "string"
            },
            "text/plain": [
              "'\\nfunction ConnectButton(){\\n    console.log(\"Connect pushed\"); \\n    document.querySelector(\"#top-toolbar > colab-connect-button\").shadowRoot.querySelector(\"#connect\").click() \\n}\\nsetInterval(ConnectButton,60000);\\n'"
            ]
          },
          "metadata": {
            "tags": []
          },
          "execution_count": 2
        }
      ]
    },
    {
      "cell_type": "code",
      "metadata": {
        "id": "jj4oh8nz7UKD",
        "colab_type": "code",
        "colab": {}
      },
      "source": [
        "# Spark NLP Dependencies\n",
        "import sparknlp\n",
        "from sparknlp.base import *\n",
        "from sparknlp.annotator import *\n",
        "from sparknlp.common import *\n",
        "\n",
        "# PySpark Dependencies\n",
        "from pyspark.ml import Pipeline\n",
        "from pyspark.ml.tuning import TrainValidationSplit\n",
        "\n",
        "# Pandas\n",
        "import pandas as pd\n",
        "\n",
        "# Misc\n",
        "import numpy as np\n",
        "\n",
        "# Graphs\n",
        "import matplotlib.pyplot as plt"
      ],
      "execution_count": 3,
      "outputs": []
    },
    {
      "cell_type": "code",
      "metadata": {
        "id": "ciDDnn6E7fPO",
        "colab_type": "code",
        "colab": {}
      },
      "source": [
        "# Start Spark session\n",
        "spark = sparknlp.start()"
      ],
      "execution_count": 4,
      "outputs": []
    },
    {
      "cell_type": "code",
      "metadata": {
        "id": "t1lHLQ907h1a",
        "colab_type": "code",
        "colab": {
          "base_uri": "https://localhost:8080/",
          "height": 51
        },
        "outputId": "bd8b7f35-f013-4103-96e2-a6b73840a39b"
      },
      "source": [
        "# Best practice to print versions\n",
        "print(\"Spark NLP version\", sparknlp.version())\n",
        "print(\"Apache Spark version\", spark.version)"
      ],
      "execution_count": 5,
      "outputs": [
        {
          "output_type": "stream",
          "text": [
            "Spark NLP version 2.5.3\n",
            "Apache Spark version 2.4.4\n"
          ],
          "name": "stdout"
        }
      ]
    },
    {
      "cell_type": "code",
      "metadata": {
        "id": "fNdRSjOk7lQZ",
        "colab_type": "code",
        "colab": {
          "base_uri": "https://localhost:8080/",
          "height": 479
        },
        "outputId": "0179ae6f-893c-4529-c84c-92d50fb8193c"
      },
      "source": [
        "# Yin genius way of loading Amazon\n",
        "file = 'amazon_reviews_us_Pet_Products_v1_00.tsv.gz'\n",
        "os.system(f'wget https://s3.amazonaws.com/amazon-reviews-pds/tsv/{file}')\n",
        "data = pd.read_csv(file, compression='gzip', header=0, sep='\\t', error_bad_lines=False)\n",
        "\n",
        "%time"
      ],
      "execution_count": 6,
      "outputs": [
        {
          "output_type": "stream",
          "text": [
            "b'Skipping line 21404: expected 15 fields, saw 22\\nSkipping line 31839: expected 15 fields, saw 22\\nSkipping line 37779: expected 15 fields, saw 22\\nSkipping line 38344: expected 15 fields, saw 22\\nSkipping line 61449: expected 15 fields, saw 22\\n'\n",
            "b'Skipping line 80975: expected 15 fields, saw 22\\nSkipping line 85603: expected 15 fields, saw 22\\nSkipping line 95950: expected 15 fields, saw 22\\nSkipping line 105132: expected 15 fields, saw 22\\nSkipping line 115378: expected 15 fields, saw 22\\n'\n",
            "b'Skipping line 152632: expected 15 fields, saw 22\\nSkipping line 159310: expected 15 fields, saw 22\\nSkipping line 162724: expected 15 fields, saw 22\\nSkipping line 168588: expected 15 fields, saw 22\\nSkipping line 170412: expected 15 fields, saw 22\\nSkipping line 187169: expected 15 fields, saw 22\\n'\n",
            "b'Skipping line 205461: expected 15 fields, saw 22\\nSkipping line 210928: expected 15 fields, saw 22\\nSkipping line 213691: expected 15 fields, saw 22\\nSkipping line 228697: expected 15 fields, saw 22\\nSkipping line 229383: expected 15 fields, saw 22\\nSkipping line 235713: expected 15 fields, saw 22\\nSkipping line 240421: expected 15 fields, saw 22\\nSkipping line 253547: expected 15 fields, saw 22\\n'\n",
            "b'Skipping line 303488: expected 15 fields, saw 22\\nSkipping line 306271: expected 15 fields, saw 22\\nSkipping line 307701: expected 15 fields, saw 22\\nSkipping line 317078: expected 15 fields, saw 22\\n'\n",
            "b'Skipping line 331770: expected 15 fields, saw 22\\nSkipping line 340030: expected 15 fields, saw 22\\nSkipping line 343111: expected 15 fields, saw 22\\nSkipping line 347725: expected 15 fields, saw 22\\nSkipping line 352032: expected 15 fields, saw 22\\nSkipping line 363562: expected 15 fields, saw 22\\nSkipping line 366541: expected 15 fields, saw 22\\n'\n",
            "b'Skipping line 411700: expected 15 fields, saw 22\\nSkipping line 422970: expected 15 fields, saw 22\\nSkipping line 452274: expected 15 fields, saw 22\\n'\n",
            "b'Skipping line 478751: expected 15 fields, saw 22\\nSkipping line 492268: expected 15 fields, saw 22\\nSkipping line 524242: expected 15 fields, saw 22\\n'\n",
            "b'Skipping line 529833: expected 15 fields, saw 22\\nSkipping line 557261: expected 15 fields, saw 22\\nSkipping line 573734: expected 15 fields, saw 22\\n'\n",
            "b'Skipping line 609630: expected 15 fields, saw 22\\nSkipping line 619803: expected 15 fields, saw 22\\nSkipping line 630276: expected 15 fields, saw 22\\n'\n",
            "b'Skipping line 660802: expected 15 fields, saw 22\\nSkipping line 665431: expected 15 fields, saw 22\\nSkipping line 684186: expected 15 fields, saw 22\\nSkipping line 709599: expected 15 fields, saw 22\\nSkipping line 717969: expected 15 fields, saw 22\\n'\n",
            "b'Skipping line 730455: expected 15 fields, saw 22\\nSkipping line 760019: expected 15 fields, saw 22\\nSkipping line 771682: expected 15 fields, saw 22\\nSkipping line 772685: expected 15 fields, saw 22\\nSkipping line 780429: expected 15 fields, saw 22\\n'\n",
            "b'Skipping line 794285: expected 15 fields, saw 22\\nSkipping line 794600: expected 15 fields, saw 22\\nSkipping line 814105: expected 15 fields, saw 22\\nSkipping line 821013: expected 15 fields, saw 22\\nSkipping line 821572: expected 15 fields, saw 22\\nSkipping line 838818: expected 15 fields, saw 22\\n'\n",
            "b'Skipping line 882484: expected 15 fields, saw 22\\nSkipping line 884285: expected 15 fields, saw 22\\nSkipping line 889122: expected 15 fields, saw 22\\nSkipping line 903263: expected 15 fields, saw 22\\nSkipping line 905909: expected 15 fields, saw 22\\n'\n",
            "b'Skipping line 942971: expected 15 fields, saw 22\\nSkipping line 974189: expected 15 fields, saw 22\\nSkipping line 974322: expected 15 fields, saw 22\\nSkipping line 976014: expected 15 fields, saw 22\\nSkipping line 979587: expected 15 fields, saw 22\\n'\n",
            "b'Skipping line 984046: expected 15 fields, saw 22\\nSkipping line 987303: expected 15 fields, saw 22\\nSkipping line 988454: expected 15 fields, saw 22\\nSkipping line 1022324: expected 15 fields, saw 22\\nSkipping line 1040163: expected 15 fields, saw 22\\nSkipping line 1041725: expected 15 fields, saw 22\\nSkipping line 1042582: expected 15 fields, saw 22\\n'\n",
            "b'Skipping line 1050288: expected 15 fields, saw 22\\nSkipping line 1050916: expected 15 fields, saw 22\\nSkipping line 1058744: expected 15 fields, saw 22\\nSkipping line 1083177: expected 15 fields, saw 22\\nSkipping line 1100258: expected 15 fields, saw 22\\nSkipping line 1107278: expected 15 fields, saw 22\\nSkipping line 1111345: expected 15 fields, saw 22\\nSkipping line 1111479: expected 15 fields, saw 22\\n'\n",
            "b'Skipping line 1125823: expected 15 fields, saw 22\\nSkipping line 1129482: expected 15 fields, saw 22\\nSkipping line 1131952: expected 15 fields, saw 22\\nSkipping line 1155388: expected 15 fields, saw 22\\nSkipping line 1169389: expected 15 fields, saw 22\\nSkipping line 1173501: expected 15 fields, saw 22\\nSkipping line 1176301: expected 15 fields, saw 22\\n'\n",
            "b'Skipping line 1186651: expected 15 fields, saw 22\\nSkipping line 1195294: expected 15 fields, saw 22\\nSkipping line 1196071: expected 15 fields, saw 22\\nSkipping line 1203091: expected 15 fields, saw 22\\nSkipping line 1205015: expected 15 fields, saw 22\\nSkipping line 1217204: expected 15 fields, saw 22\\nSkipping line 1220082: expected 15 fields, saw 22\\nSkipping line 1231204: expected 15 fields, saw 22\\nSkipping line 1231448: expected 15 fields, saw 22\\nSkipping line 1238917: expected 15 fields, saw 22\\n'\n",
            "b'Skipping line 1255057: expected 15 fields, saw 22\\nSkipping line 1285411: expected 15 fields, saw 22\\nSkipping line 1287752: expected 15 fields, saw 22\\nSkipping line 1292711: expected 15 fields, saw 22\\nSkipping line 1299584: expected 15 fields, saw 22\\nSkipping line 1302522: expected 15 fields, saw 22\\nSkipping line 1304105: expected 15 fields, saw 22\\n'\n",
            "b'Skipping line 1332110: expected 15 fields, saw 22\\nSkipping line 1340500: expected 15 fields, saw 22\\nSkipping line 1343112: expected 15 fields, saw 22\\nSkipping line 1343246: expected 15 fields, saw 22\\nSkipping line 1343848: expected 15 fields, saw 22\\nSkipping line 1351907: expected 15 fields, saw 22\\nSkipping line 1355456: expected 15 fields, saw 22\\nSkipping line 1364074: expected 15 fields, saw 22\\nSkipping line 1365046: expected 15 fields, saw 22\\nSkipping line 1375358: expected 15 fields, saw 22\\n'\n",
            "b'Skipping line 1469126: expected 15 fields, saw 22\\nSkipping line 1480057: expected 15 fields, saw 22\\nSkipping line 1506711: expected 15 fields, saw 22\\n'\n",
            "b'Skipping line 1616037: expected 15 fields, saw 22\\n'\n",
            "b'Skipping line 1773884: expected 15 fields, saw 22\\nSkipping line 1825979: expected 15 fields, saw 22\\n'\n"
          ],
          "name": "stderr"
        },
        {
          "output_type": "stream",
          "text": [
            "CPU times: user 3 µs, sys: 0 ns, total: 3 µs\n",
            "Wall time: 5.25 µs\n"
          ],
          "name": "stdout"
        }
      ]
    },
    {
      "cell_type": "code",
      "metadata": {
        "id": "X6AenxvbPReN",
        "colab_type": "code",
        "colab": {}
      },
      "source": [
        "# For testing smaller set (comment out otherwise)\n",
        "df0 = data.iloc[np.r_[1:50000]]\n",
        "df0.reset_index(inplace=True, drop=True)\n",
        "\n",
        "# # Leave un-commented to ignore slicing\n",
        "# df0 = data"
      ],
      "execution_count": 7,
      "outputs": []
    },
    {
      "cell_type": "code",
      "metadata": {
        "id": "ypZVCJOrUpK7",
        "colab_type": "code",
        "colab": {
          "base_uri": "https://localhost:8080/",
          "height": 289
        },
        "outputId": "9b5ccd09-a3bd-4a0b-f6cc-fdc8189c4b60"
      },
      "source": [
        "df0.count()"
      ],
      "execution_count": 8,
      "outputs": [
        {
          "output_type": "execute_result",
          "data": {
            "text/plain": [
              "marketplace          49999\n",
              "customer_id          49999\n",
              "review_id            49999\n",
              "product_id           49999\n",
              "product_parent       49999\n",
              "product_title        49999\n",
              "product_category     49999\n",
              "star_rating          49999\n",
              "helpful_votes        49999\n",
              "total_votes          49999\n",
              "vine                 49999\n",
              "verified_purchase    49999\n",
              "review_headline      49999\n",
              "review_body          49986\n",
              "review_date          49999\n",
              "dtype: int64"
            ]
          },
          "metadata": {
            "tags": []
          },
          "execution_count": 8
        }
      ]
    },
    {
      "cell_type": "code",
      "metadata": {
        "id": "KJIZnCDp7pt8",
        "colab_type": "code",
        "colab": {
          "base_uri": "https://localhost:8080/",
          "height": 496
        },
        "outputId": "f051a379-fea5-474a-b4a6-91c41f756a88"
      },
      "source": [
        "# Display data\n",
        "df0.head()"
      ],
      "execution_count": 9,
      "outputs": [
        {
          "output_type": "execute_result",
          "data": {
            "text/html": [
              "<div>\n",
              "<style scoped>\n",
              "    .dataframe tbody tr th:only-of-type {\n",
              "        vertical-align: middle;\n",
              "    }\n",
              "\n",
              "    .dataframe tbody tr th {\n",
              "        vertical-align: top;\n",
              "    }\n",
              "\n",
              "    .dataframe thead th {\n",
              "        text-align: right;\n",
              "    }\n",
              "</style>\n",
              "<table border=\"1\" class=\"dataframe\">\n",
              "  <thead>\n",
              "    <tr style=\"text-align: right;\">\n",
              "      <th></th>\n",
              "      <th>marketplace</th>\n",
              "      <th>customer_id</th>\n",
              "      <th>review_id</th>\n",
              "      <th>product_id</th>\n",
              "      <th>product_parent</th>\n",
              "      <th>product_title</th>\n",
              "      <th>product_category</th>\n",
              "      <th>star_rating</th>\n",
              "      <th>helpful_votes</th>\n",
              "      <th>total_votes</th>\n",
              "      <th>vine</th>\n",
              "      <th>verified_purchase</th>\n",
              "      <th>review_headline</th>\n",
              "      <th>review_body</th>\n",
              "      <th>review_date</th>\n",
              "    </tr>\n",
              "  </thead>\n",
              "  <tbody>\n",
              "    <tr>\n",
              "      <th>0</th>\n",
              "      <td>US</td>\n",
              "      <td>11488901</td>\n",
              "      <td>R3NU7OMZ4HQIEG</td>\n",
              "      <td>B00MBW5O9W</td>\n",
              "      <td>912374672</td>\n",
              "      <td>Warren Eckstein's Hugs &amp; Kisses Vitamin Minera...</td>\n",
              "      <td>Pet Products</td>\n",
              "      <td>2.0</td>\n",
              "      <td>0.0</td>\n",
              "      <td>1.0</td>\n",
              "      <td>N</td>\n",
              "      <td>Y</td>\n",
              "      <td>My dogs love Hugs and Kisses</td>\n",
              "      <td>My dogs love Hugs and Kisses.  However, the la...</td>\n",
              "      <td>2015-08-31</td>\n",
              "    </tr>\n",
              "    <tr>\n",
              "      <th>1</th>\n",
              "      <td>US</td>\n",
              "      <td>43214993</td>\n",
              "      <td>R14QJW3XF8QO1P</td>\n",
              "      <td>B0084OHUIO</td>\n",
              "      <td>902215727</td>\n",
              "      <td>Tyson's True Chews Premium Jerky - 12 ounce Ch...</td>\n",
              "      <td>Pet Products</td>\n",
              "      <td>5.0</td>\n",
              "      <td>0.0</td>\n",
              "      <td>0.0</td>\n",
              "      <td>N</td>\n",
              "      <td>Y</td>\n",
              "      <td>I have been purchasing these for a long time. ...</td>\n",
              "      <td>I have been purchasing these for a long time. ...</td>\n",
              "      <td>2015-08-31</td>\n",
              "    </tr>\n",
              "    <tr>\n",
              "      <th>2</th>\n",
              "      <td>US</td>\n",
              "      <td>12835065</td>\n",
              "      <td>R2HB7AX0394ZGY</td>\n",
              "      <td>B001GS71K2</td>\n",
              "      <td>568880110</td>\n",
              "      <td>Soft Side Pet Crate, Navy/Tan</td>\n",
              "      <td>Pet Products</td>\n",
              "      <td>5.0</td>\n",
              "      <td>0.0</td>\n",
              "      <td>0.0</td>\n",
              "      <td>N</td>\n",
              "      <td>Y</td>\n",
              "      <td>it is easy to open and close</td>\n",
              "      <td>It is extremely well constructed, it is easy t...</td>\n",
              "      <td>2015-08-31</td>\n",
              "    </tr>\n",
              "    <tr>\n",
              "      <th>3</th>\n",
              "      <td>US</td>\n",
              "      <td>26334022</td>\n",
              "      <td>RGKMPDQGSAHR3</td>\n",
              "      <td>B004ABH1LG</td>\n",
              "      <td>692846826</td>\n",
              "      <td>EliteField 3-Door Folding Soft Dog Crate, Indo...</td>\n",
              "      <td>Pet Products</td>\n",
              "      <td>5.0</td>\n",
              "      <td>0.0</td>\n",
              "      <td>0.0</td>\n",
              "      <td>N</td>\n",
              "      <td>Y</td>\n",
              "      <td>Dog crate</td>\n",
              "      <td>Worked really well.  Very pleased with my purc...</td>\n",
              "      <td>2015-08-31</td>\n",
              "    </tr>\n",
              "    <tr>\n",
              "      <th>4</th>\n",
              "      <td>US</td>\n",
              "      <td>22283621</td>\n",
              "      <td>R1DJCVPQGCV66E</td>\n",
              "      <td>B00AX0LFM4</td>\n",
              "      <td>590674141</td>\n",
              "      <td>Carlson 68-Inch Wide Adjustable Freestanding P...</td>\n",
              "      <td>Pet Products</td>\n",
              "      <td>5.0</td>\n",
              "      <td>0.0</td>\n",
              "      <td>0.0</td>\n",
              "      <td>N</td>\n",
              "      <td>Y</td>\n",
              "      <td>Five Stars</td>\n",
              "      <td>I love my gates!  They look beautiful and they...</td>\n",
              "      <td>2015-08-31</td>\n",
              "    </tr>\n",
              "  </tbody>\n",
              "</table>\n",
              "</div>"
            ],
            "text/plain": [
              "  marketplace  ...  review_date\n",
              "0          US  ...   2015-08-31\n",
              "1          US  ...   2015-08-31\n",
              "2          US  ...   2015-08-31\n",
              "3          US  ...   2015-08-31\n",
              "4          US  ...   2015-08-31\n",
              "\n",
              "[5 rows x 15 columns]"
            ]
          },
          "metadata": {
            "tags": []
          },
          "execution_count": 9
        }
      ]
    },
    {
      "cell_type": "code",
      "metadata": {
        "id": "Ez5kpDxUoZJU",
        "colab_type": "code",
        "colab": {}
      },
      "source": [
        "# Select out labels and classes\n",
        "df = df0[['review_body', 'star_rating']]"
      ],
      "execution_count": 10,
      "outputs": []
    },
    {
      "cell_type": "code",
      "metadata": {
        "id": "qW8xB2li-_LO",
        "colab_type": "code",
        "colab": {
          "base_uri": "https://localhost:8080/",
          "height": 204
        },
        "outputId": "676be011-2d61-4e9c-ac06-29d7c8deaf80"
      },
      "source": [
        "# Drop duplicates\n",
        "df = df.drop_duplicates(subset='review_body').copy()\n",
        "df.head()"
      ],
      "execution_count": 11,
      "outputs": [
        {
          "output_type": "execute_result",
          "data": {
            "text/html": [
              "<div>\n",
              "<style scoped>\n",
              "    .dataframe tbody tr th:only-of-type {\n",
              "        vertical-align: middle;\n",
              "    }\n",
              "\n",
              "    .dataframe tbody tr th {\n",
              "        vertical-align: top;\n",
              "    }\n",
              "\n",
              "    .dataframe thead th {\n",
              "        text-align: right;\n",
              "    }\n",
              "</style>\n",
              "<table border=\"1\" class=\"dataframe\">\n",
              "  <thead>\n",
              "    <tr style=\"text-align: right;\">\n",
              "      <th></th>\n",
              "      <th>review_body</th>\n",
              "      <th>star_rating</th>\n",
              "    </tr>\n",
              "  </thead>\n",
              "  <tbody>\n",
              "    <tr>\n",
              "      <th>0</th>\n",
              "      <td>My dogs love Hugs and Kisses.  However, the la...</td>\n",
              "      <td>2.0</td>\n",
              "    </tr>\n",
              "    <tr>\n",
              "      <th>1</th>\n",
              "      <td>I have been purchasing these for a long time. ...</td>\n",
              "      <td>5.0</td>\n",
              "    </tr>\n",
              "    <tr>\n",
              "      <th>2</th>\n",
              "      <td>It is extremely well constructed, it is easy t...</td>\n",
              "      <td>5.0</td>\n",
              "    </tr>\n",
              "    <tr>\n",
              "      <th>3</th>\n",
              "      <td>Worked really well.  Very pleased with my purc...</td>\n",
              "      <td>5.0</td>\n",
              "    </tr>\n",
              "    <tr>\n",
              "      <th>4</th>\n",
              "      <td>I love my gates!  They look beautiful and they...</td>\n",
              "      <td>5.0</td>\n",
              "    </tr>\n",
              "  </tbody>\n",
              "</table>\n",
              "</div>"
            ],
            "text/plain": [
              "                                         review_body  star_rating\n",
              "0  My dogs love Hugs and Kisses.  However, the la...          2.0\n",
              "1  I have been purchasing these for a long time. ...          5.0\n",
              "2  It is extremely well constructed, it is easy t...          5.0\n",
              "3  Worked really well.  Very pleased with my purc...          5.0\n",
              "4  I love my gates!  They look beautiful and they...          5.0"
            ]
          },
          "metadata": {
            "tags": []
          },
          "execution_count": 11
        }
      ]
    },
    {
      "cell_type": "code",
      "metadata": {
        "id": "Oolw9jlP_cBX",
        "colab_type": "code",
        "colab": {}
      },
      "source": [
        "# Reset index from drop\n",
        "df.reset_index(drop=True, inplace=True)"
      ],
      "execution_count": 12,
      "outputs": []
    },
    {
      "cell_type": "code",
      "metadata": {
        "id": "F58iWZny7shT",
        "colab_type": "code",
        "colab": {
          "base_uri": "https://localhost:8080/",
          "height": 119
        },
        "outputId": "cd284cbe-b66f-4202-b6a7-906d5db4f22d"
      },
      "source": [
        "# View classification col counts\n",
        "df.star_rating.value_counts()"
      ],
      "execution_count": 13,
      "outputs": [
        {
          "output_type": "execute_result",
          "data": {
            "text/plain": [
              "5.0    29788\n",
              "4.0     6096\n",
              "1.0     4635\n",
              "3.0     3815\n",
              "2.0     2763\n",
              "Name: star_rating, dtype: int64"
            ]
          },
          "metadata": {
            "tags": []
          },
          "execution_count": 13
        }
      ]
    },
    {
      "cell_type": "code",
      "metadata": {
        "id": "FxffPFcplIXj",
        "colab_type": "code",
        "colab": {}
      },
      "source": [
        "# Condense ratings\n",
        "# 2 down to 1\n",
        "df.loc[df[\"star_rating\"] == 2, ['star_rating']] = 1\n",
        "\n",
        "# 3 down to 1\n",
        "df.loc[df[\"star_rating\"] == 3, ['star_rating']] = 1\n",
        "\n",
        "# 4 up to 5\n",
        "df.loc[df[\"star_rating\"] == 4, ['star_rating']] = 5"
      ],
      "execution_count": 14,
      "outputs": []
    },
    {
      "cell_type": "code",
      "metadata": {
        "id": "iprXXIX8nTbn",
        "colab_type": "code",
        "colab": {
          "base_uri": "https://localhost:8080/",
          "height": 68
        },
        "outputId": "4ad33c2d-61d0-4c9f-9e72-c0fd9ab75173"
      },
      "source": [
        "# View classification col again\n",
        "df.star_rating.value_counts()"
      ],
      "execution_count": 15,
      "outputs": [
        {
          "output_type": "execute_result",
          "data": {
            "text/plain": [
              "5.0    35884\n",
              "1.0    11213\n",
              "Name: star_rating, dtype: int64"
            ]
          },
          "metadata": {
            "tags": []
          },
          "execution_count": 15
        }
      ]
    },
    {
      "cell_type": "code",
      "metadata": {
        "id": "JT6aW8WKni16",
        "colab_type": "code",
        "colab": {}
      },
      "source": [
        "# Store the min value_count for balancing\n",
        "label_min = df.star_rating.value_counts().min()"
      ],
      "execution_count": 16,
      "outputs": []
    },
    {
      "cell_type": "code",
      "metadata": {
        "id": "xed79O892AAK",
        "colab_type": "code",
        "colab": {}
      },
      "source": [
        "# Sample based on label min\n",
        "df_1_bal = df.loc[df[\"star_rating\"] == 1].sample(n = label_min, replace = True)\n",
        "df_5_bal = df.loc[df[\"star_rating\"] == 5].sample(n = label_min, replace = True)\n",
        "\n",
        "frames = [\n",
        "          df_1_bal,\n",
        "          df_5_bal,\n",
        "]\n",
        "\n",
        "df_balanced = pd.concat(frames)"
      ],
      "execution_count": 17,
      "outputs": []
    },
    {
      "cell_type": "code",
      "metadata": {
        "id": "kWwHephaoEgF",
        "colab_type": "code",
        "colab": {
          "base_uri": "https://localhost:8080/",
          "height": 68
        },
        "outputId": "8cb1d630-b72b-474d-f920-0e5a7d35ec43"
      },
      "source": [
        "df_balanced.dtypes"
      ],
      "execution_count": 18,
      "outputs": [
        {
          "output_type": "execute_result",
          "data": {
            "text/plain": [
              "review_body     object\n",
              "star_rating    float64\n",
              "dtype: object"
            ]
          },
          "metadata": {
            "tags": []
          },
          "execution_count": 18
        }
      ]
    },
    {
      "cell_type": "code",
      "metadata": {
        "id": "nFmivmQ-Twhw",
        "colab_type": "code",
        "colab": {}
      },
      "source": [
        "df_balanced['review_body'] = df_balanced['review_body'].astype('str')"
      ],
      "execution_count": 19,
      "outputs": []
    },
    {
      "cell_type": "code",
      "metadata": {
        "id": "UlVCo3T97wsl",
        "colab_type": "code",
        "colab": {}
      },
      "source": [
        "# Select out features and labels\n",
        "entireDataset = spark.createDataFrame(df_balanced[['star_rating', 'review_body']])"
      ],
      "execution_count": 20,
      "outputs": []
    },
    {
      "cell_type": "code",
      "metadata": {
        "id": "6T4TOa9Fsfw6",
        "colab_type": "code",
        "colab": {
          "base_uri": "https://localhost:8080/",
          "height": 34
        },
        "outputId": "0e2893e5-cf04-48b4-8211-f4c0cfe89ad7"
      },
      "source": [
        "entireDataset.dtypes"
      ],
      "execution_count": 21,
      "outputs": [
        {
          "output_type": "execute_result",
          "data": {
            "text/plain": [
              "[('star_rating', 'double'), ('review_body', 'string')]"
            ]
          },
          "metadata": {
            "tags": []
          },
          "execution_count": 21
        }
      ]
    },
    {
      "cell_type": "code",
      "metadata": {
        "id": "Xu3iNoA7qmzh",
        "colab_type": "code",
        "colab": {
          "base_uri": "https://localhost:8080/",
          "height": 459
        },
        "outputId": "cfaf97bd-6215-4c6f-d6ad-ffcecfbc2cfe"
      },
      "source": [
        "# Set label as integer\n",
        "import pyspark.sql.functions as F\n",
        "\n",
        "entireDataset = entireDataset.withColumn(\"star_rating\", F.round(entireDataset[\"star_rating\"]).cast('integer'))\n",
        "entireDataset.show()"
      ],
      "execution_count": 22,
      "outputs": [
        {
          "output_type": "stream",
          "text": [
            "+-----------+--------------------+\n",
            "|star_rating|         review_body|\n",
            "+-----------+--------------------+\n",
            "|          1|I like the design...|\n",
            "|          1|This is soft whic...|\n",
            "|          1|Nice looking, did...|\n",
            "|          1|This product woul...|\n",
            "|          1|One star because ...|\n",
            "|          1|said size 3 to me...|\n",
            "|          1|I bought 2 of the...|\n",
            "|          1|I have given this...|\n",
            "|          1|       Dog eats them|\n",
            "|          1|I generally love ...|\n",
            "|          1|Cute dress but it...|\n",
            "|          1|I can see how thi...|\n",
            "|          1|We had used this ...|\n",
            "|          1|            Too thin|\n",
            "|          1|99% of my worms d...|\n",
            "|          1|to thin and stret...|\n",
            "|          1|I'm a bit disappo...|\n",
            "|          1|          Too small.|\n",
            "|          1|This product work...|\n",
            "|          1|My cat Luvz this ...|\n",
            "+-----------+--------------------+\n",
            "only showing top 20 rows\n",
            "\n"
          ],
          "name": "stdout"
        }
      ]
    },
    {
      "cell_type": "code",
      "metadata": {
        "id": "zshqsqBD3OO5",
        "colab_type": "code",
        "colab": {
          "base_uri": "https://localhost:8080/",
          "height": 136
        },
        "outputId": "2bca5fef-5eff-42fa-fbe4-dbbb2a17a3cd"
      },
      "source": [
        "# Check counts\n",
        "entireDataset.groupBy('star_rating').count().show()"
      ],
      "execution_count": 23,
      "outputs": [
        {
          "output_type": "stream",
          "text": [
            "+-----------+-----+\n",
            "|star_rating|count|\n",
            "+-----------+-----+\n",
            "|          1|11213|\n",
            "|          5|11213|\n",
            "+-----------+-----+\n",
            "\n"
          ],
          "name": "stdout"
        }
      ]
    },
    {
      "cell_type": "code",
      "metadata": {
        "id": "9KdFwPWBu8pF",
        "colab_type": "code",
        "colab": {
          "base_uri": "https://localhost:8080/",
          "height": 85
        },
        "outputId": "2786ede4-4e40-46a7-d2c2-e7f6e1af7af1"
      },
      "source": [
        "# Check infered values\n",
        "entireDataset.printSchema()"
      ],
      "execution_count": 24,
      "outputs": [
        {
          "output_type": "stream",
          "text": [
            "root\n",
            " |-- star_rating: integer (nullable = true)\n",
            " |-- review_body: string (nullable = true)\n",
            "\n"
          ],
          "name": "stdout"
        }
      ]
    },
    {
      "cell_type": "code",
      "metadata": {
        "id": "n-pMhwc479HN",
        "colab_type": "code",
        "colab": {
          "base_uri": "https://localhost:8080/",
          "height": 34
        },
        "outputId": "2979d118-ae36-43d6-85ee-f2c71306c94e"
      },
      "source": [
        "# View col names\n",
        "entireDataset.columns"
      ],
      "execution_count": 25,
      "outputs": [
        {
          "output_type": "execute_result",
          "data": {
            "text/plain": [
              "['star_rating', 'review_body']"
            ]
          },
          "metadata": {
            "tags": []
          },
          "execution_count": 25
        }
      ]
    },
    {
      "cell_type": "code",
      "metadata": {
        "id": "43qB-Hrx8RFc",
        "colab_type": "code",
        "colab": {}
      },
      "source": [
        "# Prepare for NLP pipeline with initial DocumentAssembler\n",
        "# Content is inside review_body\n",
        "document = DocumentAssembler() \\\n",
        "  .setInputCol(\"review_body\") \\\n",
        "  .setOutputCol(\"document\") \\\n",
        "  .setCleanupMode(\"shrink\")"
      ],
      "execution_count": 26,
      "outputs": []
    },
    {
      "cell_type": "code",
      "metadata": {
        "id": "bM-NridQ8Wyo",
        "colab_type": "code",
        "colab": {
          "base_uri": "https://localhost:8080/",
          "height": 68
        },
        "outputId": "844b2b93-76a0-44e1-b0b1-9014e3687a65"
      },
      "source": [
        "# Using sentence detector (pretrained)\n",
        "# Sentence detector\n",
        "use = UniversalSentenceEncoder.pretrained() \\\n",
        "  .setInputCols([\"document\"]) \\\n",
        "  .setOutputCol(\"sentence_embeddings\")"
      ],
      "execution_count": 27,
      "outputs": [
        {
          "output_type": "stream",
          "text": [
            "tfhub_use download started this may take some time.\n",
            "Approximate size to download 923.7 MB\n",
            "[OK!]\n"
          ],
          "name": "stdout"
        }
      ]
    },
    {
      "cell_type": "code",
      "metadata": {
        "id": "NSJQxKCC8bQy",
        "colab_type": "code",
        "colab": {}
      },
      "source": [
        "# Our labels / classes are the 1 - 5 star ratings\n",
        "# These are in the star_rating col\n",
        "\n",
        "classifierdl = ClassifierDLApproach()\\\n",
        "  .setInputCols([\"sentence_embeddings\"])\\\n",
        "  .setOutputCol(\"class\")\\\n",
        "  .setLabelColumn(\"star_rating\")\\\n",
        "  .setMaxEpochs(30)\\\n",
        "  .setLr(.01)\\\n",
        "  .setEnableOutputLogs(True)\n",
        "\n",
        "# Additional hyperparamters\n",
        "# .setBatchSize(5)\\\n",
        "# .setDropout(0.5)\\"
      ],
      "execution_count": 28,
      "outputs": []
    },
    {
      "cell_type": "code",
      "metadata": {
        "id": "Rw2mqwhq8fRr",
        "colab_type": "code",
        "colab": {}
      },
      "source": [
        "# Declare the pipeline\n",
        "use_clf_pipeline = Pipeline(\n",
        "  stages = [\n",
        "    document,\n",
        "    use,\n",
        "    classifierdl\n",
        "  ]\n",
        ")"
      ],
      "execution_count": 29,
      "outputs": []
    },
    {
      "cell_type": "code",
      "metadata": {
        "id": "ym-so-pnlmOZ",
        "colab_type": "code",
        "colab": {
          "base_uri": "https://localhost:8080/",
          "height": 51
        },
        "outputId": "1ccdf4f0-436a-4ede-d7c5-e0cd3a7db4aa"
      },
      "source": [
        "# Split into training and testing data\n",
        "trainDataset, testDataset = entireDataset.randomSplit([0.75, 0.25], seed=12345)\n",
        "print(trainDataset.count())\n",
        "print(testDataset.count())"
      ],
      "execution_count": 30,
      "outputs": [
        {
          "output_type": "stream",
          "text": [
            "16784\n",
            "5642\n"
          ],
          "name": "stdout"
        }
      ]
    },
    {
      "cell_type": "code",
      "metadata": {
        "id": "50443Ucj8iik",
        "colab_type": "code",
        "colab": {
          "base_uri": "https://localhost:8080/",
          "height": 51
        },
        "outputId": "314def83-1cf0-4eca-8263-a85ca004ab2b"
      },
      "source": [
        "# Begin fitting on the data\n",
        "use_pipelineModel = use_clf_pipeline.fit(trainDataset)\n",
        "%time"
      ],
      "execution_count": 31,
      "outputs": [
        {
          "output_type": "stream",
          "text": [
            "CPU times: user 3 µs, sys: 0 ns, total: 3 µs\n",
            "Wall time: 5.96 µs\n"
          ],
          "name": "stdout"
        }
      ]
    },
    {
      "cell_type": "code",
      "metadata": {
        "id": "vZ_ZOxGn0ucv",
        "colab_type": "code",
        "colab": {
          "base_uri": "https://localhost:8080/",
          "height": 51
        },
        "outputId": "c04ab32a-28f9-46cc-cd8d-01b788e0f08a"
      },
      "source": [
        "!cd ~/annotator_logs && ls -l"
      ],
      "execution_count": 32,
      "outputs": [
        {
          "output_type": "stream",
          "text": [
            "total 4\n",
            "-rw-r--r-- 1 root root 2694 Jul 20 22:26 ClassifierDLApproach_b542caf92019.log\n"
          ],
          "name": "stdout"
        }
      ]
    },
    {
      "cell_type": "code",
      "metadata": {
        "id": "tXNzsBED1CgY",
        "colab_type": "code",
        "colab": {
          "base_uri": "https://localhost:8080/",
          "height": 564
        },
        "outputId": "3e749d5c-2e12-4156-fe57-8b1e0848ccb5"
      },
      "source": [
        "# Copy the result from above\n",
        "# to replace ClassifierDLApproach_<this>.log\n",
        "!cat ~/annotator_logs/ClassifierDLApproach_b542caf92019.log"
      ],
      "execution_count": 47,
      "outputs": [
        {
          "output_type": "stream",
          "text": [
            "Training started - total epochs: 30 - learning rate: 0.01 - batch size: 64 - training examples: 16784\n",
            "Epoch 0/30 - 4.376667109%.2fs - loss: 129.39015 - accuracy: 0.80993557 - batches: 263\n",
            "Epoch 1/30 - 3.823645488%.2fs - loss: 125.00921 - accuracy: 0.84351146 - batches: 263\n",
            "Epoch 2/30 - 3.491970967%.2fs - loss: 122.591125 - accuracy: 0.85370946 - batches: 263\n",
            "Epoch 3/30 - 3.550107562%.2fs - loss: 121.71795 - accuracy: 0.86247617 - batches: 263\n",
            "Epoch 4/30 - 3.634410469%.2fs - loss: 119.120705 - accuracy: 0.87076575 - batches: 263\n",
            "Epoch 5/30 - 3.730388251%.2fs - loss: 117.95643 - accuracy: 0.87714696 - batches: 263\n",
            "Epoch 6/30 - 3.753051176%.2fs - loss: 117.94272 - accuracy: 0.8838263 - batches: 263\n",
            "Epoch 7/30 - 3.457601836%.2fs - loss: 116.69407 - accuracy: 0.8893726 - batches: 263\n",
            "Epoch 8/30 - 3.418908509%.2fs - loss: 117.381065 - accuracy: 0.89360684 - batches: 263\n",
            "Epoch 9/30 - 3.447795253%.2fs - loss: 117.97113 - accuracy: 0.8942629 - batches: 263\n",
            "Epoch 10/30 - 3.417889307%.2fs - loss: 116.72666 - accuracy: 0.89837784 - batches: 263\n",
            "Epoch 11/30 - 3.420958997%.2fs - loss: 116.07422 - accuracy: 0.9002266 - batches: 263\n",
            "Epoch 12/30 - 3.405341155%.2fs - loss: 114.950905 - accuracy: 0.9021947 - batches: 263\n",
            "Epoch 13/30 - 3.423031392%.2fs - loss: 114.421715 - accuracy: 0.90368557 - batches: 263\n",
            "Epoch 14/30 - 3.385475481%.2fs - loss: 114.47834 - accuracy: 0.9048187 - batches: 263\n",
            "Epoch 15/30 - 3.435240314%.2fs - loss: 114.400314 - accuracy: 0.90535545 - batches: 263\n",
            "Epoch 16/30 - 3.498940049%.2fs - loss: 114.18527 - accuracy: 0.9058922 - batches: 263\n",
            "Epoch 17/30 - 3.478504344%.2fs - loss: 113.68881 - accuracy: 0.9065482 - batches: 263\n",
            "Epoch 18/30 - 3.411546355%.2fs - loss: 113.02115 - accuracy: 0.90678674 - batches: 263\n",
            "Epoch 19/30 - 3.400665955%.2fs - loss: 112.554535 - accuracy: 0.9070253 - batches: 263\n",
            "Epoch 20/30 - 3.411429473%.2fs - loss: 112.50258 - accuracy: 0.9069657 - batches: 263\n",
            "Epoch 21/30 - 3.394130444%.2fs - loss: 112.45995 - accuracy: 0.9075024 - batches: 263\n",
            "Epoch 22/30 - 3.420072585%.2fs - loss: 112.46947 - accuracy: 0.90774095 - batches: 263\n",
            "Epoch 23/30 - 3.395904707%.2fs - loss: 112.4636 - accuracy: 0.90780056 - batches: 263\n",
            "Epoch 24/30 - 3.444789098%.2fs - loss: 112.446045 - accuracy: 0.90780056 - batches: 263\n",
            "Epoch 25/30 - 3.406131357%.2fs - loss: 112.43703 - accuracy: 0.90780056 - batches: 263\n",
            "Epoch 26/30 - 3.377902964%.2fs - loss: 112.42234 - accuracy: 0.9079198 - batches: 263\n",
            "Epoch 27/30 - 3.397117821%.2fs - loss: 112.41578 - accuracy: 0.9081584 - batches: 263\n",
            "Epoch 28/30 - 3.396273482%.2fs - loss: 112.41482 - accuracy: 0.9081584 - batches: 263\n",
            "Epoch 29/30 - 3.390784691%.2fs - loss: 112.418625 - accuracy: 0.908218 - batches: 263\n"
          ],
          "name": "stdout"
        }
      ]
    },
    {
      "cell_type": "code",
      "metadata": {
        "id": "PgzqIOg88j9y",
        "colab_type": "code",
        "colab": {
          "base_uri": "https://localhost:8080/",
          "height": 479
        },
        "outputId": "52da0d63-8bd8-477d-a741-9b43d74f0cb4"
      },
      "source": [
        "# Set predictions on testDataset\n",
        "predictions = use_pipelineModel.transform(testDataset)\n",
        "predictions.count()\n",
        "predictions.show()"
      ],
      "execution_count": 34,
      "outputs": [
        {
          "output_type": "stream",
          "text": [
            "+-----------+--------------------+--------------------+--------------------+--------------------+\n",
            "|star_rating|         review_body|            document| sentence_embeddings|               class|\n",
            "+-----------+--------------------+--------------------+--------------------+--------------------+\n",
            "|          1|1 star is because...|[[document, 0, 91...|[[sentence_embedd...|[[category, 0, 91...|\n",
            "|          1|1. Did absolutely...|[[document, 0, 83...|[[sentence_embedd...|[[category, 0, 83...|\n",
            "|          1|2 ADF in a ten ga...|[[document, 0, 28...|[[sentence_embedd...|[[category, 0, 28...|\n",
            "|          1|28.6 pounds? Real...|[[document, 0, 98...|[[sentence_embedd...|[[category, 0, 98...|\n",
            "|          1|3 dogs at the nei...|[[document, 0, 15...|[[sentence_embedd...|[[category, 0, 15...|\n",
            "|          1|3 out of 12 cans ...|[[document, 0, 23...|[[sentence_embedd...|[[category, 0, 23...|\n",
            "|          1|A cheaply made bu...|[[document, 0, 20...|[[sentence_embedd...|[[category, 0, 20...|\n",
            "|          1|A good idea and i...|[[document, 0, 15...|[[sentence_embedd...|[[category, 0, 15...|\n",
            "|          1|A good product bu...|[[document, 0, 56...|[[sentence_embedd...|[[category, 0, 56...|\n",
            "|          1|A lot smaller tha...|[[document, 0, 26...|[[sentence_embedd...|[[category, 0, 26...|\n",
            "|          1|A lot thinner tha...|[[document, 0, 97...|[[sentence_embedd...|[[category, 0, 97...|\n",
            "|          1|A poop bag holder...|[[document, 0, 38...|[[sentence_embedd...|[[category, 0, 38...|\n",
            "|          1|A very handsome u...|[[document, 0, 44...|[[sentence_embedd...|[[category, 0, 44...|\n",
            "|          1|About half were d...|[[document, 0, 33...|[[sentence_embedd...|[[category, 0, 33...|\n",
            "|          1|About six months ...|[[document, 0, 85...|[[sentence_embedd...|[[category, 0, 85...|\n",
            "|          1|Absolutely great ...|[[document, 0, 17...|[[sentence_embedd...|[[category, 0, 17...|\n",
            "|          1|Absolutely nothin...|[[document, 0, 92...|[[sentence_embedd...|[[category, 0, 92...|\n",
            "|          1|Accessories appar...|[[document, 0, 10...|[[sentence_embedd...|[[category, 0, 10...|\n",
            "|          1|Accessories appar...|[[document, 0, 10...|[[sentence_embedd...|[[category, 0, 10...|\n",
            "|          1|After I bought th...|[[document, 0, 13...|[[sentence_embedd...|[[category, 0, 13...|\n",
            "+-----------+--------------------+--------------------+--------------------+--------------------+\n",
            "only showing top 20 rows\n",
            "\n"
          ],
          "name": "stdout"
        }
      ]
    },
    {
      "cell_type": "code",
      "metadata": {
        "id": "PI8UldOU8l4-",
        "colab_type": "code",
        "colab": {}
      },
      "source": [
        "# Run predictions\n",
        "view = use_pipelineModel.transform(testDataset).select('star_rating','review_body', 'class.result').toPandas()"
      ],
      "execution_count": 35,
      "outputs": []
    },
    {
      "cell_type": "code",
      "metadata": {
        "id": "d_UYHHALXiyD",
        "colab_type": "code",
        "colab": {
          "base_uri": "https://localhost:8080/",
          "height": 34
        },
        "outputId": "0ac72eb9-5e66-450b-f2d7-9bfd5889c68e"
      },
      "source": [
        "type(view)"
      ],
      "execution_count": 36,
      "outputs": [
        {
          "output_type": "execute_result",
          "data": {
            "text/plain": [
              "pandas.core.frame.DataFrame"
            ]
          },
          "metadata": {
            "tags": []
          },
          "execution_count": 36
        }
      ]
    },
    {
      "cell_type": "code",
      "metadata": {
        "id": "LXHjpJnE8rIF",
        "colab_type": "code",
        "colab": {}
      },
      "source": [
        "# Import reports for quantifying results\n",
        "from sklearn.metrics import classification_report, accuracy_score\n",
        "\n",
        "df = view\n",
        "\n",
        "df['result'] = df['result'].apply(lambda x: x[0])"
      ],
      "execution_count": 37,
      "outputs": []
    },
    {
      "cell_type": "code",
      "metadata": {
        "id": "WP0rH1-A8uTC",
        "colab_type": "code",
        "colab": {}
      },
      "source": [
        "df.result = df.result.astype('int64')"
      ],
      "execution_count": 38,
      "outputs": []
    },
    {
      "cell_type": "code",
      "metadata": {
        "id": "bn5Huv2u8v74",
        "colab_type": "code",
        "colab": {
          "base_uri": "https://localhost:8080/",
          "height": 187
        },
        "outputId": "e480ac71-2b0a-4680-8273-89b5dbf5ef4e"
      },
      "source": [
        "print(classification_report(df['star_rating'], df.result))\n",
        "print(accuracy_score(df['star_rating'], df.result))"
      ],
      "execution_count": 39,
      "outputs": [
        {
          "output_type": "stream",
          "text": [
            "              precision    recall  f1-score   support\n",
            "\n",
            "           1       0.85      0.85      0.85      2849\n",
            "           5       0.85      0.85      0.85      2793\n",
            "\n",
            "    accuracy                           0.85      5642\n",
            "   macro avg       0.85      0.85      0.85      5642\n",
            "weighted avg       0.85      0.85      0.85      5642\n",
            "\n",
            "0.8502304147465438\n"
          ],
          "name": "stdout"
        }
      ]
    },
    {
      "cell_type": "code",
      "metadata": {
        "id": "iC5_OWJ3uizM",
        "colab_type": "code",
        "colab": {
          "base_uri": "https://localhost:8080/",
          "height": 34
        },
        "outputId": "fc71eaf1-b2c8-4967-b9fe-e48f11e86666"
      },
      "source": [
        "# Random test strings\n",
        "series_reviews = [\n",
        "                  'This is terrible yuck.',\n",
        "                  'It made me sad.',\n",
        "                  'Could be better but ok.',\n",
        "                  'Absolutely love it'\n",
        "]\n",
        "\n",
        "df_input_test = spark.createDataFrame(pd.DataFrame({'review_body': series_reviews}))\n",
        "df_input_test"
      ],
      "execution_count": 42,
      "outputs": [
        {
          "output_type": "execute_result",
          "data": {
            "text/plain": [
              "DataFrame[review_body: string]"
            ]
          },
          "metadata": {
            "tags": []
          },
          "execution_count": 42
        }
      ]
    },
    {
      "cell_type": "code",
      "metadata": {
        "id": "g9u2RuYMvKWy",
        "colab_type": "code",
        "colab": {
          "base_uri": "https://localhost:8080/",
          "height": 173
        },
        "outputId": "4c7da49f-27c5-4ca6-c1ef-6f9b27b74551"
      },
      "source": [
        "df_prediction = use_pipelineModel.transform(df_input_test).select('review_body', 'class.result').toPandas()\n",
        "df_prediction"
      ],
      "execution_count": 43,
      "outputs": [
        {
          "output_type": "execute_result",
          "data": {
            "text/html": [
              "<div>\n",
              "<style scoped>\n",
              "    .dataframe tbody tr th:only-of-type {\n",
              "        vertical-align: middle;\n",
              "    }\n",
              "\n",
              "    .dataframe tbody tr th {\n",
              "        vertical-align: top;\n",
              "    }\n",
              "\n",
              "    .dataframe thead th {\n",
              "        text-align: right;\n",
              "    }\n",
              "</style>\n",
              "<table border=\"1\" class=\"dataframe\">\n",
              "  <thead>\n",
              "    <tr style=\"text-align: right;\">\n",
              "      <th></th>\n",
              "      <th>review_body</th>\n",
              "      <th>result</th>\n",
              "    </tr>\n",
              "  </thead>\n",
              "  <tbody>\n",
              "    <tr>\n",
              "      <th>0</th>\n",
              "      <td>This is terrible yuck.</td>\n",
              "      <td>[1]</td>\n",
              "    </tr>\n",
              "    <tr>\n",
              "      <th>1</th>\n",
              "      <td>It made me sad.</td>\n",
              "      <td>[1]</td>\n",
              "    </tr>\n",
              "    <tr>\n",
              "      <th>2</th>\n",
              "      <td>Could be better but ok.</td>\n",
              "      <td>[1]</td>\n",
              "    </tr>\n",
              "    <tr>\n",
              "      <th>3</th>\n",
              "      <td>Absolutely love it</td>\n",
              "      <td>[5]</td>\n",
              "    </tr>\n",
              "  </tbody>\n",
              "</table>\n",
              "</div>"
            ],
            "text/plain": [
              "               review_body result\n",
              "0   This is terrible yuck.    [1]\n",
              "1          It made me sad.    [1]\n",
              "2  Could be better but ok.    [1]\n",
              "3       Absolutely love it    [5]"
            ]
          },
          "metadata": {
            "tags": []
          },
          "execution_count": 43
        }
      ]
    },
    {
      "cell_type": "code",
      "metadata": {
        "id": "eYMUA-YbWPPo",
        "colab_type": "code",
        "colab": {}
      },
      "source": [
        ""
      ],
      "execution_count": null,
      "outputs": []
    },
    {
      "cell_type": "markdown",
      "metadata": {
        "id": "efPDZNf0WVy7",
        "colab_type": "text"
      },
      "source": [
        "# For Saving / Loading Model"
      ]
    },
    {
      "cell_type": "code",
      "metadata": {
        "id": "6sENEZ7H84bc",
        "colab_type": "code",
        "colab": {}
      },
      "source": [
        "# # Save the model\n",
        "# from pyspark.ml import Pipeline, PipelineModel\n",
        "\n",
        "# use_pipelineModel.save(\"model_name\")\n",
        "\n",
        "# # Load the model\n",
        "# reloaded_model = PipelineModel.load(\"model_name\")\n",
        "\n",
        "# # Predictions based on reload\n",
        "# predictions = reloaded_model.transform(df_input_test)\n",
        "# predictions.count()\n",
        "# predictions.show()\n",
        "\n",
        "## DOWNLOAD MODEL\n",
        "# from google.colab import files\n",
        "# files.download(\"/content/file.zip\")"
      ],
      "execution_count": 40,
      "outputs": []
    }
  ]
}