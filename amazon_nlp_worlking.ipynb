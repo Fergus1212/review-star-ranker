{
  "nbformat": 4,
  "nbformat_minor": 0,
  "metadata": {
    "kernelspec": {
      "display_name": "Python 3",
      "language": "python",
      "name": "python3"
    },
    "language_info": {
      "codemirror_mode": {
        "name": "ipython",
        "version": 3
      },
      "file_extension": ".py",
      "mimetype": "text/x-python",
      "name": "python",
      "nbconvert_exporter": "python",
      "pygments_lexer": "ipython3",
      "version": "3.6.10"
    },
    "name": "Proj Test",
    "notebookId": 1989569909607817,
    "colab": {
      "name": "amazon_nlp_worlking.ipynb",
      "provenance": [],
      "collapsed_sections": []
    }
  },
  "cells": [
    {
      "cell_type": "markdown",
      "metadata": {
        "id": "8CJ4WtLkYKir",
        "colab_type": "text"
      },
      "source": [
        "# This First Cell is For Colab Setup Only!"
      ]
    },
    {
      "cell_type": "code",
      "metadata": {
        "id": "7b9NzGJiX1FQ",
        "colab_type": "code",
        "colab": {
          "base_uri": "https://localhost:8080/",
          "height": 136
        },
        "outputId": "55efa9c7-cfdc-4bec-ee7a-5fafe8ebc775"
      },
      "source": [
        "import os\n",
        "\n",
        "# Install java\n",
        "! apt-get install -y openjdk-8-jdk-headless -qq > /dev/null\n",
        "os.environ[\"JAVA_HOME\"] = \"/usr/lib/jvm/java-8-openjdk-amd64\"\n",
        "os.environ[\"PATH\"] = os.environ[\"JAVA_HOME\"] + \"/bin:\" + os.environ[\"PATH\"]\n",
        "! java -version\n",
        "\n",
        "# Install pyspark\n",
        "! pip install --ignore-installed -q pyspark==2.4.4\n",
        "! pip install --ignore-installed -q spark-nlp==2.5.1"
      ],
      "execution_count": null,
      "outputs": [
        {
          "output_type": "stream",
          "text": [
            "openjdk version \"1.8.0_252\"\n",
            "OpenJDK Runtime Environment (build 1.8.0_252-8u252-b09-1~18.04-b09)\n",
            "OpenJDK 64-Bit Server VM (build 25.252-b09, mixed mode)\n",
            "\u001b[K     |████████████████████████████████| 215.7MB 55kB/s \n",
            "\u001b[K     |████████████████████████████████| 204kB 45.8MB/s \n",
            "\u001b[?25h  Building wheel for pyspark (setup.py) ... \u001b[?25l\u001b[?25hdone\n",
            "\u001b[K     |████████████████████████████████| 122kB 2.8MB/s \n",
            "\u001b[?25h"
          ],
          "name": "stdout"
        }
      ]
    },
    {
      "cell_type": "code",
      "metadata": {
        "id": "2UVAFKZtdpiy",
        "colab_type": "code",
        "colab": {}
      },
      "source": [
        "# You also need this for collab in your console\n",
        "'''\n",
        "function ConnectButton(){\n",
        "    console.log(\"Connect pushed\"); \n",
        "    document.querySelector(\"#top-toolbar > colab-connect-button\").shadowRoot.querySelector(\"#connect\").click() \n",
        "}\n",
        "setInterval(ConnectButton,60000);\n",
        "'''"
      ],
      "execution_count": null,
      "outputs": []
    },
    {
      "cell_type": "code",
      "metadata": {
        "scrolled": true,
        "id": "qn0Y3F4jXyzX",
        "colab_type": "code",
        "colab": {}
      },
      "source": [
        "import sparknlp"
      ],
      "execution_count": null,
      "outputs": []
    },
    {
      "cell_type": "code",
      "metadata": {
        "id": "akxoWKQZXyzb",
        "colab_type": "code",
        "colab": {}
      },
      "source": [
        "from sparknlp.base import *\n",
        "from sparknlp.annotator import *\n",
        "from pyspark.ml import Pipeline\n",
        "from pyspark.ml.tuning import TrainValidationSplit\n",
        "import pandas as pd"
      ],
      "execution_count": null,
      "outputs": []
    },
    {
      "cell_type": "code",
      "metadata": {
        "id": "dS1-9WlSXyzd",
        "colab_type": "code",
        "colab": {}
      },
      "source": [
        "spark = sparknlp.start()"
      ],
      "execution_count": null,
      "outputs": []
    },
    {
      "cell_type": "code",
      "metadata": {
        "id": "EZK6zykjXyzg",
        "colab_type": "code",
        "colab": {},
        "outputId": "ece9df4c-a79f-46cc-bc1e-0005f522aa9a"
      },
      "source": [
        "print(\"Spark NLP version\", sparknlp.version())\n",
        "print(\"Apache Spark version\", spark.version)"
      ],
      "execution_count": null,
      "outputs": [
        {
          "output_type": "display_data",
          "data": {
            "text/html": [
              "<style scoped>\n",
              "  .ansiout {\n",
              "    display: block;\n",
              "    unicode-bidi: embed;\n",
              "    white-space: pre-wrap;\n",
              "    word-wrap: break-word;\n",
              "    word-break: break-all;\n",
              "    font-family: \"Source Code Pro\", \"Menlo\", monospace;;\n",
              "    font-size: 13px;\n",
              "    color: #555;\n",
              "    margin-left: 4px;\n",
              "    line-height: 19px;\n",
              "  }\n",
              "</style>\n",
              "<div class=\"ansiout\">Spark NLP version 2.5.3\n",
              "Apache Spark version 2.4.5\n",
              "</div>"
            ]
          },
          "metadata": {
            "tags": []
          }
        }
      ]
    },
    {
      "cell_type": "code",
      "metadata": {
        "id": "k8UenmJkXyzi",
        "colab_type": "code",
        "colab": {},
        "outputId": "434bba9c-9a10-4466-f9ac-718bef4f6c0b"
      },
      "source": [
        "# This is for Databricks load of data from S3\n",
        "# Import Sample Data\n",
        "file_uri = \"/mnt/mnt_s3/proj_sample.csv\"\n",
        "\n",
        "entireDataset = spark.read \\\n",
        "    .format(\"com.databricks.spark.csv\") \\\n",
        "    .options(header='true', inferSchema=\"true\") \\\n",
        "    .load(file_uri) \\\n",
        "\n",
        "entireDataset.show(10, truncate=50)"
      ],
      "execution_count": null,
      "outputs": [
        {
          "output_type": "display_data",
          "data": {
            "text/html": [
              "<style scoped>\n",
              "  .ansiout {\n",
              "    display: block;\n",
              "    unicode-bidi: embed;\n",
              "    white-space: pre-wrap;\n",
              "    word-wrap: break-word;\n",
              "    word-break: break-all;\n",
              "    font-family: \"Source Code Pro\", \"Menlo\", monospace;;\n",
              "    font-size: 13px;\n",
              "    color: #555;\n",
              "    margin-left: 4px;\n",
              "    line-height: 19px;\n",
              "  }\n",
              "</style>\n",
              "<div class=\"ansiout\">+-----------+-----------+--------------+----------+--------------+--------------------------------------------------+----------------+-----------+-------------+-----------+----+-----------------+--------------------------------------------------+--------------------------------------------------+-----------+\n",
              "marketplace|customer_id|     review_id|product_id|product_parent|                                     product_title|product_category|star_rating|helpful_votes|total_votes|vine|verified_purchase|                                   review_headline|                                       review_body|review_date|\n",
              "+-----------+-----------+--------------+----------+--------------+--------------------------------------------------+----------------+-----------+-------------+-----------+----+-----------------+--------------------------------------------------+--------------------------------------------------+-----------+\n",
              "         US|   18778586| RDIJS7QYB6XNR|B00EDBY7X8|     122952789|                        Monopoly Junior Board Game|            Toys|          5|            0|          0|   N|                Y|                                        Five Stars|                                      Excellent!!!|    8/31/15|\n",
              "         US|   24769659|R36ED1U38IELG8|B00D7JFOPC|     952062646|56 Pieces of Wooden Train Track Compatible with...|            Toys|          5|            0|          0|   N|                Y|             Good quality track at excellent price|Great quality wooden track (better than some ot...|    8/31/15|\n",
              "         US|   44331596| R1UE3RPRGCOLD|B002LHA74O|     818126353|        Super Jumbo Playing Cards by S&amp;S Worldwide|            Toys|          2|            1|          1|   N|                Y|                                         Two Stars|                 Cards are not as big as pictured.|    8/31/15|\n",
              "         US|   23310293|R298788GS6I901|B00ARPLCGY|     261944918|          Barbie Doll and Fashions Barbie Gift Set|            Toys|          5|            0|          0|   N|                Y|my daughter loved it and i liked the price and ...|my daughter loved it and i liked the price and ...|    8/31/15|\n",
              "         US|   38745832|  RNX4EXOBBPN5|B00UZOPOFW|     717410439|Emazing Lights eLite Flow Glow Sticks - Spinnin...|            Toys|          1|            1|          1|   N|                Y|                                   DONT BUY THESE!|Do not buy these! They break very fast I spun t...|    8/31/15|\n",
              "         US|   13394189|R3BPETL222LMIM|B009B7F6CA|     873028700| Melissa &amp; Doug Water Wow Coloring Book - Vehicles|            Toys|          5|            0|          0|   N|                Y|                                        Five Stars|Great item. Pictures pop thru and add detail as...|    8/31/15|\n",
              "         US|    2749569|R3SORMPJZO3F2J|B0101EHRSM|     723424342|Big Bang Cosmic Pegasus (Pegasis) Metal 4D High...|            Toys|          3|            2|          2|   N|                Y|                                       Three Stars|         To keep together, had to use crazy  glue.|    8/31/15|\n",
              "         US|   41137196|R2RDOJQ0WBZCF6|B00407S11Y|     383363775|        Fun Express Insect Finger Puppets 12ct Toy|            Toys|          5|            0|          0|   N|                Y|                                        Five Stars|                   I was pleased with the product.|    8/31/15|\n",
              "         US|     433677|R2B8VBEPB4YEZ7|B00FGPU7U2|     780517568|Fisher-Price Octonauts Shellington&#39;s On-The-Go ...|            Toys|          5|            0|          0|   N|                Y|                                        Five Stars|                                  Children like it|    8/31/15|\n",
              "         US|    1297934|R1CB783I7B0U52|B0013OY0S0|     269360126|          Claw Climber Goliath/ Disney&#39;s Gargoyles|            Toys|          1|            0|          1|   N|                Y|                           Shame on the seller !!!|Showed up not how it&#39;s shown . Was someone&#39;s ol...|    8/31/15|\n",
              "+-----------+-----------+--------------+----------+--------------+--------------------------------------------------+----------------+-----------+-------------+-----------+----+-----------------+--------------------------------------------------+--------------------------------------------------+-----------+\n",
              "only showing top 10 rows\n",
              "\n",
              "</div>"
            ]
          },
          "metadata": {
            "tags": []
          }
        }
      ]
    },
    {
      "cell_type": "code",
      "metadata": {
        "id": "zE_9VsHFYp7x",
        "colab_type": "code",
        "colab": {}
      },
      "source": [
        "# This is for data load in Colab\n",
        "entireDataset = spark.read.csv('/content/proj_sample.csv')"
      ],
      "execution_count": null,
      "outputs": []
    },
    {
      "cell_type": "code",
      "metadata": {
        "id": "q2bz13cybS_K",
        "colab_type": "code",
        "colab": {
          "base_uri": "https://localhost:8080/",
          "height": 272
        },
        "outputId": "967c1152-d8eb-449f-fdd9-f28fe3105e24"
      },
      "source": [
        "entireDataset.columns"
      ],
      "execution_count": null,
      "outputs": [
        {
          "output_type": "execute_result",
          "data": {
            "text/plain": [
              "['_c0',\n",
              " '_c1',\n",
              " '_c2',\n",
              " '_c3',\n",
              " '_c4',\n",
              " '_c5',\n",
              " '_c6',\n",
              " '_c7',\n",
              " '_c8',\n",
              " '_c9',\n",
              " '_c10',\n",
              " '_c11',\n",
              " '_c12',\n",
              " '_c13',\n",
              " '_c14']"
            ]
          },
          "metadata": {
            "tags": []
          },
          "execution_count": 40
        }
      ]
    },
    {
      "cell_type": "code",
      "metadata": {
        "id": "TbvVaVvIXyzk",
        "colab_type": "code",
        "colab": {}
      },
      "source": [
        "trainDataset, testDataset = entireDataset.randomSplit([0.75, 0.25], seed=12345)"
      ],
      "execution_count": null,
      "outputs": []
    },
    {
      "cell_type": "code",
      "metadata": {
        "id": "9BEaJRAZXyzn",
        "colab_type": "code",
        "colab": {}
      },
      "source": [
        "# Content is inside review_body\n",
        "document = DocumentAssembler() \\\n",
        "  .setInputCol(\"_c13\") \\\n",
        "  .setOutputCol(\"document\")"
      ],
      "execution_count": null,
      "outputs": []
    },
    {
      "cell_type": "code",
      "metadata": {
        "id": "4hcKNgqCXyzp",
        "colab_type": "code",
        "colab": {
          "base_uri": "https://localhost:8080/",
          "height": 68
        },
        "outputId": "997102df-4d61-42a9-93d2-f67f0277827c"
      },
      "source": [
        "# Sentence detector\n",
        "use = UniversalSentenceEncoder.pretrained() \\\n",
        "  .setInputCols([\"document\"]) \\\n",
        "  . setOutputCol(\"sentence_embeddings\")"
      ],
      "execution_count": null,
      "outputs": [
        {
          "output_type": "stream",
          "text": [
            "tfhub_use download started this may take some time.\n",
            "Approximate size to download 923.7 MB\n",
            "[OK!]\n"
          ],
          "name": "stdout"
        }
      ]
    },
    {
      "cell_type": "code",
      "metadata": {
        "id": "9uKr0R-gXyzr",
        "colab_type": "code",
        "colab": {}
      },
      "source": [
        "# Our labels / classes are the 1 - 5 star ratings\n",
        "# These are in the star_rating col\n",
        "\n",
        "classifierdl = ClassifierDLApproach()\\\n",
        "  .setInputCols([\"sentence_embeddings\"])\\\n",
        "  .setOutputCol(\"class\")\\\n",
        "  .setLabelColumn(\"_c7\")\\\n",
        "  .setMaxEpochs(5)\\\n",
        "  .setEnableOutputLogs(True)"
      ],
      "execution_count": null,
      "outputs": []
    },
    {
      "cell_type": "code",
      "metadata": {
        "id": "c9A9TkdQXyzt",
        "colab_type": "code",
        "colab": {}
      },
      "source": [
        "# Declare the pipeline\n",
        "use_clf_pipeline = Pipeline(\n",
        "  stages = [\n",
        "    document,\n",
        "    use,\n",
        "    classifierdl\n",
        "  ]\n",
        ")"
      ],
      "execution_count": null,
      "outputs": []
    },
    {
      "cell_type": "code",
      "metadata": {
        "id": "9Zuf8D1QXyzv",
        "colab_type": "code",
        "colab": {}
      },
      "source": [
        "# Begin fitting on the data\n",
        "use_pipelineModel = use_clf_pipeline.fit(trainDataset)"
      ],
      "execution_count": null,
      "outputs": []
    },
    {
      "cell_type": "code",
      "metadata": {
        "id": "1ZSdibQZXyzx",
        "colab_type": "code",
        "colab": {}
      },
      "source": [
        "# Set predictions on testDataset\n",
        "predictions = use_pipelineModel.transform(testDataset)"
      ],
      "execution_count": null,
      "outputs": []
    },
    {
      "cell_type": "code",
      "metadata": {
        "id": "NLxXZWFhXyzz",
        "colab_type": "code",
        "colab": {
          "base_uri": "https://localhost:8080/",
          "height": 255
        },
        "outputId": "0b89714e-4eec-4c44-a1f7-236794b1170d"
      },
      "source": [
        "predictions.select('_c7','_c13', 'class.result').show(10, truncate=80)"
      ],
      "execution_count": null,
      "outputs": [
        {
          "output_type": "stream",
          "text": [
            "+---+--------------------------------------------------------------------------------+------+\n",
            "|_c7|                                                                            _c13|result|\n",
            "+---+--------------------------------------------------------------------------------+------+\n",
            "|  5|                                                  Love it great add to collecton|   [5]|\n",
            "|  5|These paper lanterns are adorable! The colors are bright, the patterns are fu...|   [5]|\n",
            "|  1|         Showed up not how it's shown . Was someone's old toy. with paint on it.|   [5]|\n",
            "|  4|i like it but i absoloutely hate that some dolls don't have pets like this on...|   [5]|\n",
            "|  2|IT's OK, but not as good as the old Bite Meez puppets. This puppet is very th...|   [5]|\n",
            "|  5|                     It was a birthday present for my grandson and he LOVES IT!!|   [5]|\n",
            "|  1|This was to be a gift for my husband for our new pool. Did not receive the co...|   [5]|\n",
            "|  5|                                     We play this game quite a bit with friends.|   [5]|\n",
            "|  3|                                    The product is good, but the box was broken.|   [5]|\n",
            "+---+--------------------------------------------------------------------------------+------+\n",
            "\n"
          ],
          "name": "stdout"
        }
      ]
    },
    {
      "cell_type": "code",
      "metadata": {
        "id": "n-rVV7QmXyz1",
        "colab_type": "code",
        "colab": {}
      },
      "source": [
        "# Import reports for quantifying results\n",
        "from sklearn.metrics import classification_report, accuracy_score\n",
        "\n",
        "df = use_pipelineModel.transform(testDataset).select('_c7','_c13', 'class.result').toPandas()\n",
        "\n",
        "df['result'] = df['result'].apply(lambda x: x[0])"
      ],
      "execution_count": null,
      "outputs": []
    },
    {
      "cell_type": "code",
      "metadata": {
        "id": "y2uXluscsWGB",
        "colab_type": "code",
        "colab": {
          "base_uri": "https://localhost:8080/",
          "height": 292
        },
        "outputId": "bec1c9fe-e2dd-4146-d5e7-2fa866919254"
      },
      "source": [
        "print(classification_report(df._c7, df.result))\n",
        "print(accuracy_score(df._c7, df.result))"
      ],
      "execution_count": null,
      "outputs": [
        {
          "output_type": "stream",
          "text": [
            "              precision    recall  f1-score   support\n",
            "\n",
            "           1       0.00      0.00      0.00         2\n",
            "           2       0.00      0.00      0.00         1\n",
            "           3       0.00      0.00      0.00         1\n",
            "           4       0.00      0.00      0.00         1\n",
            "           5       0.44      1.00      0.62         4\n",
            "\n",
            "    accuracy                           0.44         9\n",
            "   macro avg       0.09      0.20      0.12         9\n",
            "weighted avg       0.20      0.44      0.27         9\n",
            "\n",
            "0.4444444444444444\n"
          ],
          "name": "stdout"
        },
        {
          "output_type": "stream",
          "text": [
            "/usr/local/lib/python3.6/dist-packages/sklearn/metrics/_classification.py:1272: UndefinedMetricWarning: Precision and F-score are ill-defined and being set to 0.0 in labels with no predicted samples. Use `zero_division` parameter to control this behavior.\n",
            "  _warn_prf(average, modifier, msg_start, len(result))\n"
          ],
          "name": "stderr"
        }
      ]
    },
    {
      "cell_type": "code",
      "metadata": {
        "id": "rs8I9rB1s4T0",
        "colab_type": "code",
        "colab": {}
      },
      "source": [
        ""
      ],
      "execution_count": null,
      "outputs": []
    }
  ]
}